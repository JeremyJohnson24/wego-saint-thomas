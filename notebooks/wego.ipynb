{
 "cells": [
  {
   "cell_type": "code",
   "execution_count": 2,
   "id": "1dfd0959-5faf-46e5-87e8-ba10f6ca9b0a",
   "metadata": {},
   "outputs": [],
   "source": [
    "import pandas as pd\n",
    "import matplotlib.pyplot as plt\n",
    "import seaborn as sns\n",
    "import numpy as np\n",
    "import re\n",
    "from pandas.api.types import CategoricalDtype"
   ]
  },
  {
   "cell_type": "code",
   "execution_count": 3,
   "id": "77d772d6-9da5-42a1-a4a8-bc1646c4ea32",
   "metadata": {},
   "outputs": [
    {
     "data": {
      "text/html": [
       "<div>\n",
       "<style scoped>\n",
       "    .dataframe tbody tr th:only-of-type {\n",
       "        vertical-align: middle;\n",
       "    }\n",
       "\n",
       "    .dataframe tbody tr th {\n",
       "        vertical-align: top;\n",
       "    }\n",
       "\n",
       "    .dataframe thead th {\n",
       "        text-align: right;\n",
       "    }\n",
       "</style>\n",
       "<table border=\"1\" class=\"dataframe\">\n",
       "  <thead>\n",
       "    <tr style=\"text-align: right;\">\n",
       "      <th></th>\n",
       "      <th>CALENDAR_ID</th>\n",
       "      <th>SERVICE_ABBR</th>\n",
       "      <th>ADHERENCE_ID</th>\n",
       "      <th>DATE</th>\n",
       "      <th>ROUTE_ABBR</th>\n",
       "      <th>BLOCK_ABBR</th>\n",
       "      <th>OPERATOR</th>\n",
       "      <th>TRIP_ID</th>\n",
       "      <th>OVERLOAD_ID</th>\n",
       "      <th>ROUTE_DIRECTION_NAME</th>\n",
       "      <th>...</th>\n",
       "      <th>ACTUAL_HDWY</th>\n",
       "      <th>HDWY_DEV</th>\n",
       "      <th>ADJUSTED_EARLY_COUNT</th>\n",
       "      <th>ADJUSTED_LATE_COUNT</th>\n",
       "      <th>ADJUSTED_ONTIME_COUNT</th>\n",
       "      <th>STOP_CANCELLED</th>\n",
       "      <th>PREV_SCHED_STOP_CANCELLED</th>\n",
       "      <th>IS_RELIEF</th>\n",
       "      <th>DWELL_IN_MINS</th>\n",
       "      <th>SCHEDULED_LAYOVER_MINUTES</th>\n",
       "    </tr>\n",
       "  </thead>\n",
       "  <tbody>\n",
       "    <tr>\n",
       "      <th>0</th>\n",
       "      <td>120230801</td>\n",
       "      <td>1</td>\n",
       "      <td>99457890</td>\n",
       "      <td>2023-08-01</td>\n",
       "      <td>22</td>\n",
       "      <td>2200</td>\n",
       "      <td>1040</td>\n",
       "      <td>345104</td>\n",
       "      <td>0</td>\n",
       "      <td>TO DOWNTOWN</td>\n",
       "      <td>...</td>\n",
       "      <td>NaN</td>\n",
       "      <td>NaN</td>\n",
       "      <td>0</td>\n",
       "      <td>0</td>\n",
       "      <td>1</td>\n",
       "      <td>0</td>\n",
       "      <td>0.0</td>\n",
       "      <td>0</td>\n",
       "      <td>6.500000</td>\n",
       "      <td>NaN</td>\n",
       "    </tr>\n",
       "    <tr>\n",
       "      <th>1</th>\n",
       "      <td>120230801</td>\n",
       "      <td>1</td>\n",
       "      <td>99457891</td>\n",
       "      <td>2023-08-01</td>\n",
       "      <td>22</td>\n",
       "      <td>2200</td>\n",
       "      <td>1040</td>\n",
       "      <td>345104</td>\n",
       "      <td>0</td>\n",
       "      <td>TO DOWNTOWN</td>\n",
       "      <td>...</td>\n",
       "      <td>NaN</td>\n",
       "      <td>NaN</td>\n",
       "      <td>0</td>\n",
       "      <td>0</td>\n",
       "      <td>1</td>\n",
       "      <td>0</td>\n",
       "      <td>0.0</td>\n",
       "      <td>0</td>\n",
       "      <td>0.000000</td>\n",
       "      <td>NaN</td>\n",
       "    </tr>\n",
       "    <tr>\n",
       "      <th>2</th>\n",
       "      <td>120230801</td>\n",
       "      <td>1</td>\n",
       "      <td>99457892</td>\n",
       "      <td>2023-08-01</td>\n",
       "      <td>22</td>\n",
       "      <td>2200</td>\n",
       "      <td>1040</td>\n",
       "      <td>345104</td>\n",
       "      <td>0</td>\n",
       "      <td>TO DOWNTOWN</td>\n",
       "      <td>...</td>\n",
       "      <td>NaN</td>\n",
       "      <td>NaN</td>\n",
       "      <td>0</td>\n",
       "      <td>0</td>\n",
       "      <td>1</td>\n",
       "      <td>0</td>\n",
       "      <td>0.0</td>\n",
       "      <td>0</td>\n",
       "      <td>0.000000</td>\n",
       "      <td>NaN</td>\n",
       "    </tr>\n",
       "    <tr>\n",
       "      <th>3</th>\n",
       "      <td>120230801</td>\n",
       "      <td>1</td>\n",
       "      <td>99457893</td>\n",
       "      <td>2023-08-01</td>\n",
       "      <td>22</td>\n",
       "      <td>2200</td>\n",
       "      <td>1040</td>\n",
       "      <td>345104</td>\n",
       "      <td>0</td>\n",
       "      <td>TO DOWNTOWN</td>\n",
       "      <td>...</td>\n",
       "      <td>NaN</td>\n",
       "      <td>NaN</td>\n",
       "      <td>0</td>\n",
       "      <td>0</td>\n",
       "      <td>1</td>\n",
       "      <td>0</td>\n",
       "      <td>NaN</td>\n",
       "      <td>0</td>\n",
       "      <td>0.000000</td>\n",
       "      <td>NaN</td>\n",
       "    </tr>\n",
       "    <tr>\n",
       "      <th>4</th>\n",
       "      <td>120230801</td>\n",
       "      <td>1</td>\n",
       "      <td>99457894</td>\n",
       "      <td>2023-08-01</td>\n",
       "      <td>22</td>\n",
       "      <td>2200</td>\n",
       "      <td>1040</td>\n",
       "      <td>345105</td>\n",
       "      <td>0</td>\n",
       "      <td>FROM DOWNTOWN</td>\n",
       "      <td>...</td>\n",
       "      <td>NaN</td>\n",
       "      <td>NaN</td>\n",
       "      <td>0</td>\n",
       "      <td>0</td>\n",
       "      <td>1</td>\n",
       "      <td>0</td>\n",
       "      <td>0.0</td>\n",
       "      <td>0</td>\n",
       "      <td>12.866666</td>\n",
       "      <td>5.0</td>\n",
       "    </tr>\n",
       "  </tbody>\n",
       "</table>\n",
       "<p>5 rows × 30 columns</p>\n",
       "</div>"
      ],
      "text/plain": [
       "   CALENDAR_ID  SERVICE_ABBR  ADHERENCE_ID        DATE  ROUTE_ABBR  \\\n",
       "0    120230801             1      99457890  2023-08-01          22   \n",
       "1    120230801             1      99457891  2023-08-01          22   \n",
       "2    120230801             1      99457892  2023-08-01          22   \n",
       "3    120230801             1      99457893  2023-08-01          22   \n",
       "4    120230801             1      99457894  2023-08-01          22   \n",
       "\n",
       "   BLOCK_ABBR  OPERATOR  TRIP_ID  OVERLOAD_ID ROUTE_DIRECTION_NAME  ...  \\\n",
       "0        2200      1040   345104            0          TO DOWNTOWN  ...   \n",
       "1        2200      1040   345104            0          TO DOWNTOWN  ...   \n",
       "2        2200      1040   345104            0          TO DOWNTOWN  ...   \n",
       "3        2200      1040   345104            0          TO DOWNTOWN  ...   \n",
       "4        2200      1040   345105            0        FROM DOWNTOWN  ...   \n",
       "\n",
       "  ACTUAL_HDWY  HDWY_DEV  ADJUSTED_EARLY_COUNT  ADJUSTED_LATE_COUNT  \\\n",
       "0         NaN       NaN                     0                    0   \n",
       "1         NaN       NaN                     0                    0   \n",
       "2         NaN       NaN                     0                    0   \n",
       "3         NaN       NaN                     0                    0   \n",
       "4         NaN       NaN                     0                    0   \n",
       "\n",
       "   ADJUSTED_ONTIME_COUNT STOP_CANCELLED PREV_SCHED_STOP_CANCELLED IS_RELIEF  \\\n",
       "0                      1              0                       0.0         0   \n",
       "1                      1              0                       0.0         0   \n",
       "2                      1              0                       0.0         0   \n",
       "3                      1              0                       NaN         0   \n",
       "4                      1              0                       0.0         0   \n",
       "\n",
       "   DWELL_IN_MINS  SCHEDULED_LAYOVER_MINUTES  \n",
       "0       6.500000                        NaN  \n",
       "1       0.000000                        NaN  \n",
       "2       0.000000                        NaN  \n",
       "3       0.000000                        NaN  \n",
       "4      12.866666                        5.0  \n",
       "\n",
       "[5 rows x 30 columns]"
      ]
     },
     "execution_count": 3,
     "metadata": {},
     "output_type": "execute_result"
    }
   ],
   "source": [
    "wego_df = pd.read_csv(\"../data/Headway Data, 8-1-2023 to 9-30-2023.csv\")\n",
    "wego_df.head()"
   ]
  },
  {
   "cell_type": "code",
   "execution_count": 4,
   "id": "4b46a971-76fc-419c-bc77-d2b611eee3d7",
   "metadata": {},
   "outputs": [
    {
     "data": {
      "text/html": [
       "<div>\n",
       "<style scoped>\n",
       "    .dataframe tbody tr th:only-of-type {\n",
       "        vertical-align: middle;\n",
       "    }\n",
       "\n",
       "    .dataframe tbody tr th {\n",
       "        vertical-align: top;\n",
       "    }\n",
       "\n",
       "    .dataframe thead th {\n",
       "        text-align: right;\n",
       "    }\n",
       "</style>\n",
       "<table border=\"1\" class=\"dataframe\">\n",
       "  <thead>\n",
       "    <tr style=\"text-align: right;\">\n",
       "      <th></th>\n",
       "      <th>CALENDAR_ID</th>\n",
       "      <th>SERVICE_ABBR</th>\n",
       "      <th>ADHERENCE_ID</th>\n",
       "      <th>DATE</th>\n",
       "      <th>ROUTE_ABBR</th>\n",
       "      <th>BLOCK_ABBR</th>\n",
       "      <th>OPERATOR</th>\n",
       "      <th>TRIP_ID</th>\n",
       "      <th>OVERLOAD_ID</th>\n",
       "      <th>ROUTE_DIRECTION_NAME</th>\n",
       "      <th>...</th>\n",
       "      <th>ACTUAL_HDWY</th>\n",
       "      <th>HDWY_DEV</th>\n",
       "      <th>ADJUSTED_EARLY_COUNT</th>\n",
       "      <th>ADJUSTED_LATE_COUNT</th>\n",
       "      <th>ADJUSTED_ONTIME_COUNT</th>\n",
       "      <th>STOP_CANCELLED</th>\n",
       "      <th>PREV_SCHED_STOP_CANCELLED</th>\n",
       "      <th>IS_RELIEF</th>\n",
       "      <th>DWELL_IN_MINS</th>\n",
       "      <th>SCHEDULED_LAYOVER_MINUTES</th>\n",
       "    </tr>\n",
       "  </thead>\n",
       "  <tbody>\n",
       "    <tr>\n",
       "      <th>0</th>\n",
       "      <td>120230801</td>\n",
       "      <td>1</td>\n",
       "      <td>99457890</td>\n",
       "      <td>2023-08-01</td>\n",
       "      <td>22</td>\n",
       "      <td>2200</td>\n",
       "      <td>1040</td>\n",
       "      <td>345104</td>\n",
       "      <td>0</td>\n",
       "      <td>TO DOWNTOWN</td>\n",
       "      <td>...</td>\n",
       "      <td>NaN</td>\n",
       "      <td>NaN</td>\n",
       "      <td>0</td>\n",
       "      <td>0</td>\n",
       "      <td>1</td>\n",
       "      <td>0</td>\n",
       "      <td>0.0</td>\n",
       "      <td>0</td>\n",
       "      <td>6.500000</td>\n",
       "      <td>NaN</td>\n",
       "    </tr>\n",
       "    <tr>\n",
       "      <th>1</th>\n",
       "      <td>120230801</td>\n",
       "      <td>1</td>\n",
       "      <td>99457891</td>\n",
       "      <td>2023-08-01</td>\n",
       "      <td>22</td>\n",
       "      <td>2200</td>\n",
       "      <td>1040</td>\n",
       "      <td>345104</td>\n",
       "      <td>0</td>\n",
       "      <td>TO DOWNTOWN</td>\n",
       "      <td>...</td>\n",
       "      <td>NaN</td>\n",
       "      <td>NaN</td>\n",
       "      <td>0</td>\n",
       "      <td>0</td>\n",
       "      <td>1</td>\n",
       "      <td>0</td>\n",
       "      <td>0.0</td>\n",
       "      <td>0</td>\n",
       "      <td>0.000000</td>\n",
       "      <td>NaN</td>\n",
       "    </tr>\n",
       "    <tr>\n",
       "      <th>2</th>\n",
       "      <td>120230801</td>\n",
       "      <td>1</td>\n",
       "      <td>99457892</td>\n",
       "      <td>2023-08-01</td>\n",
       "      <td>22</td>\n",
       "      <td>2200</td>\n",
       "      <td>1040</td>\n",
       "      <td>345104</td>\n",
       "      <td>0</td>\n",
       "      <td>TO DOWNTOWN</td>\n",
       "      <td>...</td>\n",
       "      <td>NaN</td>\n",
       "      <td>NaN</td>\n",
       "      <td>0</td>\n",
       "      <td>0</td>\n",
       "      <td>1</td>\n",
       "      <td>0</td>\n",
       "      <td>0.0</td>\n",
       "      <td>0</td>\n",
       "      <td>0.000000</td>\n",
       "      <td>NaN</td>\n",
       "    </tr>\n",
       "    <tr>\n",
       "      <th>3</th>\n",
       "      <td>120230801</td>\n",
       "      <td>1</td>\n",
       "      <td>99457893</td>\n",
       "      <td>2023-08-01</td>\n",
       "      <td>22</td>\n",
       "      <td>2200</td>\n",
       "      <td>1040</td>\n",
       "      <td>345104</td>\n",
       "      <td>0</td>\n",
       "      <td>TO DOWNTOWN</td>\n",
       "      <td>...</td>\n",
       "      <td>NaN</td>\n",
       "      <td>NaN</td>\n",
       "      <td>0</td>\n",
       "      <td>0</td>\n",
       "      <td>1</td>\n",
       "      <td>0</td>\n",
       "      <td>NaN</td>\n",
       "      <td>0</td>\n",
       "      <td>0.000000</td>\n",
       "      <td>NaN</td>\n",
       "    </tr>\n",
       "    <tr>\n",
       "      <th>4</th>\n",
       "      <td>120230801</td>\n",
       "      <td>1</td>\n",
       "      <td>99457894</td>\n",
       "      <td>2023-08-01</td>\n",
       "      <td>22</td>\n",
       "      <td>2200</td>\n",
       "      <td>1040</td>\n",
       "      <td>345105</td>\n",
       "      <td>0</td>\n",
       "      <td>FROM DOWNTOWN</td>\n",
       "      <td>...</td>\n",
       "      <td>NaN</td>\n",
       "      <td>NaN</td>\n",
       "      <td>0</td>\n",
       "      <td>0</td>\n",
       "      <td>1</td>\n",
       "      <td>0</td>\n",
       "      <td>0.0</td>\n",
       "      <td>0</td>\n",
       "      <td>12.866666</td>\n",
       "      <td>5.0</td>\n",
       "    </tr>\n",
       "    <tr>\n",
       "      <th>...</th>\n",
       "      <td>...</td>\n",
       "      <td>...</td>\n",
       "      <td>...</td>\n",
       "      <td>...</td>\n",
       "      <td>...</td>\n",
       "      <td>...</td>\n",
       "      <td>...</td>\n",
       "      <td>...</td>\n",
       "      <td>...</td>\n",
       "      <td>...</td>\n",
       "      <td>...</td>\n",
       "      <td>...</td>\n",
       "      <td>...</td>\n",
       "      <td>...</td>\n",
       "      <td>...</td>\n",
       "      <td>...</td>\n",
       "      <td>...</td>\n",
       "      <td>...</td>\n",
       "      <td>...</td>\n",
       "      <td>...</td>\n",
       "      <td>...</td>\n",
       "    </tr>\n",
       "    <tr>\n",
       "      <th>350324</th>\n",
       "      <td>120230930</td>\n",
       "      <td>2</td>\n",
       "      <td>100406610</td>\n",
       "      <td>2023-09-30</td>\n",
       "      <td>7</td>\n",
       "      <td>702</td>\n",
       "      <td>2312</td>\n",
       "      <td>353448</td>\n",
       "      <td>0</td>\n",
       "      <td>TO DOWNTOWN</td>\n",
       "      <td>...</td>\n",
       "      <td>35.266666</td>\n",
       "      <td>5.266666</td>\n",
       "      <td>0</td>\n",
       "      <td>1</td>\n",
       "      <td>0</td>\n",
       "      <td>0</td>\n",
       "      <td>0.0</td>\n",
       "      <td>0</td>\n",
       "      <td>0.000000</td>\n",
       "      <td>NaN</td>\n",
       "    </tr>\n",
       "    <tr>\n",
       "      <th>350325</th>\n",
       "      <td>120230930</td>\n",
       "      <td>2</td>\n",
       "      <td>100406611</td>\n",
       "      <td>2023-09-30</td>\n",
       "      <td>7</td>\n",
       "      <td>702</td>\n",
       "      <td>2312</td>\n",
       "      <td>353448</td>\n",
       "      <td>0</td>\n",
       "      <td>TO DOWNTOWN</td>\n",
       "      <td>...</td>\n",
       "      <td>NaN</td>\n",
       "      <td>NaN</td>\n",
       "      <td>0</td>\n",
       "      <td>1</td>\n",
       "      <td>0</td>\n",
       "      <td>0</td>\n",
       "      <td>NaN</td>\n",
       "      <td>0</td>\n",
       "      <td>0.000000</td>\n",
       "      <td>NaN</td>\n",
       "    </tr>\n",
       "    <tr>\n",
       "      <th>350326</th>\n",
       "      <td>120230930</td>\n",
       "      <td>2</td>\n",
       "      <td>100406612</td>\n",
       "      <td>2023-09-30</td>\n",
       "      <td>7</td>\n",
       "      <td>702</td>\n",
       "      <td>2312</td>\n",
       "      <td>353449</td>\n",
       "      <td>0</td>\n",
       "      <td>FROM DOWNTOWN</td>\n",
       "      <td>...</td>\n",
       "      <td>31.866666</td>\n",
       "      <td>1.866666</td>\n",
       "      <td>0</td>\n",
       "      <td>0</td>\n",
       "      <td>1</td>\n",
       "      <td>0</td>\n",
       "      <td>0.0</td>\n",
       "      <td>0</td>\n",
       "      <td>0.000000</td>\n",
       "      <td>NaN</td>\n",
       "    </tr>\n",
       "    <tr>\n",
       "      <th>350327</th>\n",
       "      <td>120230930</td>\n",
       "      <td>2</td>\n",
       "      <td>100406613</td>\n",
       "      <td>2023-09-30</td>\n",
       "      <td>7</td>\n",
       "      <td>702</td>\n",
       "      <td>2312</td>\n",
       "      <td>353449</td>\n",
       "      <td>0</td>\n",
       "      <td>FROM DOWNTOWN</td>\n",
       "      <td>...</td>\n",
       "      <td>47.500000</td>\n",
       "      <td>17.500000</td>\n",
       "      <td>0</td>\n",
       "      <td>1</td>\n",
       "      <td>0</td>\n",
       "      <td>0</td>\n",
       "      <td>0.0</td>\n",
       "      <td>0</td>\n",
       "      <td>0.000000</td>\n",
       "      <td>NaN</td>\n",
       "    </tr>\n",
       "    <tr>\n",
       "      <th>350328</th>\n",
       "      <td>120230930</td>\n",
       "      <td>2</td>\n",
       "      <td>100406614</td>\n",
       "      <td>2023-09-30</td>\n",
       "      <td>7</td>\n",
       "      <td>702</td>\n",
       "      <td>2312</td>\n",
       "      <td>353449</td>\n",
       "      <td>0</td>\n",
       "      <td>FROM DOWNTOWN</td>\n",
       "      <td>...</td>\n",
       "      <td>NaN</td>\n",
       "      <td>NaN</td>\n",
       "      <td>0</td>\n",
       "      <td>1</td>\n",
       "      <td>0</td>\n",
       "      <td>0</td>\n",
       "      <td>NaN</td>\n",
       "      <td>0</td>\n",
       "      <td>3.216666</td>\n",
       "      <td>NaN</td>\n",
       "    </tr>\n",
       "  </tbody>\n",
       "</table>\n",
       "<p>350329 rows × 30 columns</p>\n",
       "</div>"
      ],
      "text/plain": [
       "        CALENDAR_ID  SERVICE_ABBR  ADHERENCE_ID        DATE  ROUTE_ABBR  \\\n",
       "0         120230801             1      99457890  2023-08-01          22   \n",
       "1         120230801             1      99457891  2023-08-01          22   \n",
       "2         120230801             1      99457892  2023-08-01          22   \n",
       "3         120230801             1      99457893  2023-08-01          22   \n",
       "4         120230801             1      99457894  2023-08-01          22   \n",
       "...             ...           ...           ...         ...         ...   \n",
       "350324    120230930             2     100406610  2023-09-30           7   \n",
       "350325    120230930             2     100406611  2023-09-30           7   \n",
       "350326    120230930             2     100406612  2023-09-30           7   \n",
       "350327    120230930             2     100406613  2023-09-30           7   \n",
       "350328    120230930             2     100406614  2023-09-30           7   \n",
       "\n",
       "        BLOCK_ABBR  OPERATOR  TRIP_ID  OVERLOAD_ID ROUTE_DIRECTION_NAME  ...  \\\n",
       "0             2200      1040   345104            0          TO DOWNTOWN  ...   \n",
       "1             2200      1040   345104            0          TO DOWNTOWN  ...   \n",
       "2             2200      1040   345104            0          TO DOWNTOWN  ...   \n",
       "3             2200      1040   345104            0          TO DOWNTOWN  ...   \n",
       "4             2200      1040   345105            0        FROM DOWNTOWN  ...   \n",
       "...            ...       ...      ...          ...                  ...  ...   \n",
       "350324         702      2312   353448            0          TO DOWNTOWN  ...   \n",
       "350325         702      2312   353448            0          TO DOWNTOWN  ...   \n",
       "350326         702      2312   353449            0        FROM DOWNTOWN  ...   \n",
       "350327         702      2312   353449            0        FROM DOWNTOWN  ...   \n",
       "350328         702      2312   353449            0        FROM DOWNTOWN  ...   \n",
       "\n",
       "       ACTUAL_HDWY   HDWY_DEV  ADJUSTED_EARLY_COUNT  ADJUSTED_LATE_COUNT  \\\n",
       "0              NaN        NaN                     0                    0   \n",
       "1              NaN        NaN                     0                    0   \n",
       "2              NaN        NaN                     0                    0   \n",
       "3              NaN        NaN                     0                    0   \n",
       "4              NaN        NaN                     0                    0   \n",
       "...            ...        ...                   ...                  ...   \n",
       "350324   35.266666   5.266666                     0                    1   \n",
       "350325         NaN        NaN                     0                    1   \n",
       "350326   31.866666   1.866666                     0                    0   \n",
       "350327   47.500000  17.500000                     0                    1   \n",
       "350328         NaN        NaN                     0                    1   \n",
       "\n",
       "        ADJUSTED_ONTIME_COUNT STOP_CANCELLED PREV_SCHED_STOP_CANCELLED  \\\n",
       "0                           1              0                       0.0   \n",
       "1                           1              0                       0.0   \n",
       "2                           1              0                       0.0   \n",
       "3                           1              0                       NaN   \n",
       "4                           1              0                       0.0   \n",
       "...                       ...            ...                       ...   \n",
       "350324                      0              0                       0.0   \n",
       "350325                      0              0                       NaN   \n",
       "350326                      1              0                       0.0   \n",
       "350327                      0              0                       0.0   \n",
       "350328                      0              0                       NaN   \n",
       "\n",
       "       IS_RELIEF  DWELL_IN_MINS  SCHEDULED_LAYOVER_MINUTES  \n",
       "0              0       6.500000                        NaN  \n",
       "1              0       0.000000                        NaN  \n",
       "2              0       0.000000                        NaN  \n",
       "3              0       0.000000                        NaN  \n",
       "4              0      12.866666                        5.0  \n",
       "...          ...            ...                        ...  \n",
       "350324         0       0.000000                        NaN  \n",
       "350325         0       0.000000                        NaN  \n",
       "350326         0       0.000000                        NaN  \n",
       "350327         0       0.000000                        NaN  \n",
       "350328         0       3.216666                        NaN  \n",
       "\n",
       "[350329 rows x 30 columns]"
      ]
     },
     "execution_count": 4,
     "metadata": {},
     "output_type": "execute_result"
    }
   ],
   "source": [
    "wego_df"
   ]
  },
  {
   "cell_type": "code",
   "execution_count": 5,
   "id": "fc252ddc-9c82-44bf-92c6-4bdd352d89bb",
   "metadata": {},
   "outputs": [
    {
     "name": "stdout",
     "output_type": "stream",
     "text": [
      "<class 'pandas.core.frame.DataFrame'>\n",
      "RangeIndex: 350329 entries, 0 to 350328\n",
      "Data columns (total 30 columns):\n",
      " #   Column                     Non-Null Count   Dtype  \n",
      "---  ------                     --------------   -----  \n",
      " 0   CALENDAR_ID                350329 non-null  int64  \n",
      " 1   SERVICE_ABBR               350329 non-null  int64  \n",
      " 2   ADHERENCE_ID               350329 non-null  int64  \n",
      " 3   DATE                       350329 non-null  object \n",
      " 4   ROUTE_ABBR                 350329 non-null  int64  \n",
      " 5   BLOCK_ABBR                 350329 non-null  int64  \n",
      " 6   OPERATOR                   350329 non-null  int64  \n",
      " 7   TRIP_ID                    350329 non-null  int64  \n",
      " 8   OVERLOAD_ID                350329 non-null  int64  \n",
      " 9   ROUTE_DIRECTION_NAME       350329 non-null  object \n",
      " 10  TIME_POINT_ABBR            350329 non-null  object \n",
      " 11  ROUTE_STOP_SEQUENCE        350318 non-null  float64\n",
      " 12  TRIP_EDGE                  350329 non-null  int64  \n",
      " 13  LATITUDE                   350329 non-null  float64\n",
      " 14  LONGITUDE                  350329 non-null  float64\n",
      " 15  SCHEDULED_TIME             350329 non-null  object \n",
      " 16  ACTUAL_ARRIVAL_TIME        338870 non-null  object \n",
      " 17  ACTUAL_DEPARTURE_TIME      338861 non-null  object \n",
      " 18  ADHERENCE                  338861 non-null  float64\n",
      " 19  SCHEDULED_HDWY             274738 non-null  float64\n",
      " 20  ACTUAL_HDWY                266062 non-null  float64\n",
      " 21  HDWY_DEV                   265893 non-null  float64\n",
      " 22  ADJUSTED_EARLY_COUNT       350329 non-null  int64  \n",
      " 23  ADJUSTED_LATE_COUNT        350329 non-null  int64  \n",
      " 24  ADJUSTED_ONTIME_COUNT      350329 non-null  int64  \n",
      " 25  STOP_CANCELLED             350329 non-null  int64  \n",
      " 26  PREV_SCHED_STOP_CANCELLED  280000 non-null  float64\n",
      " 27  IS_RELIEF                  350329 non-null  int64  \n",
      " 28  DWELL_IN_MINS              338858 non-null  float64\n",
      " 29  SCHEDULED_LAYOVER_MINUTES  53102 non-null   float64\n",
      "dtypes: float64(10), int64(14), object(6)\n",
      "memory usage: 80.2+ MB\n"
     ]
    }
   ],
   "source": [
    "wego_df.info()"
   ]
  },
  {
   "cell_type": "code",
   "execution_count": 6,
   "id": "8b4b673b-96ca-450d-b4f3-03a3cbbc86e7",
   "metadata": {},
   "outputs": [],
   "source": [
    "wego_df['DATE_1'] = pd.to_datetime(wego_df['DATE'])"
   ]
  },
  {
   "cell_type": "code",
   "execution_count": 7,
   "id": "954d757f-9925-4492-9ac3-ec3d44405790",
   "metadata": {},
   "outputs": [
    {
     "name": "stdout",
     "output_type": "stream",
     "text": [
      "<class 'pandas.core.frame.DataFrame'>\n",
      "RangeIndex: 350329 entries, 0 to 350328\n",
      "Data columns (total 31 columns):\n",
      " #   Column                     Non-Null Count   Dtype         \n",
      "---  ------                     --------------   -----         \n",
      " 0   CALENDAR_ID                350329 non-null  int64         \n",
      " 1   SERVICE_ABBR               350329 non-null  int64         \n",
      " 2   ADHERENCE_ID               350329 non-null  int64         \n",
      " 3   DATE                       350329 non-null  object        \n",
      " 4   ROUTE_ABBR                 350329 non-null  int64         \n",
      " 5   BLOCK_ABBR                 350329 non-null  int64         \n",
      " 6   OPERATOR                   350329 non-null  int64         \n",
      " 7   TRIP_ID                    350329 non-null  int64         \n",
      " 8   OVERLOAD_ID                350329 non-null  int64         \n",
      " 9   ROUTE_DIRECTION_NAME       350329 non-null  object        \n",
      " 10  TIME_POINT_ABBR            350329 non-null  object        \n",
      " 11  ROUTE_STOP_SEQUENCE        350318 non-null  float64       \n",
      " 12  TRIP_EDGE                  350329 non-null  int64         \n",
      " 13  LATITUDE                   350329 non-null  float64       \n",
      " 14  LONGITUDE                  350329 non-null  float64       \n",
      " 15  SCHEDULED_TIME             350329 non-null  object        \n",
      " 16  ACTUAL_ARRIVAL_TIME        338870 non-null  object        \n",
      " 17  ACTUAL_DEPARTURE_TIME      338861 non-null  object        \n",
      " 18  ADHERENCE                  338861 non-null  float64       \n",
      " 19  SCHEDULED_HDWY             274738 non-null  float64       \n",
      " 20  ACTUAL_HDWY                266062 non-null  float64       \n",
      " 21  HDWY_DEV                   265893 non-null  float64       \n",
      " 22  ADJUSTED_EARLY_COUNT       350329 non-null  int64         \n",
      " 23  ADJUSTED_LATE_COUNT        350329 non-null  int64         \n",
      " 24  ADJUSTED_ONTIME_COUNT      350329 non-null  int64         \n",
      " 25  STOP_CANCELLED             350329 non-null  int64         \n",
      " 26  PREV_SCHED_STOP_CANCELLED  280000 non-null  float64       \n",
      " 27  IS_RELIEF                  350329 non-null  int64         \n",
      " 28  DWELL_IN_MINS              338858 non-null  float64       \n",
      " 29  SCHEDULED_LAYOVER_MINUTES  53102 non-null   float64       \n",
      " 30  DATE_1                     350329 non-null  datetime64[ns]\n",
      "dtypes: datetime64[ns](1), float64(10), int64(14), object(6)\n",
      "memory usage: 82.9+ MB\n"
     ]
    }
   ],
   "source": [
    "wego_df.info()"
   ]
  },
  {
   "cell_type": "code",
   "execution_count": 8,
   "id": "4186f969-c77d-411f-8abb-cfd3995f0dc9",
   "metadata": {},
   "outputs": [],
   "source": [
    "day_order = pd.Categorical(['Monday', 'Tuesday', 'Wednesday', 'Thursday', 'Friday', 'Saturday', 'Sunday'], ordered = True)"
   ]
  },
  {
   "cell_type": "code",
   "execution_count": 9,
   "id": "c1fee268-1d62-4834-9f68-ede144b01217",
   "metadata": {},
   "outputs": [
    {
     "data": {
      "text/html": [
       "<div>\n",
       "<style scoped>\n",
       "    .dataframe tbody tr th:only-of-type {\n",
       "        vertical-align: middle;\n",
       "    }\n",
       "\n",
       "    .dataframe tbody tr th {\n",
       "        vertical-align: top;\n",
       "    }\n",
       "\n",
       "    .dataframe thead th {\n",
       "        text-align: right;\n",
       "    }\n",
       "</style>\n",
       "<table border=\"1\" class=\"dataframe\">\n",
       "  <thead>\n",
       "    <tr style=\"text-align: right;\">\n",
       "      <th></th>\n",
       "      <th>DAY</th>\n",
       "      <th>count</th>\n",
       "    </tr>\n",
       "  </thead>\n",
       "  <tbody>\n",
       "    <tr>\n",
       "      <th>0</th>\n",
       "      <td>Wednesday</td>\n",
       "      <td>58527</td>\n",
       "    </tr>\n",
       "    <tr>\n",
       "      <th>1</th>\n",
       "      <td>Friday</td>\n",
       "      <td>58473</td>\n",
       "    </tr>\n",
       "    <tr>\n",
       "      <th>2</th>\n",
       "      <td>Thursday</td>\n",
       "      <td>58456</td>\n",
       "    </tr>\n",
       "    <tr>\n",
       "      <th>3</th>\n",
       "      <td>Tuesday</td>\n",
       "      <td>58432</td>\n",
       "    </tr>\n",
       "    <tr>\n",
       "      <th>4</th>\n",
       "      <td>Monday</td>\n",
       "      <td>49116</td>\n",
       "    </tr>\n",
       "    <tr>\n",
       "      <th>5</th>\n",
       "      <td>Saturday</td>\n",
       "      <td>37497</td>\n",
       "    </tr>\n",
       "    <tr>\n",
       "      <th>6</th>\n",
       "      <td>Sunday</td>\n",
       "      <td>29828</td>\n",
       "    </tr>\n",
       "  </tbody>\n",
       "</table>\n",
       "</div>"
      ],
      "text/plain": [
       "         DAY  count\n",
       "0  Wednesday  58527\n",
       "1     Friday  58473\n",
       "2   Thursday  58456\n",
       "3    Tuesday  58432\n",
       "4     Monday  49116\n",
       "5   Saturday  37497\n",
       "6     Sunday  29828"
      ]
     },
     "execution_count": 9,
     "metadata": {},
     "output_type": "execute_result"
    }
   ],
   "source": [
    "wego_df['DAY'] = wego_df['DATE_1'].dt.day_name()\n",
    "wego_days_of_the_week = wego_df['DAY'].value_counts().reset_index()\n",
    "wego_days_of_the_week"
   ]
  },
  {
   "cell_type": "code",
   "execution_count": 10,
   "id": "107d026d-c990-4830-a7d8-2686c87c6196",
   "metadata": {},
   "outputs": [
    {
     "data": {
      "text/html": [
       "<div>\n",
       "<style scoped>\n",
       "    .dataframe tbody tr th:only-of-type {\n",
       "        vertical-align: middle;\n",
       "    }\n",
       "\n",
       "    .dataframe tbody tr th {\n",
       "        vertical-align: top;\n",
       "    }\n",
       "\n",
       "    .dataframe thead th {\n",
       "        text-align: right;\n",
       "    }\n",
       "</style>\n",
       "<table border=\"1\" class=\"dataframe\">\n",
       "  <thead>\n",
       "    <tr style=\"text-align: right;\">\n",
       "      <th></th>\n",
       "      <th>DAY</th>\n",
       "      <th>count</th>\n",
       "    </tr>\n",
       "  </thead>\n",
       "  <tbody>\n",
       "    <tr>\n",
       "      <th>0</th>\n",
       "      <td>Monday</td>\n",
       "      <td>49116</td>\n",
       "    </tr>\n",
       "    <tr>\n",
       "      <th>1</th>\n",
       "      <td>Tuesday</td>\n",
       "      <td>58432</td>\n",
       "    </tr>\n",
       "    <tr>\n",
       "      <th>2</th>\n",
       "      <td>Wednesday</td>\n",
       "      <td>58527</td>\n",
       "    </tr>\n",
       "    <tr>\n",
       "      <th>3</th>\n",
       "      <td>Thursday</td>\n",
       "      <td>58456</td>\n",
       "    </tr>\n",
       "    <tr>\n",
       "      <th>4</th>\n",
       "      <td>Friday</td>\n",
       "      <td>58473</td>\n",
       "    </tr>\n",
       "    <tr>\n",
       "      <th>5</th>\n",
       "      <td>Saturday</td>\n",
       "      <td>37497</td>\n",
       "    </tr>\n",
       "    <tr>\n",
       "      <th>6</th>\n",
       "      <td>Sunday</td>\n",
       "      <td>29828</td>\n",
       "    </tr>\n",
       "  </tbody>\n",
       "</table>\n",
       "</div>"
      ],
      "text/plain": [
       "         DAY  count\n",
       "0     Monday  49116\n",
       "1    Tuesday  58432\n",
       "2  Wednesday  58527\n",
       "3   Thursday  58456\n",
       "4     Friday  58473\n",
       "5   Saturday  37497\n",
       "6     Sunday  29828"
      ]
     },
     "execution_count": 10,
     "metadata": {},
     "output_type": "execute_result"
    }
   ],
   "source": [
    "wego_days_of_the_week = wego_days_of_the_week.set_index('DAY').reindex(day_order).reset_index()\n",
    "wego_days_of_the_week.reset_index(drop = True)"
   ]
  },
  {
   "cell_type": "code",
   "execution_count": 11,
   "id": "859aedd5-5f87-450e-8db2-26e2dd09dc1b",
   "metadata": {},
   "outputs": [
    {
     "name": "stderr",
     "output_type": "stream",
     "text": [
      "C:\\Users\\Jeremy\\anaconda3\\Lib\\site-packages\\seaborn\\categorical.py:641: FutureWarning: The default of observed=False is deprecated and will be changed to True in a future version of pandas. Pass observed=False to retain current behavior or observed=True to adopt the future default and silence this warning.\n",
      "  grouped_vals = vals.groupby(grouper)\n"
     ]
    },
    {
     "data": {
      "image/png": "[encoded data removed]",
      "text/plain": [
       "<Figure size 1000x600 with 1 Axes>"
      ]
     },
     "metadata": {},
     "output_type": "display_data"
    }
   ],
   "source": [
    "\n",
    "plt.figure(figsize=(10, 6))\n",
    "sns.barplot(data=wego_days_of_the_week,\n",
    "            x='DAY',\n",
    "            y='count',\n",
    "            palette='Purples_d',\n",
    "            order= wego_days_of_the_week.DAY)  \n",
    "plt.xticks(rotation=45)  \n",
    "plt.xlabel('Day Of The Week')\n",
    "plt.ylabel('Stop Counts')\n",
    "plt.title('Counts Of Stops By Day')\n",
    "plt.savefig(\"count_of_stops_by_day.png\")\n",
    "plt.show()"
   ]
  },
  {
   "cell_type": "code",
   "execution_count": 12,
   "id": "36ebaa4a-1e5a-476b-a797-26377291fdd0",
   "metadata": {},
   "outputs": [],
   "source": [
    "wego_monday = wego_df.loc[wego_df.DAY == 'Monday'] ##49116"
   ]
  },
  {
   "cell_type": "code",
   "execution_count": 13,
   "id": "aab90581-8e9d-4acb-8dd1-1c702780fa51",
   "metadata": {},
   "outputs": [],
   "source": [
    "## wego_monday[['ADJUSTED_EARLY_COUNT', 'ADJUSTED_LATE_COUNT', 'ADJUSTED_ONTIME_COUNT' ]].value_counts()"
   ]
  },
  {
   "cell_type": "code",
   "execution_count": 14,
   "id": "f4bbc7c6-2748-4459-b292-28e1268e0957",
   "metadata": {},
   "outputs": [
    {
     "data": {
      "text/plain": [
       "ADJUSTED_EARLY_COUNT\n",
       "0    47451\n",
       "1     1665\n",
       "Name: count, dtype: int64"
      ]
     },
     "execution_count": 14,
     "metadata": {},
     "output_type": "execute_result"
    }
   ],
   "source": [
    "wego_monday['ADJUSTED_EARLY_COUNT'].value_counts()"
   ]
  },
  {
   "cell_type": "code",
   "execution_count": 15,
   "id": "909114cb-408a-4ecd-a233-12d05312a13f",
   "metadata": {},
   "outputs": [
    {
     "data": {
      "text/plain": [
       "3.389934033716101"
      ]
     },
     "execution_count": 15,
     "metadata": {},
     "output_type": "execute_result"
    }
   ],
   "source": [
    "(1665/49116)*100"
   ]
  },
  {
   "cell_type": "code",
   "execution_count": 16,
   "id": "de116555-1825-45af-a033-220a84c08f49",
   "metadata": {},
   "outputs": [
    {
     "data": {
      "text/plain": [
       "ADJUSTED_LATE_COUNT\n",
       "0    43111\n",
       "1     6005\n",
       "Name: count, dtype: int64"
      ]
     },
     "execution_count": 16,
     "metadata": {},
     "output_type": "execute_result"
    }
   ],
   "source": [
    "wego_monday['ADJUSTED_LATE_COUNT'].value_counts()"
   ]
  },
  {
   "cell_type": "code",
   "execution_count": 17,
   "id": "8fa08cce-c9ba-4183-bc10-1b97120cb175",
   "metadata": {},
   "outputs": [
    {
     "data": {
      "text/plain": [
       "12.226158481961072"
      ]
     },
     "execution_count": 17,
     "metadata": {},
     "output_type": "execute_result"
    }
   ],
   "source": [
    "(6005/49116)*100"
   ]
  },
  {
   "cell_type": "code",
   "execution_count": 18,
   "id": "63de2815-2411-485d-94fe-0a9ff0653c90",
   "metadata": {},
   "outputs": [
    {
     "data": {
      "text/plain": [
       "ADJUSTED_ONTIME_COUNT\n",
       "1    40319\n",
       "0     8797\n",
       "Name: count, dtype: int64"
      ]
     },
     "execution_count": 18,
     "metadata": {},
     "output_type": "execute_result"
    }
   ],
   "source": [
    "wego_monday['ADJUSTED_ONTIME_COUNT'].value_counts()"
   ]
  },
  {
   "cell_type": "code",
   "execution_count": 19,
   "id": "f65c56a2-8969-4100-98a6-61f8c56887f7",
   "metadata": {},
   "outputs": [
    {
     "data": {
      "text/plain": [
       "82.08933952276244"
      ]
     },
     "execution_count": 19,
     "metadata": {},
     "output_type": "execute_result"
    }
   ],
   "source": [
    "(40319/49116)*100"
   ]
  },
  {
   "cell_type": "code",
   "execution_count": 20,
   "id": "6d9fdbe2-4b54-40e1-b516-dcf0a40de13e",
   "metadata": {},
   "outputs": [],
   "source": [
    "wego_tuesday = wego_df.loc[wego_df.DAY == 'Tuesday'] ##58432"
   ]
  },
  {
   "cell_type": "code",
   "execution_count": 21,
   "id": "bc334a2e-8789-4add-af59-685305686ea9",
   "metadata": {},
   "outputs": [
    {
     "data": {
      "text/plain": [
       "ADJUSTED_EARLY_COUNT\n",
       "0    56747\n",
       "1     1685\n",
       "Name: count, dtype: int64"
      ]
     },
     "execution_count": 21,
     "metadata": {},
     "output_type": "execute_result"
    }
   ],
   "source": [
    "wego_tuesday['ADJUSTED_EARLY_COUNT'].value_counts()"
   ]
  },
  {
   "cell_type": "code",
   "execution_count": 22,
   "id": "d3314bbb-d596-49b1-9572-0165ebf56805",
   "metadata": {},
   "outputs": [
    {
     "data": {
      "text/plain": [
       "2.883693866374589"
      ]
     },
     "execution_count": 22,
     "metadata": {},
     "output_type": "execute_result"
    }
   ],
   "source": [
    "(1685/58432)*100"
   ]
  },
  {
   "cell_type": "code",
   "execution_count": 23,
   "id": "a11d2848-8ab0-4dcd-94ea-0a883762132b",
   "metadata": {},
   "outputs": [
    {
     "data": {
      "text/plain": [
       "ADJUSTED_LATE_COUNT\n",
       "0    48845\n",
       "1     9587\n",
       "Name: count, dtype: int64"
      ]
     },
     "execution_count": 23,
     "metadata": {},
     "output_type": "execute_result"
    }
   ],
   "source": [
    "wego_tuesday['ADJUSTED_LATE_COUNT'].value_counts()"
   ]
  },
  {
   "cell_type": "code",
   "execution_count": 24,
   "id": "5a1d215f-3646-46d9-aa9b-0c666029bfed",
   "metadata": {},
   "outputs": [
    {
     "data": {
      "text/plain": [
       "16.407105695509312"
      ]
     },
     "execution_count": 24,
     "metadata": {},
     "output_type": "execute_result"
    }
   ],
   "source": [
    "(9587/58432)*100"
   ]
  },
  {
   "cell_type": "code",
   "execution_count": 25,
   "id": "026a73ec-8a85-4027-9164-642451445e34",
   "metadata": {},
   "outputs": [
    {
     "data": {
      "text/plain": [
       "ADJUSTED_ONTIME_COUNT\n",
       "1    45502\n",
       "0    12930\n",
       "Name: count, dtype: int64"
      ]
     },
     "execution_count": 25,
     "metadata": {},
     "output_type": "execute_result"
    }
   ],
   "source": [
    "wego_tuesday['ADJUSTED_ONTIME_COUNT'].value_counts()"
   ]
  },
  {
   "cell_type": "code",
   "execution_count": 26,
   "id": "39efb2db-2fbc-4042-bf13-0f1cd45368ca",
   "metadata": {},
   "outputs": [
    {
     "data": {
      "text/plain": [
       "77.87171412924425"
      ]
     },
     "execution_count": 26,
     "metadata": {},
     "output_type": "execute_result"
    }
   ],
   "source": [
    "(45502/58432)*100"
   ]
  },
  {
   "cell_type": "code",
   "execution_count": 27,
   "id": "317387d2-7722-4c99-a1d8-b6378b478da8",
   "metadata": {},
   "outputs": [],
   "source": [
    "wego_wednesday = wego_df.loc[wego_df.DAY == 'Wednesday'] ##58527"
   ]
  },
  {
   "cell_type": "code",
   "execution_count": 28,
   "id": "93fa871f-152a-42c8-95c9-a3d9214ec5b6",
   "metadata": {},
   "outputs": [
    {
     "data": {
      "text/plain": [
       "ADJUSTED_EARLY_COUNT\n",
       "0    56892\n",
       "1     1635\n",
       "Name: count, dtype: int64"
      ]
     },
     "execution_count": 28,
     "metadata": {},
     "output_type": "execute_result"
    }
   ],
   "source": [
    "wego_wednesday['ADJUSTED_EARLY_COUNT'].value_counts()"
   ]
  },
  {
   "cell_type": "code",
   "execution_count": 29,
   "id": "4f7ac69b-daee-43ab-b96a-ee88d9477d0b",
   "metadata": {},
   "outputs": [
    {
     "data": {
      "text/plain": [
       "2.793582449126044"
      ]
     },
     "execution_count": 29,
     "metadata": {},
     "output_type": "execute_result"
    }
   ],
   "source": [
    "(1635/58527)*100"
   ]
  },
  {
   "cell_type": "code",
   "execution_count": 30,
   "id": "4d1b921a-f13c-40dc-ae49-6f04bade74e8",
   "metadata": {},
   "outputs": [
    {
     "data": {
      "text/plain": [
       "ADJUSTED_LATE_COUNT\n",
       "0    48230\n",
       "1    10297\n",
       "Name: count, dtype: int64"
      ]
     },
     "execution_count": 30,
     "metadata": {},
     "output_type": "execute_result"
    }
   ],
   "source": [
    "wego_wednesday['ADJUSTED_LATE_COUNT'].value_counts()"
   ]
  },
  {
   "cell_type": "code",
   "execution_count": 31,
   "id": "71145257-1fb7-4c42-be3d-7e20021e16b8",
   "metadata": {},
   "outputs": [
    {
     "data": {
      "text/plain": [
       "17.59358928357852"
      ]
     },
     "execution_count": 31,
     "metadata": {},
     "output_type": "execute_result"
    }
   ],
   "source": [
    "(10297/58527)*100"
   ]
  },
  {
   "cell_type": "code",
   "execution_count": 32,
   "id": "95f4f5ca-dbd3-40e8-b858-d492608e6970",
   "metadata": {},
   "outputs": [
    {
     "data": {
      "text/plain": [
       "ADJUSTED_ONTIME_COUNT\n",
       "1    45009\n",
       "0    13518\n",
       "Name: count, dtype: int64"
      ]
     },
     "execution_count": 32,
     "metadata": {},
     "output_type": "execute_result"
    }
   ],
   "source": [
    "wego_wednesday['ADJUSTED_ONTIME_COUNT'].value_counts()"
   ]
  },
  {
   "cell_type": "code",
   "execution_count": 33,
   "id": "5451a846-a36b-4a92-b472-d17657f6de16",
   "metadata": {},
   "outputs": [
    {
     "data": {
      "text/plain": [
       "76.90296786098723"
      ]
     },
     "execution_count": 33,
     "metadata": {},
     "output_type": "execute_result"
    }
   ],
   "source": [
    "(45009/58527)*100"
   ]
  },
  {
   "cell_type": "code",
   "execution_count": 34,
   "id": "2ebf67fe-fbb5-40a9-9023-1533de35f56d",
   "metadata": {},
   "outputs": [],
   "source": [
    "wego_thursday = wego_df.loc[wego_df.DAY == 'Thursday'] ##58432"
   ]
  },
  {
   "cell_type": "code",
   "execution_count": 35,
   "id": "413ace1e-9f5f-48c9-85b9-618fa37ad51d",
   "metadata": {},
   "outputs": [
    {
     "data": {
      "text/plain": [
       "ADJUSTED_EARLY_COUNT\n",
       "0    56886\n",
       "1     1570\n",
       "Name: count, dtype: int64"
      ]
     },
     "execution_count": 35,
     "metadata": {},
     "output_type": "execute_result"
    }
   ],
   "source": [
    "wego_thursday['ADJUSTED_EARLY_COUNT'].value_counts()"
   ]
  },
  {
   "cell_type": "code",
   "execution_count": 36,
   "id": "f24be642-a412-4021-8efe-305e96ac347e",
   "metadata": {},
   "outputs": [
    {
     "data": {
      "text/plain": [
       "2.6868838992332966"
      ]
     },
     "execution_count": 36,
     "metadata": {},
     "output_type": "execute_result"
    }
   ],
   "source": [
    "(1570/58432)*100"
   ]
  },
  {
   "cell_type": "code",
   "execution_count": 37,
   "id": "f973c8d6-7c4e-40e9-8d29-729da4636abc",
   "metadata": {},
   "outputs": [
    {
     "data": {
      "text/plain": [
       "ADJUSTED_LATE_COUNT\n",
       "0    47789\n",
       "1    10667\n",
       "Name: count, dtype: int64"
      ]
     },
     "execution_count": 37,
     "metadata": {},
     "output_type": "execute_result"
    }
   ],
   "source": [
    "wego_thursday['ADJUSTED_LATE_COUNT'].value_counts()"
   ]
  },
  {
   "cell_type": "code",
   "execution_count": 38,
   "id": "e8cd9d0f-98a3-4c5d-ab72-861491b1dce5",
   "metadata": {},
   "outputs": [
    {
     "data": {
      "text/plain": [
       "18.25540799561884"
      ]
     },
     "execution_count": 38,
     "metadata": {},
     "output_type": "execute_result"
    }
   ],
   "source": [
    "(10667/58432)*100"
   ]
  },
  {
   "cell_type": "code",
   "execution_count": 39,
   "id": "a1c0c56c-6c5a-40e3-8923-a287828d57e7",
   "metadata": {},
   "outputs": [
    {
     "data": {
      "text/plain": [
       "ADJUSTED_ONTIME_COUNT\n",
       "1    44030\n",
       "0    14426\n",
       "Name: count, dtype: int64"
      ]
     },
     "execution_count": 39,
     "metadata": {},
     "output_type": "execute_result"
    }
   ],
   "source": [
    "wego_thursday['ADJUSTED_ONTIME_COUNT'].value_counts()"
   ]
  },
  {
   "cell_type": "code",
   "execution_count": 40,
   "id": "2bfd7194-8e75-4067-b938-4f71dd766845",
   "metadata": {},
   "outputs": [
    {
     "data": {
      "text/plain": [
       "75.35254654983571"
      ]
     },
     "execution_count": 40,
     "metadata": {},
     "output_type": "execute_result"
    }
   ],
   "source": [
    "(44030/58432)*100"
   ]
  },
  {
   "cell_type": "code",
   "execution_count": 41,
   "id": "2984a3f1-6407-4073-90bf-4abd98336755",
   "metadata": {},
   "outputs": [],
   "source": [
    "wego_friday = wego_df.loc[wego_df.DAY == 'Friday'] ##58473"
   ]
  },
  {
   "cell_type": "code",
   "execution_count": 42,
   "id": "0229cef4-15c5-49f7-a141-bd34cbd04f4b",
   "metadata": {},
   "outputs": [
    {
     "data": {
      "text/plain": [
       "ADJUSTED_EARLY_COUNT\n",
       "0    56921\n",
       "1     1552\n",
       "Name: count, dtype: int64"
      ]
     },
     "execution_count": 42,
     "metadata": {},
     "output_type": "execute_result"
    }
   ],
   "source": [
    "wego_friday['ADJUSTED_EARLY_COUNT'].value_counts()"
   ]
  },
  {
   "cell_type": "code",
   "execution_count": 43,
   "id": "de432a44-ff81-41b9-8ed2-f79a0e0f60ed",
   "metadata": {},
   "outputs": [
    {
     "data": {
      "text/plain": [
       "2.654216475980367"
      ]
     },
     "execution_count": 43,
     "metadata": {},
     "output_type": "execute_result"
    }
   ],
   "source": [
    "(1552/58473)*100"
   ]
  },
  {
   "cell_type": "code",
   "execution_count": 44,
   "id": "9265f48d-ceee-43fe-8ad1-eb24ce231a03",
   "metadata": {},
   "outputs": [
    {
     "data": {
      "text/plain": [
       "ADJUSTED_LATE_COUNT\n",
       "0    46084\n",
       "1    12389\n",
       "Name: count, dtype: int64"
      ]
     },
     "execution_count": 44,
     "metadata": {},
     "output_type": "execute_result"
    }
   ],
   "source": [
    "wego_friday['ADJUSTED_LATE_COUNT'].value_counts()"
   ]
  },
  {
   "cell_type": "code",
   "execution_count": 45,
   "id": "db72f679-30de-4cab-bcb6-280bb19ae066",
   "metadata": {},
   "outputs": [
    {
     "data": {
      "text/plain": [
       "21.187556650077813"
      ]
     },
     "execution_count": 45,
     "metadata": {},
     "output_type": "execute_result"
    }
   ],
   "source": [
    "(12389/58473)*100"
   ]
  },
  {
   "cell_type": "code",
   "execution_count": 46,
   "id": "9bbc83dc-4d54-4bce-8143-74805d0eb3d2",
   "metadata": {},
   "outputs": [
    {
     "data": {
      "text/plain": [
       "ADJUSTED_ONTIME_COUNT\n",
       "1    41973\n",
       "0    16500\n",
       "Name: count, dtype: int64"
      ]
     },
     "execution_count": 46,
     "metadata": {},
     "output_type": "execute_result"
    }
   ],
   "source": [
    "wego_friday['ADJUSTED_ONTIME_COUNT'].value_counts()"
   ]
  },
  {
   "cell_type": "code",
   "execution_count": 47,
   "id": "deb7fd04-d361-4a50-9a73-419dea50f19b",
   "metadata": {},
   "outputs": [
    {
     "data": {
      "text/plain": [
       "71.78184803242522"
      ]
     },
     "execution_count": 47,
     "metadata": {},
     "output_type": "execute_result"
    }
   ],
   "source": [
    "(41973/58473)*100"
   ]
  },
  {
   "cell_type": "code",
   "execution_count": 48,
   "id": "07796dde-33c6-4fd7-8311-001e0d1ae75f",
   "metadata": {},
   "outputs": [],
   "source": [
    "wego_saturday = wego_df.loc[wego_df.DAY == 'Saturday'] ##37497"
   ]
  },
  {
   "cell_type": "code",
   "execution_count": 49,
   "id": "de765673-dac4-488b-93d4-7a5ee0233418",
   "metadata": {},
   "outputs": [
    {
     "data": {
      "text/plain": [
       "ADJUSTED_EARLY_COUNT\n",
       "0    36676\n",
       "1      821\n",
       "Name: count, dtype: int64"
      ]
     },
     "execution_count": 49,
     "metadata": {},
     "output_type": "execute_result"
    }
   ],
   "source": [
    "wego_saturday['ADJUSTED_EARLY_COUNT'].value_counts()"
   ]
  },
  {
   "cell_type": "code",
   "execution_count": 50,
   "id": "c8ff21e5-46cf-4ceb-8b85-3611f80f5fe7",
   "metadata": {},
   "outputs": [
    {
     "data": {
      "text/plain": [
       "2.189508494012854"
      ]
     },
     "execution_count": 50,
     "metadata": {},
     "output_type": "execute_result"
    }
   ],
   "source": [
    "(821/37497)*100"
   ]
  },
  {
   "cell_type": "code",
   "execution_count": 51,
   "id": "f3f5c9ed-202e-4493-9b22-1623a9ac2835",
   "metadata": {},
   "outputs": [
    {
     "data": {
      "text/plain": [
       "ADJUSTED_LATE_COUNT\n",
       "0    30750\n",
       "1     6747\n",
       "Name: count, dtype: int64"
      ]
     },
     "execution_count": 51,
     "metadata": {},
     "output_type": "execute_result"
    }
   ],
   "source": [
    "wego_saturday['ADJUSTED_LATE_COUNT'].value_counts()"
   ]
  },
  {
   "cell_type": "code",
   "execution_count": 52,
   "id": "caab8664-4b2e-46b4-9c23-d0d18c433406",
   "metadata": {},
   "outputs": [
    {
     "data": {
      "text/plain": [
       "17.993439475158013"
      ]
     },
     "execution_count": 52,
     "metadata": {},
     "output_type": "execute_result"
    }
   ],
   "source": [
    "(6747/37497)*100"
   ]
  },
  {
   "cell_type": "code",
   "execution_count": 53,
   "id": "09eb6cad-0ab1-437a-8f5f-55b6ebc33829",
   "metadata": {},
   "outputs": [
    {
     "data": {
      "text/plain": [
       "ADJUSTED_ONTIME_COUNT\n",
       "1    28962\n",
       "0     8535\n",
       "Name: count, dtype: int64"
      ]
     },
     "execution_count": 53,
     "metadata": {},
     "output_type": "execute_result"
    }
   ],
   "source": [
    "wego_saturday['ADJUSTED_ONTIME_COUNT'].value_counts()"
   ]
  },
  {
   "cell_type": "code",
   "execution_count": 54,
   "id": "bf96b78d-2baa-478a-b8a9-26c0288536e9",
   "metadata": {},
   "outputs": [
    {
     "data": {
      "text/plain": [
       "77.23817905432433"
      ]
     },
     "execution_count": 54,
     "metadata": {},
     "output_type": "execute_result"
    }
   ],
   "source": [
    "(28962/37497)*100"
   ]
  },
  {
   "cell_type": "code",
   "execution_count": 55,
   "id": "0735b199-63ea-47d0-b8d2-caf3b2e9a017",
   "metadata": {},
   "outputs": [],
   "source": [
    "wego_sunday = wego_df.loc[wego_df.DAY == 'Sunday'] ##29828"
   ]
  },
  {
   "cell_type": "code",
   "execution_count": 56,
   "id": "0cde8c45-ee7e-4ad8-93a9-7e54a48e49b4",
   "metadata": {},
   "outputs": [
    {
     "data": {
      "text/plain": [
       "ADJUSTED_EARLY_COUNT\n",
       "0    28981\n",
       "1      847\n",
       "Name: count, dtype: int64"
      ]
     },
     "execution_count": 56,
     "metadata": {},
     "output_type": "execute_result"
    }
   ],
   "source": [
    "wego_sunday['ADJUSTED_EARLY_COUNT'].value_counts()"
   ]
  },
  {
   "cell_type": "code",
   "execution_count": 57,
   "id": "ab8e71b7-fd36-4121-8495-e50819a97eea",
   "metadata": {},
   "outputs": [
    {
     "data": {
      "text/plain": [
       "2.839613785704707"
      ]
     },
     "execution_count": 57,
     "metadata": {},
     "output_type": "execute_result"
    }
   ],
   "source": [
    "(847/29828)*100"
   ]
  },
  {
   "cell_type": "code",
   "execution_count": 58,
   "id": "71ce431f-91a5-49c6-acc7-1b19f6d62d84",
   "metadata": {},
   "outputs": [
    {
     "data": {
      "text/plain": [
       "ADJUSTED_LATE_COUNT\n",
       "0    26482\n",
       "1     3346\n",
       "Name: count, dtype: int64"
      ]
     },
     "execution_count": 58,
     "metadata": {},
     "output_type": "execute_result"
    }
   ],
   "source": [
    "wego_sunday['ADJUSTED_LATE_COUNT'].value_counts()"
   ]
  },
  {
   "cell_type": "code",
   "execution_count": 59,
   "id": "6a7a6244-a7c2-4b36-b826-41f30add627e",
   "metadata": {},
   "outputs": [
    {
     "data": {
      "text/plain": [
       "11.217647847659917"
      ]
     },
     "execution_count": 59,
     "metadata": {},
     "output_type": "execute_result"
    }
   ],
   "source": [
    "(3346/29828)*100"
   ]
  },
  {
   "cell_type": "code",
   "execution_count": 60,
   "id": "db0ec98f-7318-458d-b5cc-1c76e37eb318",
   "metadata": {},
   "outputs": [
    {
     "data": {
      "text/plain": [
       "ADJUSTED_ONTIME_COUNT\n",
       "1    24253\n",
       "0     5575\n",
       "Name: count, dtype: int64"
      ]
     },
     "execution_count": 60,
     "metadata": {},
     "output_type": "execute_result"
    }
   ],
   "source": [
    "wego_sunday['ADJUSTED_ONTIME_COUNT'].value_counts()"
   ]
  },
  {
   "cell_type": "code",
   "execution_count": 61,
   "id": "f0fea5cf-5a82-4d0f-beef-ba61f4b731b0",
   "metadata": {},
   "outputs": [
    {
     "data": {
      "text/plain": [
       "81.30950784497787"
      ]
     },
     "execution_count": 61,
     "metadata": {},
     "output_type": "execute_result"
    }
   ],
   "source": [
    "(24253/29828)*100"
   ]
  },
  {
   "cell_type": "code",
   "execution_count": null,
   "id": "95b59a6e-f564-4367-9b41-3698690bd78b",
   "metadata": {},
   "outputs": [],
   "source": []
  },
  {
   "cell_type": "code",
   "execution_count": 62,
   "id": "bc4326d2-7513-4806-add2-08b5701d291f",
   "metadata": {},
   "outputs": [
    {
     "data": {
      "text/html": [
       "<div>\n",
       "<style scoped>\n",
       "    .dataframe tbody tr th:only-of-type {\n",
       "        vertical-align: middle;\n",
       "    }\n",
       "\n",
       "    .dataframe tbody tr th {\n",
       "        vertical-align: top;\n",
       "    }\n",
       "\n",
       "    .dataframe thead th {\n",
       "        text-align: right;\n",
       "    }\n",
       "</style>\n",
       "<table border=\"1\" class=\"dataframe\">\n",
       "  <thead>\n",
       "    <tr style=\"text-align: right;\">\n",
       "      <th></th>\n",
       "      <th>Day</th>\n",
       "      <th>Adjusted Early Count</th>\n",
       "    </tr>\n",
       "  </thead>\n",
       "  <tbody>\n",
       "    <tr>\n",
       "      <th>0</th>\n",
       "      <td>Monday</td>\n",
       "      <td>3.38</td>\n",
       "    </tr>\n",
       "    <tr>\n",
       "      <th>1</th>\n",
       "      <td>Tuesday</td>\n",
       "      <td>2.88</td>\n",
       "    </tr>\n",
       "    <tr>\n",
       "      <th>2</th>\n",
       "      <td>Wednesday</td>\n",
       "      <td>2.79</td>\n",
       "    </tr>\n",
       "    <tr>\n",
       "      <th>3</th>\n",
       "      <td>Thursday</td>\n",
       "      <td>2.68</td>\n",
       "    </tr>\n",
       "    <tr>\n",
       "      <th>4</th>\n",
       "      <td>Friday</td>\n",
       "      <td>2.65</td>\n",
       "    </tr>\n",
       "    <tr>\n",
       "      <th>5</th>\n",
       "      <td>Saturday</td>\n",
       "      <td>2.18</td>\n",
       "    </tr>\n",
       "    <tr>\n",
       "      <th>6</th>\n",
       "      <td>Sunday</td>\n",
       "      <td>2.83</td>\n",
       "    </tr>\n",
       "  </tbody>\n",
       "</table>\n",
       "</div>"
      ],
      "text/plain": [
       "         Day  Adjusted Early Count\n",
       "0     Monday                  3.38\n",
       "1    Tuesday                  2.88\n",
       "2  Wednesday                  2.79\n",
       "3   Thursday                  2.68\n",
       "4     Friday                  2.65\n",
       "5   Saturday                  2.18\n",
       "6     Sunday                  2.83"
      ]
     },
     "execution_count": 62,
     "metadata": {},
     "output_type": "execute_result"
    }
   ],
   "source": [
    "data = [['Monday', 3.38], ['Tuesday', 2.88], ['Wednesday', 2.79], ['Thursday', 2.68], ['Friday', 2.65], ['Saturday', 2.18], ['Sunday', 2.83]]\n",
    "adjusted_early_count = pd.DataFrame(data, columns=['Day', 'Adjusted Early Count'])\n",
    "adjusted_early_count"
   ]
  },
  {
   "cell_type": "code",
   "execution_count": 63,
   "id": "2b36311b-ffb5-4de1-8dad-ab482bbea47d",
   "metadata": {},
   "outputs": [
    {
     "data": {
      "image/png": "[encoded data removed]",
      "text/plain": [
       "<Figure size 1000x600 with 1 Axes>"
      ]
     },
     "metadata": {},
     "output_type": "display_data"
    }
   ],
   "source": [
    "plt.figure(figsize=(10, 6))\n",
    "sns.barplot(data=adjusted_early_count,\n",
    "            x='Day',\n",
    "            y='Adjusted Early Count',\n",
    "            palette='Purples_d')  \n",
    "plt.xticks(rotation=45)  \n",
    "plt.xlabel('Day')\n",
    "plt.ylabel('Adjusted Early Count Pct')\n",
    "plt.title('Adjusted Early Count')\n",
    "plt.show()"
   ]
  },
  {
   "cell_type": "code",
   "execution_count": 64,
   "id": "ceef12dd-ad9f-4d17-b5d1-f7924affec00",
   "metadata": {},
   "outputs": [
    {
     "data": {
      "text/html": [
       "<div>\n",
       "<style scoped>\n",
       "    .dataframe tbody tr th:only-of-type {\n",
       "        vertical-align: middle;\n",
       "    }\n",
       "\n",
       "    .dataframe tbody tr th {\n",
       "        vertical-align: top;\n",
       "    }\n",
       "\n",
       "    .dataframe thead th {\n",
       "        text-align: right;\n",
       "    }\n",
       "</style>\n",
       "<table border=\"1\" class=\"dataframe\">\n",
       "  <thead>\n",
       "    <tr style=\"text-align: right;\">\n",
       "      <th></th>\n",
       "      <th>Day</th>\n",
       "      <th>Adjusted Late Count</th>\n",
       "    </tr>\n",
       "  </thead>\n",
       "  <tbody>\n",
       "    <tr>\n",
       "      <th>0</th>\n",
       "      <td>Monday</td>\n",
       "      <td>12.22</td>\n",
       "    </tr>\n",
       "    <tr>\n",
       "      <th>1</th>\n",
       "      <td>Tuesday</td>\n",
       "      <td>16.40</td>\n",
       "    </tr>\n",
       "    <tr>\n",
       "      <th>2</th>\n",
       "      <td>Wednesday</td>\n",
       "      <td>17.59</td>\n",
       "    </tr>\n",
       "    <tr>\n",
       "      <th>3</th>\n",
       "      <td>Thursday</td>\n",
       "      <td>18.25</td>\n",
       "    </tr>\n",
       "    <tr>\n",
       "      <th>4</th>\n",
       "      <td>Friday</td>\n",
       "      <td>21.18</td>\n",
       "    </tr>\n",
       "    <tr>\n",
       "      <th>5</th>\n",
       "      <td>Saturday</td>\n",
       "      <td>17.99</td>\n",
       "    </tr>\n",
       "    <tr>\n",
       "      <th>6</th>\n",
       "      <td>Sunday</td>\n",
       "      <td>11.21</td>\n",
       "    </tr>\n",
       "  </tbody>\n",
       "</table>\n",
       "</div>"
      ],
      "text/plain": [
       "         Day  Adjusted Late Count\n",
       "0     Monday                12.22\n",
       "1    Tuesday                16.40\n",
       "2  Wednesday                17.59\n",
       "3   Thursday                18.25\n",
       "4     Friday                21.18\n",
       "5   Saturday                17.99\n",
       "6     Sunday                11.21"
      ]
     },
     "execution_count": 64,
     "metadata": {},
     "output_type": "execute_result"
    }
   ],
   "source": [
    "data = [['Monday', 12.22], ['Tuesday', 16.40], ['Wednesday', 17.59], ['Thursday', 18.25], ['Friday', 21.18], ['Saturday', 17.99], ['Sunday', 11.21]]\n",
    "adjusted_late_count = pd.DataFrame(data, columns=['Day', 'Adjusted Late Count'])\n",
    "adjusted_late_count"
   ]
  },
  {
   "cell_type": "code",
   "execution_count": 65,
   "id": "3219c15f-5d60-4bd1-8296-eb0e457b93e8",
   "metadata": {},
   "outputs": [
    {
     "data": {
      "image/png": "[encoded data removed]",
      "text/plain": [
       "<Figure size 1000x600 with 1 Axes>"
      ]
     },
     "metadata": {},
     "output_type": "display_data"
    }
   ],
   "source": [
    "plt.figure(figsize=(10, 6))\n",
    "sns.barplot(data=adjusted_late_count,\n",
    "            x='Day',\n",
    "            y='Adjusted Late Count',\n",
    "            palette='Purples_d')  \n",
    "plt.xticks(rotation=45)  \n",
    "plt.xlabel('Day')\n",
    "plt.ylabel('Adjusted Late Count Pct')\n",
    "plt.title('Adjusted Late Count')\n",
    "plt.show()"
   ]
  },
  {
   "cell_type": "code",
   "execution_count": 66,
   "id": "8cd12566-20da-47ad-bcb1-32560c457bf8",
   "metadata": {},
   "outputs": [
    {
     "data": {
      "text/html": [
       "<div>\n",
       "<style scoped>\n",
       "    .dataframe tbody tr th:only-of-type {\n",
       "        vertical-align: middle;\n",
       "    }\n",
       "\n",
       "    .dataframe tbody tr th {\n",
       "        vertical-align: top;\n",
       "    }\n",
       "\n",
       "    .dataframe thead th {\n",
       "        text-align: right;\n",
       "    }\n",
       "</style>\n",
       "<table border=\"1\" class=\"dataframe\">\n",
       "  <thead>\n",
       "    <tr style=\"text-align: right;\">\n",
       "      <th></th>\n",
       "      <th>Day</th>\n",
       "      <th>Adjusted Ontime Count</th>\n",
       "    </tr>\n",
       "  </thead>\n",
       "  <tbody>\n",
       "    <tr>\n",
       "      <th>0</th>\n",
       "      <td>Monday</td>\n",
       "      <td>82.08</td>\n",
       "    </tr>\n",
       "    <tr>\n",
       "      <th>1</th>\n",
       "      <td>Tuesday</td>\n",
       "      <td>77.87</td>\n",
       "    </tr>\n",
       "    <tr>\n",
       "      <th>2</th>\n",
       "      <td>Wednesday</td>\n",
       "      <td>76.90</td>\n",
       "    </tr>\n",
       "    <tr>\n",
       "      <th>3</th>\n",
       "      <td>Thursday</td>\n",
       "      <td>75.35</td>\n",
       "    </tr>\n",
       "    <tr>\n",
       "      <th>4</th>\n",
       "      <td>Friday</td>\n",
       "      <td>71.78</td>\n",
       "    </tr>\n",
       "    <tr>\n",
       "      <th>5</th>\n",
       "      <td>Saturday</td>\n",
       "      <td>77.23</td>\n",
       "    </tr>\n",
       "    <tr>\n",
       "      <th>6</th>\n",
       "      <td>Sunday</td>\n",
       "      <td>81.30</td>\n",
       "    </tr>\n",
       "  </tbody>\n",
       "</table>\n",
       "</div>"
      ],
      "text/plain": [
       "         Day  Adjusted Ontime Count\n",
       "0     Monday                  82.08\n",
       "1    Tuesday                  77.87\n",
       "2  Wednesday                  76.90\n",
       "3   Thursday                  75.35\n",
       "4     Friday                  71.78\n",
       "5   Saturday                  77.23\n",
       "6     Sunday                  81.30"
      ]
     },
     "execution_count": 66,
     "metadata": {},
     "output_type": "execute_result"
    }
   ],
   "source": [
    "data = [['Monday', 82.08], ['Tuesday', 77.87], ['Wednesday', 76.90], ['Thursday', 75.35], ['Friday', 71.78], ['Saturday', 77.23], ['Sunday', 81.30]]\n",
    "adjusted_ontime_count = pd.DataFrame(data, columns=['Day', 'Adjusted Ontime Count'])\n",
    "adjusted_ontime_count"
   ]
  },
  {
   "cell_type": "code",
   "execution_count": 67,
   "id": "c68bbbc3-442f-4846-a058-ebc99a1fdb61",
   "metadata": {},
   "outputs": [
    {
     "data": {
      "image/png": "[encoded data removed]",
      "text/plain": [
       "<Figure size 1000x600 with 1 Axes>"
      ]
     },
     "metadata": {},
     "output_type": "display_data"
    }
   ],
   "source": [
    "plt.figure(figsize=(10, 6))\n",
    "sns.barplot(data=adjusted_ontime_count,\n",
    "            x='Day',\n",
    "            y='Adjusted Ontime Count',\n",
    "            palette='Purples_d')  \n",
    "plt.xticks(rotation=45)  \n",
    "plt.xlabel('Day')\n",
    "plt.ylabel('Adjusted Ontime Count Pct')\n",
    "plt.title('Adjusted Ontime Count')\n",
    "plt.show()"
   ]
  },
  {
   "cell_type": "code",
   "execution_count": null,
   "id": "461d9943-b273-4154-aaf2-664f384527cb",
   "metadata": {},
   "outputs": [],
   "source": []
  },
  {
   "cell_type": "code",
   "execution_count": null,
   "id": "569898c4-232e-4e52-aa2c-b3ec8bdba212",
   "metadata": {},
   "outputs": [],
   "source": []
  },
  {
   "cell_type": "markdown",
   "id": "47cca0aa-846e-481e-83b6-357c054e33cc",
   "metadata": {},
   "source": [
    "### Break out by 1s, 2s, and 3s"
   ]
  },
  {
   "cell_type": "code",
   "execution_count": 69,
   "id": "302c0165-da00-4257-a8de-9527d3721f49",
   "metadata": {},
   "outputs": [
    {
     "data": {
      "text/html": [
       "<div>\n",
       "<style scoped>\n",
       "    .dataframe tbody tr th:only-of-type {\n",
       "        vertical-align: middle;\n",
       "    }\n",
       "\n",
       "    .dataframe tbody tr th {\n",
       "        vertical-align: top;\n",
       "    }\n",
       "\n",
       "    .dataframe thead th {\n",
       "        text-align: right;\n",
       "    }\n",
       "</style>\n",
       "<table border=\"1\" class=\"dataframe\">\n",
       "  <thead>\n",
       "    <tr style=\"text-align: right;\">\n",
       "      <th></th>\n",
       "      <th>CALENDAR_ID</th>\n",
       "      <th>SERVICE_ABBR</th>\n",
       "      <th>ADHERENCE_ID</th>\n",
       "      <th>DATE</th>\n",
       "      <th>ROUTE_ABBR</th>\n",
       "      <th>BLOCK_ABBR</th>\n",
       "      <th>OPERATOR</th>\n",
       "      <th>TRIP_ID</th>\n",
       "      <th>OVERLOAD_ID</th>\n",
       "      <th>ROUTE_DIRECTION_NAME</th>\n",
       "      <th>...</th>\n",
       "      <th>ADJUSTED_EARLY_COUNT</th>\n",
       "      <th>ADJUSTED_LATE_COUNT</th>\n",
       "      <th>ADJUSTED_ONTIME_COUNT</th>\n",
       "      <th>STOP_CANCELLED</th>\n",
       "      <th>PREV_SCHED_STOP_CANCELLED</th>\n",
       "      <th>IS_RELIEF</th>\n",
       "      <th>DWELL_IN_MINS</th>\n",
       "      <th>SCHEDULED_LAYOVER_MINUTES</th>\n",
       "      <th>DATE_1</th>\n",
       "      <th>DAY</th>\n",
       "    </tr>\n",
       "  </thead>\n",
       "  <tbody>\n",
       "    <tr>\n",
       "      <th>0</th>\n",
       "      <td>120230801</td>\n",
       "      <td>1</td>\n",
       "      <td>99457890</td>\n",
       "      <td>2023-08-01</td>\n",
       "      <td>22</td>\n",
       "      <td>2200</td>\n",
       "      <td>1040</td>\n",
       "      <td>345104</td>\n",
       "      <td>0</td>\n",
       "      <td>TO DOWNTOWN</td>\n",
       "      <td>...</td>\n",
       "      <td>0</td>\n",
       "      <td>0</td>\n",
       "      <td>1</td>\n",
       "      <td>0</td>\n",
       "      <td>0.0</td>\n",
       "      <td>0</td>\n",
       "      <td>6.500000</td>\n",
       "      <td>NaN</td>\n",
       "      <td>2023-08-01</td>\n",
       "      <td>Tuesday</td>\n",
       "    </tr>\n",
       "    <tr>\n",
       "      <th>1</th>\n",
       "      <td>120230801</td>\n",
       "      <td>1</td>\n",
       "      <td>99457891</td>\n",
       "      <td>2023-08-01</td>\n",
       "      <td>22</td>\n",
       "      <td>2200</td>\n",
       "      <td>1040</td>\n",
       "      <td>345104</td>\n",
       "      <td>0</td>\n",
       "      <td>TO DOWNTOWN</td>\n",
       "      <td>...</td>\n",
       "      <td>0</td>\n",
       "      <td>0</td>\n",
       "      <td>1</td>\n",
       "      <td>0</td>\n",
       "      <td>0.0</td>\n",
       "      <td>0</td>\n",
       "      <td>0.000000</td>\n",
       "      <td>NaN</td>\n",
       "      <td>2023-08-01</td>\n",
       "      <td>Tuesday</td>\n",
       "    </tr>\n",
       "    <tr>\n",
       "      <th>2</th>\n",
       "      <td>120230801</td>\n",
       "      <td>1</td>\n",
       "      <td>99457892</td>\n",
       "      <td>2023-08-01</td>\n",
       "      <td>22</td>\n",
       "      <td>2200</td>\n",
       "      <td>1040</td>\n",
       "      <td>345104</td>\n",
       "      <td>0</td>\n",
       "      <td>TO DOWNTOWN</td>\n",
       "      <td>...</td>\n",
       "      <td>0</td>\n",
       "      <td>0</td>\n",
       "      <td>1</td>\n",
       "      <td>0</td>\n",
       "      <td>0.0</td>\n",
       "      <td>0</td>\n",
       "      <td>0.000000</td>\n",
       "      <td>NaN</td>\n",
       "      <td>2023-08-01</td>\n",
       "      <td>Tuesday</td>\n",
       "    </tr>\n",
       "    <tr>\n",
       "      <th>3</th>\n",
       "      <td>120230801</td>\n",
       "      <td>1</td>\n",
       "      <td>99457893</td>\n",
       "      <td>2023-08-01</td>\n",
       "      <td>22</td>\n",
       "      <td>2200</td>\n",
       "      <td>1040</td>\n",
       "      <td>345104</td>\n",
       "      <td>0</td>\n",
       "      <td>TO DOWNTOWN</td>\n",
       "      <td>...</td>\n",
       "      <td>0</td>\n",
       "      <td>0</td>\n",
       "      <td>1</td>\n",
       "      <td>0</td>\n",
       "      <td>NaN</td>\n",
       "      <td>0</td>\n",
       "      <td>0.000000</td>\n",
       "      <td>NaN</td>\n",
       "      <td>2023-08-01</td>\n",
       "      <td>Tuesday</td>\n",
       "    </tr>\n",
       "    <tr>\n",
       "      <th>4</th>\n",
       "      <td>120230801</td>\n",
       "      <td>1</td>\n",
       "      <td>99457894</td>\n",
       "      <td>2023-08-01</td>\n",
       "      <td>22</td>\n",
       "      <td>2200</td>\n",
       "      <td>1040</td>\n",
       "      <td>345105</td>\n",
       "      <td>0</td>\n",
       "      <td>FROM DOWNTOWN</td>\n",
       "      <td>...</td>\n",
       "      <td>0</td>\n",
       "      <td>0</td>\n",
       "      <td>1</td>\n",
       "      <td>0</td>\n",
       "      <td>0.0</td>\n",
       "      <td>0</td>\n",
       "      <td>12.866666</td>\n",
       "      <td>5.0</td>\n",
       "      <td>2023-08-01</td>\n",
       "      <td>Tuesday</td>\n",
       "    </tr>\n",
       "    <tr>\n",
       "      <th>...</th>\n",
       "      <td>...</td>\n",
       "      <td>...</td>\n",
       "      <td>...</td>\n",
       "      <td>...</td>\n",
       "      <td>...</td>\n",
       "      <td>...</td>\n",
       "      <td>...</td>\n",
       "      <td>...</td>\n",
       "      <td>...</td>\n",
       "      <td>...</td>\n",
       "      <td>...</td>\n",
       "      <td>...</td>\n",
       "      <td>...</td>\n",
       "      <td>...</td>\n",
       "      <td>...</td>\n",
       "      <td>...</td>\n",
       "      <td>...</td>\n",
       "      <td>...</td>\n",
       "      <td>...</td>\n",
       "      <td>...</td>\n",
       "      <td>...</td>\n",
       "    </tr>\n",
       "    <tr>\n",
       "      <th>346166</th>\n",
       "      <td>120230929</td>\n",
       "      <td>1</td>\n",
       "      <td>100386592</td>\n",
       "      <td>2023-09-29</td>\n",
       "      <td>50</td>\n",
       "      <td>9302</td>\n",
       "      <td>2423</td>\n",
       "      <td>354069</td>\n",
       "      <td>0</td>\n",
       "      <td>TO DOWNTOWN</td>\n",
       "      <td>...</td>\n",
       "      <td>0</td>\n",
       "      <td>1</td>\n",
       "      <td>0</td>\n",
       "      <td>0</td>\n",
       "      <td>NaN</td>\n",
       "      <td>0</td>\n",
       "      <td>3.183333</td>\n",
       "      <td>NaN</td>\n",
       "      <td>2023-09-29</td>\n",
       "      <td>Friday</td>\n",
       "    </tr>\n",
       "    <tr>\n",
       "      <th>346167</th>\n",
       "      <td>120230929</td>\n",
       "      <td>1</td>\n",
       "      <td>100386719</td>\n",
       "      <td>2023-09-29</td>\n",
       "      <td>50</td>\n",
       "      <td>9950</td>\n",
       "      <td>2530</td>\n",
       "      <td>354098</td>\n",
       "      <td>0</td>\n",
       "      <td>TO DOWNTOWN</td>\n",
       "      <td>...</td>\n",
       "      <td>0</td>\n",
       "      <td>0</td>\n",
       "      <td>1</td>\n",
       "      <td>0</td>\n",
       "      <td>0.0</td>\n",
       "      <td>0</td>\n",
       "      <td>36.883333</td>\n",
       "      <td>NaN</td>\n",
       "      <td>2023-09-29</td>\n",
       "      <td>Friday</td>\n",
       "    </tr>\n",
       "    <tr>\n",
       "      <th>346168</th>\n",
       "      <td>120230929</td>\n",
       "      <td>1</td>\n",
       "      <td>100386720</td>\n",
       "      <td>2023-09-29</td>\n",
       "      <td>50</td>\n",
       "      <td>9950</td>\n",
       "      <td>2530</td>\n",
       "      <td>354098</td>\n",
       "      <td>0</td>\n",
       "      <td>TO DOWNTOWN</td>\n",
       "      <td>...</td>\n",
       "      <td>0</td>\n",
       "      <td>0</td>\n",
       "      <td>1</td>\n",
       "      <td>0</td>\n",
       "      <td>NaN</td>\n",
       "      <td>0</td>\n",
       "      <td>4.416666</td>\n",
       "      <td>NaN</td>\n",
       "      <td>2023-09-29</td>\n",
       "      <td>Friday</td>\n",
       "    </tr>\n",
       "    <tr>\n",
       "      <th>346169</th>\n",
       "      <td>120230929</td>\n",
       "      <td>1</td>\n",
       "      <td>100386749</td>\n",
       "      <td>2023-09-29</td>\n",
       "      <td>56</td>\n",
       "      <td>9975</td>\n",
       "      <td>3120</td>\n",
       "      <td>354106</td>\n",
       "      <td>0</td>\n",
       "      <td>TO DOWNTOWN</td>\n",
       "      <td>...</td>\n",
       "      <td>0</td>\n",
       "      <td>1</td>\n",
       "      <td>0</td>\n",
       "      <td>0</td>\n",
       "      <td>0.0</td>\n",
       "      <td>0</td>\n",
       "      <td>10.433333</td>\n",
       "      <td>NaN</td>\n",
       "      <td>2023-09-29</td>\n",
       "      <td>Friday</td>\n",
       "    </tr>\n",
       "    <tr>\n",
       "      <th>346170</th>\n",
       "      <td>120230929</td>\n",
       "      <td>1</td>\n",
       "      <td>100386750</td>\n",
       "      <td>2023-09-29</td>\n",
       "      <td>56</td>\n",
       "      <td>9975</td>\n",
       "      <td>3120</td>\n",
       "      <td>354106</td>\n",
       "      <td>0</td>\n",
       "      <td>TO DOWNTOWN</td>\n",
       "      <td>...</td>\n",
       "      <td>0</td>\n",
       "      <td>1</td>\n",
       "      <td>0</td>\n",
       "      <td>0</td>\n",
       "      <td>NaN</td>\n",
       "      <td>0</td>\n",
       "      <td>2.050000</td>\n",
       "      <td>NaN</td>\n",
       "      <td>2023-09-29</td>\n",
       "      <td>Friday</td>\n",
       "    </tr>\n",
       "  </tbody>\n",
       "</table>\n",
       "<p>279300 rows × 32 columns</p>\n",
       "</div>"
      ],
      "text/plain": [
       "        CALENDAR_ID  SERVICE_ABBR  ADHERENCE_ID        DATE  ROUTE_ABBR  \\\n",
       "0         120230801             1      99457890  2023-08-01          22   \n",
       "1         120230801             1      99457891  2023-08-01          22   \n",
       "2         120230801             1      99457892  2023-08-01          22   \n",
       "3         120230801             1      99457893  2023-08-01          22   \n",
       "4         120230801             1      99457894  2023-08-01          22   \n",
       "...             ...           ...           ...         ...         ...   \n",
       "346166    120230929             1     100386592  2023-09-29          50   \n",
       "346167    120230929             1     100386719  2023-09-29          50   \n",
       "346168    120230929             1     100386720  2023-09-29          50   \n",
       "346169    120230929             1     100386749  2023-09-29          56   \n",
       "346170    120230929             1     100386750  2023-09-29          56   \n",
       "\n",
       "        BLOCK_ABBR  OPERATOR  TRIP_ID  OVERLOAD_ID ROUTE_DIRECTION_NAME  ...  \\\n",
       "0             2200      1040   345104            0          TO DOWNTOWN  ...   \n",
       "1             2200      1040   345104            0          TO DOWNTOWN  ...   \n",
       "2             2200      1040   345104            0          TO DOWNTOWN  ...   \n",
       "3             2200      1040   345104            0          TO DOWNTOWN  ...   \n",
       "4             2200      1040   345105            0        FROM DOWNTOWN  ...   \n",
       "...            ...       ...      ...          ...                  ...  ...   \n",
       "346166        9302      2423   354069            0          TO DOWNTOWN  ...   \n",
       "346167        9950      2530   354098            0          TO DOWNTOWN  ...   \n",
       "346168        9950      2530   354098            0          TO DOWNTOWN  ...   \n",
       "346169        9975      3120   354106            0          TO DOWNTOWN  ...   \n",
       "346170        9975      3120   354106            0          TO DOWNTOWN  ...   \n",
       "\n",
       "       ADJUSTED_EARLY_COUNT  ADJUSTED_LATE_COUNT  ADJUSTED_ONTIME_COUNT  \\\n",
       "0                         0                    0                      1   \n",
       "1                         0                    0                      1   \n",
       "2                         0                    0                      1   \n",
       "3                         0                    0                      1   \n",
       "4                         0                    0                      1   \n",
       "...                     ...                  ...                    ...   \n",
       "346166                    0                    1                      0   \n",
       "346167                    0                    0                      1   \n",
       "346168                    0                    0                      1   \n",
       "346169                    0                    1                      0   \n",
       "346170                    0                    1                      0   \n",
       "\n",
       "        STOP_CANCELLED  PREV_SCHED_STOP_CANCELLED IS_RELIEF DWELL_IN_MINS  \\\n",
       "0                    0                        0.0         0      6.500000   \n",
       "1                    0                        0.0         0      0.000000   \n",
       "2                    0                        0.0         0      0.000000   \n",
       "3                    0                        NaN         0      0.000000   \n",
       "4                    0                        0.0         0     12.866666   \n",
       "...                ...                        ...       ...           ...   \n",
       "346166               0                        NaN         0      3.183333   \n",
       "346167               0                        0.0         0     36.883333   \n",
       "346168               0                        NaN         0      4.416666   \n",
       "346169               0                        0.0         0     10.433333   \n",
       "346170               0                        NaN         0      2.050000   \n",
       "\n",
       "       SCHEDULED_LAYOVER_MINUTES     DATE_1      DAY  \n",
       "0                            NaN 2023-08-01  Tuesday  \n",
       "1                            NaN 2023-08-01  Tuesday  \n",
       "2                            NaN 2023-08-01  Tuesday  \n",
       "3                            NaN 2023-08-01  Tuesday  \n",
       "4                            5.0 2023-08-01  Tuesday  \n",
       "...                          ...        ...      ...  \n",
       "346166                       NaN 2023-09-29   Friday  \n",
       "346167                       NaN 2023-09-29   Friday  \n",
       "346168                       NaN 2023-09-29   Friday  \n",
       "346169                       NaN 2023-09-29   Friday  \n",
       "346170                       NaN 2023-09-29   Friday  \n",
       "\n",
       "[279300 rows x 32 columns]"
      ]
     },
     "execution_count": 69,
     "metadata": {},
     "output_type": "execute_result"
    }
   ],
   "source": [
    "wego_df_weekdays = wego_df.loc[wego_df.SERVICE_ABBR == 1]\n",
    "wego_df_weekdays"
   ]
  },
  {
   "cell_type": "code",
   "execution_count": 70,
   "id": "7cfe4fc4-4c95-4b22-8940-9653e3fa2950",
   "metadata": {},
   "outputs": [
    {
     "data": {
      "text/html": [
       "<div>\n",
       "<style scoped>\n",
       "    .dataframe tbody tr th:only-of-type {\n",
       "        vertical-align: middle;\n",
       "    }\n",
       "\n",
       "    .dataframe tbody tr th {\n",
       "        vertical-align: top;\n",
       "    }\n",
       "\n",
       "    .dataframe thead th {\n",
       "        text-align: right;\n",
       "    }\n",
       "</style>\n",
       "<table border=\"1\" class=\"dataframe\">\n",
       "  <thead>\n",
       "    <tr style=\"text-align: right;\">\n",
       "      <th></th>\n",
       "      <th>CALENDAR_ID</th>\n",
       "      <th>SERVICE_ABBR</th>\n",
       "      <th>ADHERENCE_ID</th>\n",
       "      <th>DATE</th>\n",
       "      <th>ROUTE_ABBR</th>\n",
       "      <th>BLOCK_ABBR</th>\n",
       "      <th>OPERATOR</th>\n",
       "      <th>TRIP_ID</th>\n",
       "      <th>OVERLOAD_ID</th>\n",
       "      <th>ROUTE_DIRECTION_NAME</th>\n",
       "      <th>...</th>\n",
       "      <th>ADJUSTED_EARLY_COUNT</th>\n",
       "      <th>ADJUSTED_LATE_COUNT</th>\n",
       "      <th>ADJUSTED_ONTIME_COUNT</th>\n",
       "      <th>STOP_CANCELLED</th>\n",
       "      <th>PREV_SCHED_STOP_CANCELLED</th>\n",
       "      <th>IS_RELIEF</th>\n",
       "      <th>DWELL_IN_MINS</th>\n",
       "      <th>SCHEDULED_LAYOVER_MINUTES</th>\n",
       "      <th>DATE_1</th>\n",
       "      <th>DAY</th>\n",
       "    </tr>\n",
       "  </thead>\n",
       "  <tbody>\n",
       "    <tr>\n",
       "      <th>25841</th>\n",
       "      <td>120230805</td>\n",
       "      <td>2</td>\n",
       "      <td>99581530</td>\n",
       "      <td>2023-08-05</td>\n",
       "      <td>22</td>\n",
       "      <td>2200</td>\n",
       "      <td>2441</td>\n",
       "      <td>349972</td>\n",
       "      <td>0</td>\n",
       "      <td>TO DOWNTOWN</td>\n",
       "      <td>...</td>\n",
       "      <td>0</td>\n",
       "      <td>0</td>\n",
       "      <td>1</td>\n",
       "      <td>0</td>\n",
       "      <td>0.0</td>\n",
       "      <td>0</td>\n",
       "      <td>13.283333</td>\n",
       "      <td>NaN</td>\n",
       "      <td>2023-08-05</td>\n",
       "      <td>Saturday</td>\n",
       "    </tr>\n",
       "    <tr>\n",
       "      <th>25842</th>\n",
       "      <td>120230805</td>\n",
       "      <td>2</td>\n",
       "      <td>99581531</td>\n",
       "      <td>2023-08-05</td>\n",
       "      <td>22</td>\n",
       "      <td>2200</td>\n",
       "      <td>2441</td>\n",
       "      <td>349972</td>\n",
       "      <td>0</td>\n",
       "      <td>TO DOWNTOWN</td>\n",
       "      <td>...</td>\n",
       "      <td>0</td>\n",
       "      <td>0</td>\n",
       "      <td>1</td>\n",
       "      <td>0</td>\n",
       "      <td>0.0</td>\n",
       "      <td>0</td>\n",
       "      <td>0.000000</td>\n",
       "      <td>NaN</td>\n",
       "      <td>2023-08-05</td>\n",
       "      <td>Saturday</td>\n",
       "    </tr>\n",
       "    <tr>\n",
       "      <th>25843</th>\n",
       "      <td>120230805</td>\n",
       "      <td>2</td>\n",
       "      <td>99581532</td>\n",
       "      <td>2023-08-05</td>\n",
       "      <td>22</td>\n",
       "      <td>2200</td>\n",
       "      <td>2441</td>\n",
       "      <td>349972</td>\n",
       "      <td>0</td>\n",
       "      <td>TO DOWNTOWN</td>\n",
       "      <td>...</td>\n",
       "      <td>0</td>\n",
       "      <td>0</td>\n",
       "      <td>1</td>\n",
       "      <td>0</td>\n",
       "      <td>NaN</td>\n",
       "      <td>0</td>\n",
       "      <td>0.000000</td>\n",
       "      <td>NaN</td>\n",
       "      <td>2023-08-05</td>\n",
       "      <td>Saturday</td>\n",
       "    </tr>\n",
       "    <tr>\n",
       "      <th>25844</th>\n",
       "      <td>120230805</td>\n",
       "      <td>2</td>\n",
       "      <td>99581533</td>\n",
       "      <td>2023-08-05</td>\n",
       "      <td>22</td>\n",
       "      <td>2200</td>\n",
       "      <td>2441</td>\n",
       "      <td>349973</td>\n",
       "      <td>0</td>\n",
       "      <td>FROM DOWNTOWN</td>\n",
       "      <td>...</td>\n",
       "      <td>0</td>\n",
       "      <td>0</td>\n",
       "      <td>1</td>\n",
       "      <td>0</td>\n",
       "      <td>0.0</td>\n",
       "      <td>0</td>\n",
       "      <td>14.066666</td>\n",
       "      <td>5.0</td>\n",
       "      <td>2023-08-05</td>\n",
       "      <td>Saturday</td>\n",
       "    </tr>\n",
       "    <tr>\n",
       "      <th>25845</th>\n",
       "      <td>120230805</td>\n",
       "      <td>2</td>\n",
       "      <td>99581534</td>\n",
       "      <td>2023-08-05</td>\n",
       "      <td>22</td>\n",
       "      <td>2200</td>\n",
       "      <td>2441</td>\n",
       "      <td>349973</td>\n",
       "      <td>0</td>\n",
       "      <td>FROM DOWNTOWN</td>\n",
       "      <td>...</td>\n",
       "      <td>0</td>\n",
       "      <td>0</td>\n",
       "      <td>1</td>\n",
       "      <td>0</td>\n",
       "      <td>0.0</td>\n",
       "      <td>0</td>\n",
       "      <td>0.000000</td>\n",
       "      <td>NaN</td>\n",
       "      <td>2023-08-05</td>\n",
       "      <td>Saturday</td>\n",
       "    </tr>\n",
       "    <tr>\n",
       "      <th>...</th>\n",
       "      <td>...</td>\n",
       "      <td>...</td>\n",
       "      <td>...</td>\n",
       "      <td>...</td>\n",
       "      <td>...</td>\n",
       "      <td>...</td>\n",
       "      <td>...</td>\n",
       "      <td>...</td>\n",
       "      <td>...</td>\n",
       "      <td>...</td>\n",
       "      <td>...</td>\n",
       "      <td>...</td>\n",
       "      <td>...</td>\n",
       "      <td>...</td>\n",
       "      <td>...</td>\n",
       "      <td>...</td>\n",
       "      <td>...</td>\n",
       "      <td>...</td>\n",
       "      <td>...</td>\n",
       "      <td>...</td>\n",
       "      <td>...</td>\n",
       "    </tr>\n",
       "    <tr>\n",
       "      <th>350324</th>\n",
       "      <td>120230930</td>\n",
       "      <td>2</td>\n",
       "      <td>100406610</td>\n",
       "      <td>2023-09-30</td>\n",
       "      <td>7</td>\n",
       "      <td>702</td>\n",
       "      <td>2312</td>\n",
       "      <td>353448</td>\n",
       "      <td>0</td>\n",
       "      <td>TO DOWNTOWN</td>\n",
       "      <td>...</td>\n",
       "      <td>0</td>\n",
       "      <td>1</td>\n",
       "      <td>0</td>\n",
       "      <td>0</td>\n",
       "      <td>0.0</td>\n",
       "      <td>0</td>\n",
       "      <td>0.000000</td>\n",
       "      <td>NaN</td>\n",
       "      <td>2023-09-30</td>\n",
       "      <td>Saturday</td>\n",
       "    </tr>\n",
       "    <tr>\n",
       "      <th>350325</th>\n",
       "      <td>120230930</td>\n",
       "      <td>2</td>\n",
       "      <td>100406611</td>\n",
       "      <td>2023-09-30</td>\n",
       "      <td>7</td>\n",
       "      <td>702</td>\n",
       "      <td>2312</td>\n",
       "      <td>353448</td>\n",
       "      <td>0</td>\n",
       "      <td>TO DOWNTOWN</td>\n",
       "      <td>...</td>\n",
       "      <td>0</td>\n",
       "      <td>1</td>\n",
       "      <td>0</td>\n",
       "      <td>0</td>\n",
       "      <td>NaN</td>\n",
       "      <td>0</td>\n",
       "      <td>0.000000</td>\n",
       "      <td>NaN</td>\n",
       "      <td>2023-09-30</td>\n",
       "      <td>Saturday</td>\n",
       "    </tr>\n",
       "    <tr>\n",
       "      <th>350326</th>\n",
       "      <td>120230930</td>\n",
       "      <td>2</td>\n",
       "      <td>100406612</td>\n",
       "      <td>2023-09-30</td>\n",
       "      <td>7</td>\n",
       "      <td>702</td>\n",
       "      <td>2312</td>\n",
       "      <td>353449</td>\n",
       "      <td>0</td>\n",
       "      <td>FROM DOWNTOWN</td>\n",
       "      <td>...</td>\n",
       "      <td>0</td>\n",
       "      <td>0</td>\n",
       "      <td>1</td>\n",
       "      <td>0</td>\n",
       "      <td>0.0</td>\n",
       "      <td>0</td>\n",
       "      <td>0.000000</td>\n",
       "      <td>NaN</td>\n",
       "      <td>2023-09-30</td>\n",
       "      <td>Saturday</td>\n",
       "    </tr>\n",
       "    <tr>\n",
       "      <th>350327</th>\n",
       "      <td>120230930</td>\n",
       "      <td>2</td>\n",
       "      <td>100406613</td>\n",
       "      <td>2023-09-30</td>\n",
       "      <td>7</td>\n",
       "      <td>702</td>\n",
       "      <td>2312</td>\n",
       "      <td>353449</td>\n",
       "      <td>0</td>\n",
       "      <td>FROM DOWNTOWN</td>\n",
       "      <td>...</td>\n",
       "      <td>0</td>\n",
       "      <td>1</td>\n",
       "      <td>0</td>\n",
       "      <td>0</td>\n",
       "      <td>0.0</td>\n",
       "      <td>0</td>\n",
       "      <td>0.000000</td>\n",
       "      <td>NaN</td>\n",
       "      <td>2023-09-30</td>\n",
       "      <td>Saturday</td>\n",
       "    </tr>\n",
       "    <tr>\n",
       "      <th>350328</th>\n",
       "      <td>120230930</td>\n",
       "      <td>2</td>\n",
       "      <td>100406614</td>\n",
       "      <td>2023-09-30</td>\n",
       "      <td>7</td>\n",
       "      <td>702</td>\n",
       "      <td>2312</td>\n",
       "      <td>353449</td>\n",
       "      <td>0</td>\n",
       "      <td>FROM DOWNTOWN</td>\n",
       "      <td>...</td>\n",
       "      <td>0</td>\n",
       "      <td>1</td>\n",
       "      <td>0</td>\n",
       "      <td>0</td>\n",
       "      <td>NaN</td>\n",
       "      <td>0</td>\n",
       "      <td>3.216666</td>\n",
       "      <td>NaN</td>\n",
       "      <td>2023-09-30</td>\n",
       "      <td>Saturday</td>\n",
       "    </tr>\n",
       "  </tbody>\n",
       "</table>\n",
       "<p>37497 rows × 32 columns</p>\n",
       "</div>"
      ],
      "text/plain": [
       "        CALENDAR_ID  SERVICE_ABBR  ADHERENCE_ID        DATE  ROUTE_ABBR  \\\n",
       "25841     120230805             2      99581530  2023-08-05          22   \n",
       "25842     120230805             2      99581531  2023-08-05          22   \n",
       "25843     120230805             2      99581532  2023-08-05          22   \n",
       "25844     120230805             2      99581533  2023-08-05          22   \n",
       "25845     120230805             2      99581534  2023-08-05          22   \n",
       "...             ...           ...           ...         ...         ...   \n",
       "350324    120230930             2     100406610  2023-09-30           7   \n",
       "350325    120230930             2     100406611  2023-09-30           7   \n",
       "350326    120230930             2     100406612  2023-09-30           7   \n",
       "350327    120230930             2     100406613  2023-09-30           7   \n",
       "350328    120230930             2     100406614  2023-09-30           7   \n",
       "\n",
       "        BLOCK_ABBR  OPERATOR  TRIP_ID  OVERLOAD_ID ROUTE_DIRECTION_NAME  ...  \\\n",
       "25841         2200      2441   349972            0          TO DOWNTOWN  ...   \n",
       "25842         2200      2441   349972            0          TO DOWNTOWN  ...   \n",
       "25843         2200      2441   349972            0          TO DOWNTOWN  ...   \n",
       "25844         2200      2441   349973            0        FROM DOWNTOWN  ...   \n",
       "25845         2200      2441   349973            0        FROM DOWNTOWN  ...   \n",
       "...            ...       ...      ...          ...                  ...  ...   \n",
       "350324         702      2312   353448            0          TO DOWNTOWN  ...   \n",
       "350325         702      2312   353448            0          TO DOWNTOWN  ...   \n",
       "350326         702      2312   353449            0        FROM DOWNTOWN  ...   \n",
       "350327         702      2312   353449            0        FROM DOWNTOWN  ...   \n",
       "350328         702      2312   353449            0        FROM DOWNTOWN  ...   \n",
       "\n",
       "       ADJUSTED_EARLY_COUNT  ADJUSTED_LATE_COUNT  ADJUSTED_ONTIME_COUNT  \\\n",
       "25841                     0                    0                      1   \n",
       "25842                     0                    0                      1   \n",
       "25843                     0                    0                      1   \n",
       "25844                     0                    0                      1   \n",
       "25845                     0                    0                      1   \n",
       "...                     ...                  ...                    ...   \n",
       "350324                    0                    1                      0   \n",
       "350325                    0                    1                      0   \n",
       "350326                    0                    0                      1   \n",
       "350327                    0                    1                      0   \n",
       "350328                    0                    1                      0   \n",
       "\n",
       "        STOP_CANCELLED  PREV_SCHED_STOP_CANCELLED IS_RELIEF DWELL_IN_MINS  \\\n",
       "25841                0                        0.0         0     13.283333   \n",
       "25842                0                        0.0         0      0.000000   \n",
       "25843                0                        NaN         0      0.000000   \n",
       "25844                0                        0.0         0     14.066666   \n",
       "25845                0                        0.0         0      0.000000   \n",
       "...                ...                        ...       ...           ...   \n",
       "350324               0                        0.0         0      0.000000   \n",
       "350325               0                        NaN         0      0.000000   \n",
       "350326               0                        0.0         0      0.000000   \n",
       "350327               0                        0.0         0      0.000000   \n",
       "350328               0                        NaN         0      3.216666   \n",
       "\n",
       "       SCHEDULED_LAYOVER_MINUTES     DATE_1       DAY  \n",
       "25841                        NaN 2023-08-05  Saturday  \n",
       "25842                        NaN 2023-08-05  Saturday  \n",
       "25843                        NaN 2023-08-05  Saturday  \n",
       "25844                        5.0 2023-08-05  Saturday  \n",
       "25845                        NaN 2023-08-05  Saturday  \n",
       "...                          ...        ...       ...  \n",
       "350324                       NaN 2023-09-30  Saturday  \n",
       "350325                       NaN 2023-09-30  Saturday  \n",
       "350326                       NaN 2023-09-30  Saturday  \n",
       "350327                       NaN 2023-09-30  Saturday  \n",
       "350328                       NaN 2023-09-30  Saturday  \n",
       "\n",
       "[37497 rows x 32 columns]"
      ]
     },
     "execution_count": 70,
     "metadata": {},
     "output_type": "execute_result"
    }
   ],
   "source": [
    "wego_df_saturdays = wego_df.loc[wego_df.SERVICE_ABBR == 2]\n",
    "wego_df_saturdays"
   ]
  },
  {
   "cell_type": "code",
   "execution_count": 71,
   "id": "b0162907-d44a-40e5-8994-55ff3dbc852b",
   "metadata": {},
   "outputs": [
    {
     "data": {
      "text/html": [
       "<div>\n",
       "<style scoped>\n",
       "    .dataframe tbody tr th:only-of-type {\n",
       "        vertical-align: middle;\n",
       "    }\n",
       "\n",
       "    .dataframe tbody tr th {\n",
       "        vertical-align: top;\n",
       "    }\n",
       "\n",
       "    .dataframe thead th {\n",
       "        text-align: right;\n",
       "    }\n",
       "</style>\n",
       "<table border=\"1\" class=\"dataframe\">\n",
       "  <thead>\n",
       "    <tr style=\"text-align: right;\">\n",
       "      <th></th>\n",
       "      <th>CALENDAR_ID</th>\n",
       "      <th>SERVICE_ABBR</th>\n",
       "      <th>ADHERENCE_ID</th>\n",
       "      <th>DATE</th>\n",
       "      <th>ROUTE_ABBR</th>\n",
       "      <th>BLOCK_ABBR</th>\n",
       "      <th>OPERATOR</th>\n",
       "      <th>TRIP_ID</th>\n",
       "      <th>OVERLOAD_ID</th>\n",
       "      <th>ROUTE_DIRECTION_NAME</th>\n",
       "      <th>...</th>\n",
       "      <th>ADJUSTED_EARLY_COUNT</th>\n",
       "      <th>ADJUSTED_LATE_COUNT</th>\n",
       "      <th>ADJUSTED_ONTIME_COUNT</th>\n",
       "      <th>STOP_CANCELLED</th>\n",
       "      <th>PREV_SCHED_STOP_CANCELLED</th>\n",
       "      <th>IS_RELIEF</th>\n",
       "      <th>DWELL_IN_MINS</th>\n",
       "      <th>SCHEDULED_LAYOVER_MINUTES</th>\n",
       "      <th>DATE_1</th>\n",
       "      <th>DAY</th>\n",
       "    </tr>\n",
       "  </thead>\n",
       "  <tbody>\n",
       "    <tr>\n",
       "      <th>30005</th>\n",
       "      <td>120230806</td>\n",
       "      <td>3</td>\n",
       "      <td>99601434</td>\n",
       "      <td>2023-08-06</td>\n",
       "      <td>22</td>\n",
       "      <td>2200</td>\n",
       "      <td>2821</td>\n",
       "      <td>350008</td>\n",
       "      <td>0</td>\n",
       "      <td>TO DOWNTOWN</td>\n",
       "      <td>...</td>\n",
       "      <td>0</td>\n",
       "      <td>0</td>\n",
       "      <td>1</td>\n",
       "      <td>0</td>\n",
       "      <td>0.0</td>\n",
       "      <td>0</td>\n",
       "      <td>2.016666</td>\n",
       "      <td>NaN</td>\n",
       "      <td>2023-08-06</td>\n",
       "      <td>Sunday</td>\n",
       "    </tr>\n",
       "    <tr>\n",
       "      <th>30006</th>\n",
       "      <td>120230806</td>\n",
       "      <td>3</td>\n",
       "      <td>99601435</td>\n",
       "      <td>2023-08-06</td>\n",
       "      <td>22</td>\n",
       "      <td>2200</td>\n",
       "      <td>2821</td>\n",
       "      <td>350008</td>\n",
       "      <td>0</td>\n",
       "      <td>TO DOWNTOWN</td>\n",
       "      <td>...</td>\n",
       "      <td>0</td>\n",
       "      <td>0</td>\n",
       "      <td>1</td>\n",
       "      <td>0</td>\n",
       "      <td>0.0</td>\n",
       "      <td>0</td>\n",
       "      <td>0.000000</td>\n",
       "      <td>NaN</td>\n",
       "      <td>2023-08-06</td>\n",
       "      <td>Sunday</td>\n",
       "    </tr>\n",
       "    <tr>\n",
       "      <th>30007</th>\n",
       "      <td>120230806</td>\n",
       "      <td>3</td>\n",
       "      <td>99601436</td>\n",
       "      <td>2023-08-06</td>\n",
       "      <td>22</td>\n",
       "      <td>2200</td>\n",
       "      <td>2821</td>\n",
       "      <td>350008</td>\n",
       "      <td>0</td>\n",
       "      <td>TO DOWNTOWN</td>\n",
       "      <td>...</td>\n",
       "      <td>0</td>\n",
       "      <td>0</td>\n",
       "      <td>1</td>\n",
       "      <td>0</td>\n",
       "      <td>NaN</td>\n",
       "      <td>0</td>\n",
       "      <td>0.000000</td>\n",
       "      <td>NaN</td>\n",
       "      <td>2023-08-06</td>\n",
       "      <td>Sunday</td>\n",
       "    </tr>\n",
       "    <tr>\n",
       "      <th>30008</th>\n",
       "      <td>120230806</td>\n",
       "      <td>3</td>\n",
       "      <td>99601437</td>\n",
       "      <td>2023-08-06</td>\n",
       "      <td>22</td>\n",
       "      <td>2200</td>\n",
       "      <td>2821</td>\n",
       "      <td>350009</td>\n",
       "      <td>0</td>\n",
       "      <td>FROM DOWNTOWN</td>\n",
       "      <td>...</td>\n",
       "      <td>0</td>\n",
       "      <td>0</td>\n",
       "      <td>1</td>\n",
       "      <td>0</td>\n",
       "      <td>0.0</td>\n",
       "      <td>0</td>\n",
       "      <td>14.066666</td>\n",
       "      <td>3.0</td>\n",
       "      <td>2023-08-06</td>\n",
       "      <td>Sunday</td>\n",
       "    </tr>\n",
       "    <tr>\n",
       "      <th>30009</th>\n",
       "      <td>120230806</td>\n",
       "      <td>3</td>\n",
       "      <td>99601438</td>\n",
       "      <td>2023-08-06</td>\n",
       "      <td>22</td>\n",
       "      <td>2200</td>\n",
       "      <td>2821</td>\n",
       "      <td>350009</td>\n",
       "      <td>0</td>\n",
       "      <td>FROM DOWNTOWN</td>\n",
       "      <td>...</td>\n",
       "      <td>0</td>\n",
       "      <td>0</td>\n",
       "      <td>1</td>\n",
       "      <td>0</td>\n",
       "      <td>0.0</td>\n",
       "      <td>0</td>\n",
       "      <td>0.000000</td>\n",
       "      <td>NaN</td>\n",
       "      <td>2023-08-06</td>\n",
       "      <td>Sunday</td>\n",
       "    </tr>\n",
       "    <tr>\n",
       "      <th>...</th>\n",
       "      <td>...</td>\n",
       "      <td>...</td>\n",
       "      <td>...</td>\n",
       "      <td>...</td>\n",
       "      <td>...</td>\n",
       "      <td>...</td>\n",
       "      <td>...</td>\n",
       "      <td>...</td>\n",
       "      <td>...</td>\n",
       "      <td>...</td>\n",
       "      <td>...</td>\n",
       "      <td>...</td>\n",
       "      <td>...</td>\n",
       "      <td>...</td>\n",
       "      <td>...</td>\n",
       "      <td>...</td>\n",
       "      <td>...</td>\n",
       "      <td>...</td>\n",
       "      <td>...</td>\n",
       "      <td>...</td>\n",
       "      <td>...</td>\n",
       "    </tr>\n",
       "    <tr>\n",
       "      <th>313643</th>\n",
       "      <td>120230924</td>\n",
       "      <td>3</td>\n",
       "      <td>100220735</td>\n",
       "      <td>2023-09-24</td>\n",
       "      <td>7</td>\n",
       "      <td>702</td>\n",
       "      <td>2312</td>\n",
       "      <td>353470</td>\n",
       "      <td>0</td>\n",
       "      <td>TO DOWNTOWN</td>\n",
       "      <td>...</td>\n",
       "      <td>0</td>\n",
       "      <td>1</td>\n",
       "      <td>0</td>\n",
       "      <td>0</td>\n",
       "      <td>0.0</td>\n",
       "      <td>0</td>\n",
       "      <td>0.000000</td>\n",
       "      <td>NaN</td>\n",
       "      <td>2023-09-24</td>\n",
       "      <td>Sunday</td>\n",
       "    </tr>\n",
       "    <tr>\n",
       "      <th>313644</th>\n",
       "      <td>120230924</td>\n",
       "      <td>3</td>\n",
       "      <td>100220736</td>\n",
       "      <td>2023-09-24</td>\n",
       "      <td>7</td>\n",
       "      <td>702</td>\n",
       "      <td>2312</td>\n",
       "      <td>353470</td>\n",
       "      <td>0</td>\n",
       "      <td>TO DOWNTOWN</td>\n",
       "      <td>...</td>\n",
       "      <td>0</td>\n",
       "      <td>0</td>\n",
       "      <td>0</td>\n",
       "      <td>0</td>\n",
       "      <td>NaN</td>\n",
       "      <td>0</td>\n",
       "      <td>NaN</td>\n",
       "      <td>NaN</td>\n",
       "      <td>2023-09-24</td>\n",
       "      <td>Sunday</td>\n",
       "    </tr>\n",
       "    <tr>\n",
       "      <th>313645</th>\n",
       "      <td>120230924</td>\n",
       "      <td>3</td>\n",
       "      <td>100220737</td>\n",
       "      <td>2023-09-24</td>\n",
       "      <td>7</td>\n",
       "      <td>702</td>\n",
       "      <td>2312</td>\n",
       "      <td>353471</td>\n",
       "      <td>0</td>\n",
       "      <td>FROM DOWNTOWN</td>\n",
       "      <td>...</td>\n",
       "      <td>0</td>\n",
       "      <td>0</td>\n",
       "      <td>1</td>\n",
       "      <td>0</td>\n",
       "      <td>0.0</td>\n",
       "      <td>0</td>\n",
       "      <td>5.366666</td>\n",
       "      <td>NaN</td>\n",
       "      <td>2023-09-24</td>\n",
       "      <td>Sunday</td>\n",
       "    </tr>\n",
       "    <tr>\n",
       "      <th>313646</th>\n",
       "      <td>120230924</td>\n",
       "      <td>3</td>\n",
       "      <td>100220738</td>\n",
       "      <td>2023-09-24</td>\n",
       "      <td>7</td>\n",
       "      <td>702</td>\n",
       "      <td>2312</td>\n",
       "      <td>353471</td>\n",
       "      <td>0</td>\n",
       "      <td>FROM DOWNTOWN</td>\n",
       "      <td>...</td>\n",
       "      <td>0</td>\n",
       "      <td>0</td>\n",
       "      <td>1</td>\n",
       "      <td>0</td>\n",
       "      <td>0.0</td>\n",
       "      <td>0</td>\n",
       "      <td>0.000000</td>\n",
       "      <td>NaN</td>\n",
       "      <td>2023-09-24</td>\n",
       "      <td>Sunday</td>\n",
       "    </tr>\n",
       "    <tr>\n",
       "      <th>313647</th>\n",
       "      <td>120230924</td>\n",
       "      <td>3</td>\n",
       "      <td>100220739</td>\n",
       "      <td>2023-09-24</td>\n",
       "      <td>7</td>\n",
       "      <td>702</td>\n",
       "      <td>2312</td>\n",
       "      <td>353471</td>\n",
       "      <td>0</td>\n",
       "      <td>FROM DOWNTOWN</td>\n",
       "      <td>...</td>\n",
       "      <td>0</td>\n",
       "      <td>1</td>\n",
       "      <td>0</td>\n",
       "      <td>0</td>\n",
       "      <td>NaN</td>\n",
       "      <td>0</td>\n",
       "      <td>2.333333</td>\n",
       "      <td>NaN</td>\n",
       "      <td>2023-09-24</td>\n",
       "      <td>Sunday</td>\n",
       "    </tr>\n",
       "  </tbody>\n",
       "</table>\n",
       "<p>33532 rows × 32 columns</p>\n",
       "</div>"
      ],
      "text/plain": [
       "        CALENDAR_ID  SERVICE_ABBR  ADHERENCE_ID        DATE  ROUTE_ABBR  \\\n",
       "30005     120230806             3      99601434  2023-08-06          22   \n",
       "30006     120230806             3      99601435  2023-08-06          22   \n",
       "30007     120230806             3      99601436  2023-08-06          22   \n",
       "30008     120230806             3      99601437  2023-08-06          22   \n",
       "30009     120230806             3      99601438  2023-08-06          22   \n",
       "...             ...           ...           ...         ...         ...   \n",
       "313643    120230924             3     100220735  2023-09-24           7   \n",
       "313644    120230924             3     100220736  2023-09-24           7   \n",
       "313645    120230924             3     100220737  2023-09-24           7   \n",
       "313646    120230924             3     100220738  2023-09-24           7   \n",
       "313647    120230924             3     100220739  2023-09-24           7   \n",
       "\n",
       "        BLOCK_ABBR  OPERATOR  TRIP_ID  OVERLOAD_ID ROUTE_DIRECTION_NAME  ...  \\\n",
       "30005         2200      2821   350008            0          TO DOWNTOWN  ...   \n",
       "30006         2200      2821   350008            0          TO DOWNTOWN  ...   \n",
       "30007         2200      2821   350008            0          TO DOWNTOWN  ...   \n",
       "30008         2200      2821   350009            0        FROM DOWNTOWN  ...   \n",
       "30009         2200      2821   350009            0        FROM DOWNTOWN  ...   \n",
       "...            ...       ...      ...          ...                  ...  ...   \n",
       "313643         702      2312   353470            0          TO DOWNTOWN  ...   \n",
       "313644         702      2312   353470            0          TO DOWNTOWN  ...   \n",
       "313645         702      2312   353471            0        FROM DOWNTOWN  ...   \n",
       "313646         702      2312   353471            0        FROM DOWNTOWN  ...   \n",
       "313647         702      2312   353471            0        FROM DOWNTOWN  ...   \n",
       "\n",
       "       ADJUSTED_EARLY_COUNT  ADJUSTED_LATE_COUNT  ADJUSTED_ONTIME_COUNT  \\\n",
       "30005                     0                    0                      1   \n",
       "30006                     0                    0                      1   \n",
       "30007                     0                    0                      1   \n",
       "30008                     0                    0                      1   \n",
       "30009                     0                    0                      1   \n",
       "...                     ...                  ...                    ...   \n",
       "313643                    0                    1                      0   \n",
       "313644                    0                    0                      0   \n",
       "313645                    0                    0                      1   \n",
       "313646                    0                    0                      1   \n",
       "313647                    0                    1                      0   \n",
       "\n",
       "        STOP_CANCELLED  PREV_SCHED_STOP_CANCELLED IS_RELIEF DWELL_IN_MINS  \\\n",
       "30005                0                        0.0         0      2.016666   \n",
       "30006                0                        0.0         0      0.000000   \n",
       "30007                0                        NaN         0      0.000000   \n",
       "30008                0                        0.0         0     14.066666   \n",
       "30009                0                        0.0         0      0.000000   \n",
       "...                ...                        ...       ...           ...   \n",
       "313643               0                        0.0         0      0.000000   \n",
       "313644               0                        NaN         0           NaN   \n",
       "313645               0                        0.0         0      5.366666   \n",
       "313646               0                        0.0         0      0.000000   \n",
       "313647               0                        NaN         0      2.333333   \n",
       "\n",
       "       SCHEDULED_LAYOVER_MINUTES     DATE_1     DAY  \n",
       "30005                        NaN 2023-08-06  Sunday  \n",
       "30006                        NaN 2023-08-06  Sunday  \n",
       "30007                        NaN 2023-08-06  Sunday  \n",
       "30008                        3.0 2023-08-06  Sunday  \n",
       "30009                        NaN 2023-08-06  Sunday  \n",
       "...                          ...        ...     ...  \n",
       "313643                       NaN 2023-09-24  Sunday  \n",
       "313644                       NaN 2023-09-24  Sunday  \n",
       "313645                       NaN 2023-09-24  Sunday  \n",
       "313646                       NaN 2023-09-24  Sunday  \n",
       "313647                       NaN 2023-09-24  Sunday  \n",
       "\n",
       "[33532 rows x 32 columns]"
      ]
     },
     "execution_count": 71,
     "metadata": {},
     "output_type": "execute_result"
    }
   ],
   "source": [
    "wego_df_sundays = wego_df.loc[wego_df.SERVICE_ABBR == 3]\n",
    "wego_df_sundays"
   ]
  },
  {
   "cell_type": "code",
   "execution_count": 72,
   "id": "f29ea861-488c-4853-852c-a12c335fb35c",
   "metadata": {},
   "outputs": [
    {
     "data": {
      "text/plain": [
       "DAY\n",
       "Sunday    29828\n",
       "Monday     3704\n",
       "Name: count, dtype: int64"
      ]
     },
     "execution_count": 72,
     "metadata": {},
     "output_type": "execute_result"
    }
   ],
   "source": [
    "wego_df_sundays['DAY'].value_counts()"
   ]
  },
  {
   "cell_type": "markdown",
   "id": "640ecbb5-5252-45ec-a89d-8491181ce518",
   "metadata": {},
   "source": [
    "### WEEKDAYS -279300  SATURDAYS -37497    SUNDAYS -33532 "
   ]
  },
  {
   "cell_type": "markdown",
   "id": "a0f4eacb-b3e1-425b-a01d-30f67875bc7b",
   "metadata": {},
   "source": [
    "### ADJUSTED EARLY, LATE and ONTIME VALUE COUNTS WEEKDAYS"
   ]
  },
  {
   "cell_type": "code",
   "execution_count": null,
   "id": "107c03ce-5f20-4975-a7b6-ae2710e18130",
   "metadata": {},
   "outputs": [],
   "source": []
  },
  {
   "cell_type": "code",
   "execution_count": 75,
   "id": "c2b09a71-fd13-4eec-858a-970093634d58",
   "metadata": {},
   "outputs": [
    {
     "data": {
      "text/plain": [
       "ADJUSTED_EARLY_COUNT\n",
       "0    271332\n",
       "1      7968\n",
       "Name: count, dtype: int64"
      ]
     },
     "execution_count": 75,
     "metadata": {},
     "output_type": "execute_result"
    }
   ],
   "source": [
    "wego_df_weekdays['ADJUSTED_EARLY_COUNT'].value_counts()"
   ]
  },
  {
   "cell_type": "code",
   "execution_count": 76,
   "id": "ff0517b3-8ed2-4e38-8f0a-607ceef205df",
   "metadata": {},
   "outputs": [
    {
     "data": {
      "text/plain": [
       "2.7561761546723953"
      ]
     },
     "execution_count": 76,
     "metadata": {},
     "output_type": "execute_result"
    }
   ],
   "source": [
    "(7698/279300)*100"
   ]
  },
  {
   "cell_type": "code",
   "execution_count": 77,
   "id": "d4446db4-0e52-4e37-9862-916ac4781934",
   "metadata": {},
   "outputs": [
    {
     "data": {
      "text/plain": [
       "ADJUSTED_LATE_COUNT\n",
       "0    230671\n",
       "1     48629\n",
       "Name: count, dtype: int64"
      ]
     },
     "execution_count": 77,
     "metadata": {},
     "output_type": "execute_result"
    }
   ],
   "source": [
    "wego_df_weekdays['ADJUSTED_LATE_COUNT'].value_counts()"
   ]
  },
  {
   "cell_type": "code",
   "execution_count": 78,
   "id": "ce4ccef3-0cb5-4fd1-b1e7-11e7c568c7e8",
   "metadata": {},
   "outputs": [
    {
     "data": {
      "text/plain": [
       "17.411027568922304"
      ]
     },
     "execution_count": 78,
     "metadata": {},
     "output_type": "execute_result"
    }
   ],
   "source": [
    "(48629/279300)*100"
   ]
  },
  {
   "cell_type": "code",
   "execution_count": 79,
   "id": "19a3330a-f666-4c8a-bea1-f5c2918b3c89",
   "metadata": {},
   "outputs": [
    {
     "data": {
      "text/plain": [
       "ADJUSTED_ONTIME_COUNT\n",
       "1    213690\n",
       "0     65610\n",
       "Name: count, dtype: int64"
      ]
     },
     "execution_count": 79,
     "metadata": {},
     "output_type": "execute_result"
    }
   ],
   "source": [
    "wego_df_weekdays['ADJUSTED_ONTIME_COUNT'].value_counts()"
   ]
  },
  {
   "cell_type": "code",
   "execution_count": 80,
   "id": "207b3ae9-eef1-4122-a8e4-ccf4498b6a3c",
   "metadata": {},
   "outputs": [
    {
     "data": {
      "text/plain": [
       "76.50912996777657"
      ]
     },
     "execution_count": 80,
     "metadata": {},
     "output_type": "execute_result"
    }
   ],
   "source": [
    "(213690/279300)*100"
   ]
  },
  {
   "cell_type": "markdown",
   "id": "a5f4078f-b208-42ee-8600-36c5fc108d78",
   "metadata": {},
   "source": [
    "### ADJUSTED EARLY, LATE and ONTIME VALUE COUNTS SATURDAYS"
   ]
  },
  {
   "cell_type": "code",
   "execution_count": 82,
   "id": "7870f03b-fb9a-4a4d-9c7e-00cebf041492",
   "metadata": {},
   "outputs": [
    {
     "data": {
      "text/plain": [
       "ADJUSTED_EARLY_COUNT\n",
       "0    36676\n",
       "1      821\n",
       "Name: count, dtype: int64"
      ]
     },
     "execution_count": 82,
     "metadata": {},
     "output_type": "execute_result"
    }
   ],
   "source": [
    "wego_df_saturdays['ADJUSTED_EARLY_COUNT'].value_counts()"
   ]
  },
  {
   "cell_type": "code",
   "execution_count": 83,
   "id": "386cd7ac-05dc-464b-8e08-c2ddc3f3e511",
   "metadata": {},
   "outputs": [
    {
     "data": {
      "text/plain": [
       "2.189508494012854"
      ]
     },
     "execution_count": 83,
     "metadata": {},
     "output_type": "execute_result"
    }
   ],
   "source": [
    "(821/37497)*100"
   ]
  },
  {
   "cell_type": "code",
   "execution_count": 84,
   "id": "e3f3c835-a54e-400a-ad25-5b85ecb81405",
   "metadata": {},
   "outputs": [
    {
     "data": {
      "text/plain": [
       "ADJUSTED_LATE_COUNT\n",
       "0    30750\n",
       "1     6747\n",
       "Name: count, dtype: int64"
      ]
     },
     "execution_count": 84,
     "metadata": {},
     "output_type": "execute_result"
    }
   ],
   "source": [
    "wego_df_saturdays['ADJUSTED_LATE_COUNT'].value_counts()"
   ]
  },
  {
   "cell_type": "code",
   "execution_count": 85,
   "id": "b38efc32-e8e1-445e-b2a3-d4be11d48bb5",
   "metadata": {},
   "outputs": [
    {
     "data": {
      "text/plain": [
       "17.993439475158013"
      ]
     },
     "execution_count": 85,
     "metadata": {},
     "output_type": "execute_result"
    }
   ],
   "source": [
    "(6747/37497)*100"
   ]
  },
  {
   "cell_type": "code",
   "execution_count": 86,
   "id": "33aec18f-451e-4682-a3c5-326738076116",
   "metadata": {},
   "outputs": [
    {
     "data": {
      "text/plain": [
       "ADJUSTED_ONTIME_COUNT\n",
       "1    28962\n",
       "0     8535\n",
       "Name: count, dtype: int64"
      ]
     },
     "execution_count": 86,
     "metadata": {},
     "output_type": "execute_result"
    }
   ],
   "source": [
    "wego_df_saturdays['ADJUSTED_ONTIME_COUNT'].value_counts()"
   ]
  },
  {
   "cell_type": "code",
   "execution_count": 87,
   "id": "ebe388da-28b7-410e-9f27-a92694b00868",
   "metadata": {},
   "outputs": [
    {
     "data": {
      "text/plain": [
       "77.23817905432433"
      ]
     },
     "execution_count": 87,
     "metadata": {},
     "output_type": "execute_result"
    }
   ],
   "source": [
    "(28962/37497)*100"
   ]
  },
  {
   "cell_type": "markdown",
   "id": "044a9436-698d-441b-9325-6b4d1144f7fc",
   "metadata": {},
   "source": []
  },
  {
   "cell_type": "markdown",
   "id": "ebecf6db-3559-48a4-9218-10fc598aa2ac",
   "metadata": {},
   "source": [
    "### ADJUSTED EARLY, LATE and ONTIME VALUE COUNTS SUNDAYS"
   ]
  },
  {
   "cell_type": "code",
   "execution_count": 90,
   "id": "e07cedeb-0c35-478e-aae3-17d7d3791a05",
   "metadata": {},
   "outputs": [
    {
     "data": {
      "text/plain": [
       "ADJUSTED_EARLY_COUNT\n",
       "0    32546\n",
       "1      986\n",
       "Name: count, dtype: int64"
      ]
     },
     "execution_count": 90,
     "metadata": {},
     "output_type": "execute_result"
    }
   ],
   "source": [
    "wego_df_sundays['ADJUSTED_EARLY_COUNT'].value_counts()"
   ]
  },
  {
   "cell_type": "code",
   "execution_count": 91,
   "id": "00bd21e6-15f1-4066-b206-234f779f4d7c",
   "metadata": {},
   "outputs": [
    {
     "data": {
      "text/plain": [
       "2.940474770368603"
      ]
     },
     "execution_count": 91,
     "metadata": {},
     "output_type": "execute_result"
    }
   ],
   "source": [
    "(986/33532)*100"
   ]
  },
  {
   "cell_type": "code",
   "execution_count": 92,
   "id": "b01ee86f-5e30-40df-9a15-1fa023e5772b",
   "metadata": {},
   "outputs": [
    {
     "data": {
      "text/plain": [
       "ADJUSTED_LATE_COUNT\n",
       "0    29870\n",
       "1     3662\n",
       "Name: count, dtype: int64"
      ]
     },
     "execution_count": 92,
     "metadata": {},
     "output_type": "execute_result"
    }
   ],
   "source": [
    "wego_df_sundays['ADJUSTED_LATE_COUNT'].value_counts()"
   ]
  },
  {
   "cell_type": "code",
   "execution_count": 93,
   "id": "7492c1b4-9ccf-43ca-923f-21bb0254e05f",
   "metadata": {},
   "outputs": [
    {
     "data": {
      "text/plain": [
       "10.920911368245259"
      ]
     },
     "execution_count": 93,
     "metadata": {},
     "output_type": "execute_result"
    }
   ],
   "source": [
    "(3662/33532)*100"
   ]
  },
  {
   "cell_type": "code",
   "execution_count": 94,
   "id": "817e676b-a002-4910-99a7-3fd763a76ad2",
   "metadata": {},
   "outputs": [
    {
     "data": {
      "text/plain": [
       "ADJUSTED_ONTIME_COUNT\n",
       "1    27396\n",
       "0     6136\n",
       "Name: count, dtype: int64"
      ]
     },
     "execution_count": 94,
     "metadata": {},
     "output_type": "execute_result"
    }
   ],
   "source": [
    "wego_df_sundays['ADJUSTED_ONTIME_COUNT'].value_counts()"
   ]
  },
  {
   "cell_type": "code",
   "execution_count": 95,
   "id": "fdc9104e-7f5d-4d3f-af4c-639977c40810",
   "metadata": {},
   "outputs": [
    {
     "data": {
      "text/plain": [
       "81.7010616724323"
      ]
     },
     "execution_count": 95,
     "metadata": {},
     "output_type": "execute_result"
    }
   ],
   "source": [
    "(27396/33532)*100"
   ]
  },
  {
   "cell_type": "markdown",
   "id": "2aa98377-3ad1-4518-b29a-86d9fbc5b203",
   "metadata": {},
   "source": [
    "### SCHEDULED TIME"
   ]
  },
  {
   "cell_type": "code",
   "execution_count": 97,
   "id": "9c30d3c9-b1b7-4fa2-aabb-9d5057425cef",
   "metadata": {},
   "outputs": [
    {
     "data": {
      "text/plain": [
       "0         2023-08-01 04:42:00\n",
       "1         2023-08-01 04:46:00\n",
       "2         2023-08-01 04:54:00\n",
       "3         2023-08-01 05:10:00\n",
       "4         2023-08-01 05:15:00\n",
       "                 ...         \n",
       "350324    2023-09-30 22:23:00\n",
       "350325    2023-09-30 22:38:00\n",
       "350326    2023-09-30 22:45:00\n",
       "350327    2023-09-30 22:59:00\n",
       "350328    2023-09-30 23:11:00\n",
       "Name: SCHEDULED_TIME, Length: 350329, dtype: object"
      ]
     },
     "execution_count": 97,
     "metadata": {},
     "output_type": "execute_result"
    }
   ],
   "source": [
    "wego_df['SCHEDULED_TIME']"
   ]
  },
  {
   "cell_type": "code",
   "execution_count": 98,
   "id": "4e43a446-a49d-44df-a906-da6ce09e4124",
   "metadata": {},
   "outputs": [],
   "source": [
    "wego_df['SCHEDULED_TIME_1'] = wego_df['SCHEDULED_TIME'].str.slice(-8)"
   ]
  },
  {
   "cell_type": "code",
   "execution_count": 99,
   "id": "0b43a5b1-e114-4988-8904-c6de25f9188e",
   "metadata": {},
   "outputs": [
    {
     "data": {
      "text/html": [
       "<div>\n",
       "<style scoped>\n",
       "    .dataframe tbody tr th:only-of-type {\n",
       "        vertical-align: middle;\n",
       "    }\n",
       "\n",
       "    .dataframe tbody tr th {\n",
       "        vertical-align: top;\n",
       "    }\n",
       "\n",
       "    .dataframe thead th {\n",
       "        text-align: right;\n",
       "    }\n",
       "</style>\n",
       "<table border=\"1\" class=\"dataframe\">\n",
       "  <thead>\n",
       "    <tr style=\"text-align: right;\">\n",
       "      <th></th>\n",
       "      <th>CALENDAR_ID</th>\n",
       "      <th>SERVICE_ABBR</th>\n",
       "      <th>ADHERENCE_ID</th>\n",
       "      <th>DATE</th>\n",
       "      <th>ROUTE_ABBR</th>\n",
       "      <th>BLOCK_ABBR</th>\n",
       "      <th>OPERATOR</th>\n",
       "      <th>TRIP_ID</th>\n",
       "      <th>OVERLOAD_ID</th>\n",
       "      <th>ROUTE_DIRECTION_NAME</th>\n",
       "      <th>...</th>\n",
       "      <th>ADJUSTED_ONTIME_COUNT</th>\n",
       "      <th>STOP_CANCELLED</th>\n",
       "      <th>PREV_SCHED_STOP_CANCELLED</th>\n",
       "      <th>IS_RELIEF</th>\n",
       "      <th>DWELL_IN_MINS</th>\n",
       "      <th>SCHEDULED_LAYOVER_MINUTES</th>\n",
       "      <th>DATE_1</th>\n",
       "      <th>DAY</th>\n",
       "      <th>SCHEDULED_TIME_1</th>\n",
       "      <th>time_of_day</th>\n",
       "    </tr>\n",
       "  </thead>\n",
       "  <tbody>\n",
       "    <tr>\n",
       "      <th>0</th>\n",
       "      <td>120230801</td>\n",
       "      <td>1</td>\n",
       "      <td>99457890</td>\n",
       "      <td>2023-08-01</td>\n",
       "      <td>22</td>\n",
       "      <td>2200</td>\n",
       "      <td>1040</td>\n",
       "      <td>345104</td>\n",
       "      <td>0</td>\n",
       "      <td>TO DOWNTOWN</td>\n",
       "      <td>...</td>\n",
       "      <td>1</td>\n",
       "      <td>0</td>\n",
       "      <td>0.0</td>\n",
       "      <td>0</td>\n",
       "      <td>6.500000</td>\n",
       "      <td>NaN</td>\n",
       "      <td>2023-08-01</td>\n",
       "      <td>Tuesday</td>\n",
       "      <td>04:42:00</td>\n",
       "      <td>Morning</td>\n",
       "    </tr>\n",
       "    <tr>\n",
       "      <th>1</th>\n",
       "      <td>120230801</td>\n",
       "      <td>1</td>\n",
       "      <td>99457891</td>\n",
       "      <td>2023-08-01</td>\n",
       "      <td>22</td>\n",
       "      <td>2200</td>\n",
       "      <td>1040</td>\n",
       "      <td>345104</td>\n",
       "      <td>0</td>\n",
       "      <td>TO DOWNTOWN</td>\n",
       "      <td>...</td>\n",
       "      <td>1</td>\n",
       "      <td>0</td>\n",
       "      <td>0.0</td>\n",
       "      <td>0</td>\n",
       "      <td>0.000000</td>\n",
       "      <td>NaN</td>\n",
       "      <td>2023-08-01</td>\n",
       "      <td>Tuesday</td>\n",
       "      <td>04:46:00</td>\n",
       "      <td>Morning</td>\n",
       "    </tr>\n",
       "    <tr>\n",
       "      <th>2</th>\n",
       "      <td>120230801</td>\n",
       "      <td>1</td>\n",
       "      <td>99457892</td>\n",
       "      <td>2023-08-01</td>\n",
       "      <td>22</td>\n",
       "      <td>2200</td>\n",
       "      <td>1040</td>\n",
       "      <td>345104</td>\n",
       "      <td>0</td>\n",
       "      <td>TO DOWNTOWN</td>\n",
       "      <td>...</td>\n",
       "      <td>1</td>\n",
       "      <td>0</td>\n",
       "      <td>0.0</td>\n",
       "      <td>0</td>\n",
       "      <td>0.000000</td>\n",
       "      <td>NaN</td>\n",
       "      <td>2023-08-01</td>\n",
       "      <td>Tuesday</td>\n",
       "      <td>04:54:00</td>\n",
       "      <td>Morning</td>\n",
       "    </tr>\n",
       "    <tr>\n",
       "      <th>3</th>\n",
       "      <td>120230801</td>\n",
       "      <td>1</td>\n",
       "      <td>99457893</td>\n",
       "      <td>2023-08-01</td>\n",
       "      <td>22</td>\n",
       "      <td>2200</td>\n",
       "      <td>1040</td>\n",
       "      <td>345104</td>\n",
       "      <td>0</td>\n",
       "      <td>TO DOWNTOWN</td>\n",
       "      <td>...</td>\n",
       "      <td>1</td>\n",
       "      <td>0</td>\n",
       "      <td>NaN</td>\n",
       "      <td>0</td>\n",
       "      <td>0.000000</td>\n",
       "      <td>NaN</td>\n",
       "      <td>2023-08-01</td>\n",
       "      <td>Tuesday</td>\n",
       "      <td>05:10:00</td>\n",
       "      <td>Morning</td>\n",
       "    </tr>\n",
       "    <tr>\n",
       "      <th>4</th>\n",
       "      <td>120230801</td>\n",
       "      <td>1</td>\n",
       "      <td>99457894</td>\n",
       "      <td>2023-08-01</td>\n",
       "      <td>22</td>\n",
       "      <td>2200</td>\n",
       "      <td>1040</td>\n",
       "      <td>345105</td>\n",
       "      <td>0</td>\n",
       "      <td>FROM DOWNTOWN</td>\n",
       "      <td>...</td>\n",
       "      <td>1</td>\n",
       "      <td>0</td>\n",
       "      <td>0.0</td>\n",
       "      <td>0</td>\n",
       "      <td>12.866666</td>\n",
       "      <td>5.0</td>\n",
       "      <td>2023-08-01</td>\n",
       "      <td>Tuesday</td>\n",
       "      <td>05:15:00</td>\n",
       "      <td>Morning</td>\n",
       "    </tr>\n",
       "    <tr>\n",
       "      <th>...</th>\n",
       "      <td>...</td>\n",
       "      <td>...</td>\n",
       "      <td>...</td>\n",
       "      <td>...</td>\n",
       "      <td>...</td>\n",
       "      <td>...</td>\n",
       "      <td>...</td>\n",
       "      <td>...</td>\n",
       "      <td>...</td>\n",
       "      <td>...</td>\n",
       "      <td>...</td>\n",
       "      <td>...</td>\n",
       "      <td>...</td>\n",
       "      <td>...</td>\n",
       "      <td>...</td>\n",
       "      <td>...</td>\n",
       "      <td>...</td>\n",
       "      <td>...</td>\n",
       "      <td>...</td>\n",
       "      <td>...</td>\n",
       "      <td>...</td>\n",
       "    </tr>\n",
       "    <tr>\n",
       "      <th>350324</th>\n",
       "      <td>120230930</td>\n",
       "      <td>2</td>\n",
       "      <td>100406610</td>\n",
       "      <td>2023-09-30</td>\n",
       "      <td>7</td>\n",
       "      <td>702</td>\n",
       "      <td>2312</td>\n",
       "      <td>353448</td>\n",
       "      <td>0</td>\n",
       "      <td>TO DOWNTOWN</td>\n",
       "      <td>...</td>\n",
       "      <td>0</td>\n",
       "      <td>0</td>\n",
       "      <td>0.0</td>\n",
       "      <td>0</td>\n",
       "      <td>0.000000</td>\n",
       "      <td>NaN</td>\n",
       "      <td>2023-09-30</td>\n",
       "      <td>Saturday</td>\n",
       "      <td>22:23:00</td>\n",
       "      <td>Late Evening</td>\n",
       "    </tr>\n",
       "    <tr>\n",
       "      <th>350325</th>\n",
       "      <td>120230930</td>\n",
       "      <td>2</td>\n",
       "      <td>100406611</td>\n",
       "      <td>2023-09-30</td>\n",
       "      <td>7</td>\n",
       "      <td>702</td>\n",
       "      <td>2312</td>\n",
       "      <td>353448</td>\n",
       "      <td>0</td>\n",
       "      <td>TO DOWNTOWN</td>\n",
       "      <td>...</td>\n",
       "      <td>0</td>\n",
       "      <td>0</td>\n",
       "      <td>NaN</td>\n",
       "      <td>0</td>\n",
       "      <td>0.000000</td>\n",
       "      <td>NaN</td>\n",
       "      <td>2023-09-30</td>\n",
       "      <td>Saturday</td>\n",
       "      <td>22:38:00</td>\n",
       "      <td>Late Evening</td>\n",
       "    </tr>\n",
       "    <tr>\n",
       "      <th>350326</th>\n",
       "      <td>120230930</td>\n",
       "      <td>2</td>\n",
       "      <td>100406612</td>\n",
       "      <td>2023-09-30</td>\n",
       "      <td>7</td>\n",
       "      <td>702</td>\n",
       "      <td>2312</td>\n",
       "      <td>353449</td>\n",
       "      <td>0</td>\n",
       "      <td>FROM DOWNTOWN</td>\n",
       "      <td>...</td>\n",
       "      <td>1</td>\n",
       "      <td>0</td>\n",
       "      <td>0.0</td>\n",
       "      <td>0</td>\n",
       "      <td>0.000000</td>\n",
       "      <td>NaN</td>\n",
       "      <td>2023-09-30</td>\n",
       "      <td>Saturday</td>\n",
       "      <td>22:45:00</td>\n",
       "      <td>Late Evening</td>\n",
       "    </tr>\n",
       "    <tr>\n",
       "      <th>350327</th>\n",
       "      <td>120230930</td>\n",
       "      <td>2</td>\n",
       "      <td>100406613</td>\n",
       "      <td>2023-09-30</td>\n",
       "      <td>7</td>\n",
       "      <td>702</td>\n",
       "      <td>2312</td>\n",
       "      <td>353449</td>\n",
       "      <td>0</td>\n",
       "      <td>FROM DOWNTOWN</td>\n",
       "      <td>...</td>\n",
       "      <td>0</td>\n",
       "      <td>0</td>\n",
       "      <td>0.0</td>\n",
       "      <td>0</td>\n",
       "      <td>0.000000</td>\n",
       "      <td>NaN</td>\n",
       "      <td>2023-09-30</td>\n",
       "      <td>Saturday</td>\n",
       "      <td>22:59:00</td>\n",
       "      <td>Late Evening</td>\n",
       "    </tr>\n",
       "    <tr>\n",
       "      <th>350328</th>\n",
       "      <td>120230930</td>\n",
       "      <td>2</td>\n",
       "      <td>100406614</td>\n",
       "      <td>2023-09-30</td>\n",
       "      <td>7</td>\n",
       "      <td>702</td>\n",
       "      <td>2312</td>\n",
       "      <td>353449</td>\n",
       "      <td>0</td>\n",
       "      <td>FROM DOWNTOWN</td>\n",
       "      <td>...</td>\n",
       "      <td>0</td>\n",
       "      <td>0</td>\n",
       "      <td>NaN</td>\n",
       "      <td>0</td>\n",
       "      <td>3.216666</td>\n",
       "      <td>NaN</td>\n",
       "      <td>2023-09-30</td>\n",
       "      <td>Saturday</td>\n",
       "      <td>23:11:00</td>\n",
       "      <td>Late Evening</td>\n",
       "    </tr>\n",
       "  </tbody>\n",
       "</table>\n",
       "<p>350329 rows × 34 columns</p>\n",
       "</div>"
      ],
      "text/plain": [
       "        CALENDAR_ID  SERVICE_ABBR  ADHERENCE_ID        DATE  ROUTE_ABBR  \\\n",
       "0         120230801             1      99457890  2023-08-01          22   \n",
       "1         120230801             1      99457891  2023-08-01          22   \n",
       "2         120230801             1      99457892  2023-08-01          22   \n",
       "3         120230801             1      99457893  2023-08-01          22   \n",
       "4         120230801             1      99457894  2023-08-01          22   \n",
       "...             ...           ...           ...         ...         ...   \n",
       "350324    120230930             2     100406610  2023-09-30           7   \n",
       "350325    120230930             2     100406611  2023-09-30           7   \n",
       "350326    120230930             2     100406612  2023-09-30           7   \n",
       "350327    120230930             2     100406613  2023-09-30           7   \n",
       "350328    120230930             2     100406614  2023-09-30           7   \n",
       "\n",
       "        BLOCK_ABBR  OPERATOR  TRIP_ID  OVERLOAD_ID ROUTE_DIRECTION_NAME  ...  \\\n",
       "0             2200      1040   345104            0          TO DOWNTOWN  ...   \n",
       "1             2200      1040   345104            0          TO DOWNTOWN  ...   \n",
       "2             2200      1040   345104            0          TO DOWNTOWN  ...   \n",
       "3             2200      1040   345104            0          TO DOWNTOWN  ...   \n",
       "4             2200      1040   345105            0        FROM DOWNTOWN  ...   \n",
       "...            ...       ...      ...          ...                  ...  ...   \n",
       "350324         702      2312   353448            0          TO DOWNTOWN  ...   \n",
       "350325         702      2312   353448            0          TO DOWNTOWN  ...   \n",
       "350326         702      2312   353449            0        FROM DOWNTOWN  ...   \n",
       "350327         702      2312   353449            0        FROM DOWNTOWN  ...   \n",
       "350328         702      2312   353449            0        FROM DOWNTOWN  ...   \n",
       "\n",
       "       ADJUSTED_ONTIME_COUNT  STOP_CANCELLED  PREV_SCHED_STOP_CANCELLED  \\\n",
       "0                          1               0                        0.0   \n",
       "1                          1               0                        0.0   \n",
       "2                          1               0                        0.0   \n",
       "3                          1               0                        NaN   \n",
       "4                          1               0                        0.0   \n",
       "...                      ...             ...                        ...   \n",
       "350324                     0               0                        0.0   \n",
       "350325                     0               0                        NaN   \n",
       "350326                     1               0                        0.0   \n",
       "350327                     0               0                        0.0   \n",
       "350328                     0               0                        NaN   \n",
       "\n",
       "        IS_RELIEF  DWELL_IN_MINS SCHEDULED_LAYOVER_MINUTES     DATE_1  \\\n",
       "0               0       6.500000                       NaN 2023-08-01   \n",
       "1               0       0.000000                       NaN 2023-08-01   \n",
       "2               0       0.000000                       NaN 2023-08-01   \n",
       "3               0       0.000000                       NaN 2023-08-01   \n",
       "4               0      12.866666                       5.0 2023-08-01   \n",
       "...           ...            ...                       ...        ...   \n",
       "350324          0       0.000000                       NaN 2023-09-30   \n",
       "350325          0       0.000000                       NaN 2023-09-30   \n",
       "350326          0       0.000000                       NaN 2023-09-30   \n",
       "350327          0       0.000000                       NaN 2023-09-30   \n",
       "350328          0       3.216666                       NaN 2023-09-30   \n",
       "\n",
       "             DAY  SCHEDULED_TIME_1   time_of_day  \n",
       "0        Tuesday          04:42:00       Morning  \n",
       "1        Tuesday          04:46:00       Morning  \n",
       "2        Tuesday          04:54:00       Morning  \n",
       "3        Tuesday          05:10:00       Morning  \n",
       "4        Tuesday          05:15:00       Morning  \n",
       "...          ...               ...           ...  \n",
       "350324  Saturday          22:23:00  Late Evening  \n",
       "350325  Saturday          22:38:00  Late Evening  \n",
       "350326  Saturday          22:45:00  Late Evening  \n",
       "350327  Saturday          22:59:00  Late Evening  \n",
       "350328  Saturday          23:11:00  Late Evening  \n",
       "\n",
       "[350329 rows x 34 columns]"
      ]
     },
     "execution_count": 99,
     "metadata": {},
     "output_type": "execute_result"
    }
   ],
   "source": [
    "for index, row in wego_df.iterrows():\n",
    "    if (row['SCHEDULED_TIME_1'] >= '00:00:00') & (row['SCHEDULED_TIME_1'] < '03:00:00'):\n",
    "        wego_df.loc[index, 'time_of_day'] = 'Early Morning'\n",
    "    elif (row['SCHEDULED_TIME_1'] >= '03:00:00') & (row['SCHEDULED_TIME_1'] < '06:00:00'):\n",
    "        wego_df.loc[index, 'time_of_day'] = 'Morning'      \n",
    "    elif (row['SCHEDULED_TIME_1'] >= '06:00:00') & (row['SCHEDULED_TIME_1'] < '09:00:00'):\n",
    "        wego_df.loc[index, 'time_of_day'] = 'Morning Rush'  \n",
    "    elif (row['SCHEDULED_TIME_1'] >= '09:00:00') & (row['SCHEDULED_TIME_1'] < '12:00:00'):\n",
    "        wego_df.loc[index, 'time_of_day'] = 'Late Morning'    \n",
    "    elif (row['SCHEDULED_TIME_1'] >= '12:00:00') & (row['SCHEDULED_TIME_1'] < '15:00:00'):\n",
    "        wego_df.loc[index, 'time_of_day'] = 'Early Afternoon'\n",
    "    elif (row['SCHEDULED_TIME_1'] >= '15:00:00') & (row['SCHEDULED_TIME_1'] < '18:00:00'):\n",
    "        wego_df.loc[index, 'time_of_day'] = 'Evening Rush' \n",
    "    elif (row['SCHEDULED_TIME_1'] >= '18:00:00') & (row['SCHEDULED_TIME_1'] < '21:00:00'):\n",
    "        wego_df.loc[index, 'time_of_day'] = 'Evening'\n",
    "    elif (row['SCHEDULED_TIME_1'] >= '21:00:00') & (row['SCHEDULED_TIME_1'] < '24:00:00'):\n",
    "        wego_df.loc[index, 'time_of_day'] = 'Late Evening'\n",
    "    else:\n",
    "       wego_df.loc[index, 'time_of_day'] = 'test'\n",
    "\n",
    "wego_df"
   ]
  },
  {
   "cell_type": "code",
   "execution_count": 100,
   "id": "74c767f6-4756-4cf7-85b7-e76ea6da556b",
   "metadata": {},
   "outputs": [
    {
     "data": {
      "text/html": [
       "<div>\n",
       "<style scoped>\n",
       "    .dataframe tbody tr th:only-of-type {\n",
       "        vertical-align: middle;\n",
       "    }\n",
       "\n",
       "    .dataframe tbody tr th {\n",
       "        vertical-align: top;\n",
       "    }\n",
       "\n",
       "    .dataframe thead th {\n",
       "        text-align: right;\n",
       "    }\n",
       "</style>\n",
       "<table border=\"1\" class=\"dataframe\">\n",
       "  <thead>\n",
       "    <tr style=\"text-align: right;\">\n",
       "      <th></th>\n",
       "      <th>time_of_day</th>\n",
       "      <th>count</th>\n",
       "    </tr>\n",
       "  </thead>\n",
       "  <tbody>\n",
       "    <tr>\n",
       "      <th>0</th>\n",
       "      <td>Evening Rush</td>\n",
       "      <td>67274</td>\n",
       "    </tr>\n",
       "    <tr>\n",
       "      <th>1</th>\n",
       "      <td>Morning Rush</td>\n",
       "      <td>63985</td>\n",
       "    </tr>\n",
       "    <tr>\n",
       "      <th>2</th>\n",
       "      <td>Early Afternoon</td>\n",
       "      <td>62422</td>\n",
       "    </tr>\n",
       "    <tr>\n",
       "      <th>3</th>\n",
       "      <td>Late Morning</td>\n",
       "      <td>61722</td>\n",
       "    </tr>\n",
       "    <tr>\n",
       "      <th>4</th>\n",
       "      <td>Evening</td>\n",
       "      <td>44910</td>\n",
       "    </tr>\n",
       "    <tr>\n",
       "      <th>5</th>\n",
       "      <td>Late Evening</td>\n",
       "      <td>33482</td>\n",
       "    </tr>\n",
       "    <tr>\n",
       "      <th>6</th>\n",
       "      <td>Morning</td>\n",
       "      <td>12190</td>\n",
       "    </tr>\n",
       "    <tr>\n",
       "      <th>7</th>\n",
       "      <td>Early Morning</td>\n",
       "      <td>4344</td>\n",
       "    </tr>\n",
       "  </tbody>\n",
       "</table>\n",
       "</div>"
      ],
      "text/plain": [
       "       time_of_day  count\n",
       "0     Evening Rush  67274\n",
       "1     Morning Rush  63985\n",
       "2  Early Afternoon  62422\n",
       "3     Late Morning  61722\n",
       "4          Evening  44910\n",
       "5     Late Evening  33482\n",
       "6          Morning  12190\n",
       "7    Early Morning   4344"
      ]
     },
     "execution_count": 100,
     "metadata": {},
     "output_type": "execute_result"
    }
   ],
   "source": [
    "wego_time_of_day_counts = wego_df['time_of_day'].value_counts().reset_index()\n",
    "wego_time_of_day_counts"
   ]
  },
  {
   "cell_type": "code",
   "execution_count": 101,
   "id": "fd1a013d-6e49-4cc4-8c81-f0bf6f3b373c",
   "metadata": {},
   "outputs": [
    {
     "data": {
      "text/html": [
       "<div>\n",
       "<style scoped>\n",
       "    .dataframe tbody tr th:only-of-type {\n",
       "        vertical-align: middle;\n",
       "    }\n",
       "\n",
       "    .dataframe tbody tr th {\n",
       "        vertical-align: top;\n",
       "    }\n",
       "\n",
       "    .dataframe thead th {\n",
       "        text-align: right;\n",
       "    }\n",
       "</style>\n",
       "<table border=\"1\" class=\"dataframe\">\n",
       "  <thead>\n",
       "    <tr style=\"text-align: right;\">\n",
       "      <th></th>\n",
       "      <th>Time Of Day</th>\n",
       "      <th>count</th>\n",
       "    </tr>\n",
       "  </thead>\n",
       "  <tbody>\n",
       "    <tr>\n",
       "      <th>0</th>\n",
       "      <td>Early Morning</td>\n",
       "      <td>4344</td>\n",
       "    </tr>\n",
       "    <tr>\n",
       "      <th>1</th>\n",
       "      <td>Morning</td>\n",
       "      <td>12190</td>\n",
       "    </tr>\n",
       "    <tr>\n",
       "      <th>2</th>\n",
       "      <td>Morning Rush</td>\n",
       "      <td>63985</td>\n",
       "    </tr>\n",
       "    <tr>\n",
       "      <th>3</th>\n",
       "      <td>Late Morning</td>\n",
       "      <td>61722</td>\n",
       "    </tr>\n",
       "    <tr>\n",
       "      <th>4</th>\n",
       "      <td>Early Afternoon</td>\n",
       "      <td>62422</td>\n",
       "    </tr>\n",
       "    <tr>\n",
       "      <th>5</th>\n",
       "      <td>Evening Rush</td>\n",
       "      <td>67274</td>\n",
       "    </tr>\n",
       "    <tr>\n",
       "      <th>6</th>\n",
       "      <td>Evening</td>\n",
       "      <td>44910</td>\n",
       "    </tr>\n",
       "    <tr>\n",
       "      <th>7</th>\n",
       "      <td>Late Evening</td>\n",
       "      <td>33482</td>\n",
       "    </tr>\n",
       "  </tbody>\n",
       "</table>\n",
       "</div>"
      ],
      "text/plain": [
       "       Time Of Day  count\n",
       "0    Early Morning   4344\n",
       "1          Morning  12190\n",
       "2     Morning Rush  63985\n",
       "3     Late Morning  61722\n",
       "4  Early Afternoon  62422\n",
       "5     Evening Rush  67274\n",
       "6          Evening  44910\n",
       "7     Late Evening  33482"
      ]
     },
     "execution_count": 101,
     "metadata": {},
     "output_type": "execute_result"
    }
   ],
   "source": [
    "data = [['Early Morning', 4344], ['Morning', 12190], ['Morning Rush', 63985], ['Late Morning', 61722], ['Early Afternoon', 62422], ['Evening Rush', 67274], ['Evening', 44910],['Late Evening', 33482] ]\n",
    "time_of_day_count = pd.DataFrame(data, columns=['Time Of Day', 'count'])\n",
    "time_of_day_count"
   ]
  },
  {
   "cell_type": "code",
   "execution_count": 102,
   "id": "1fdce305-cc35-4d01-afd3-74b716885aed",
   "metadata": {},
   "outputs": [
    {
     "data": {
      "image/png": "[encoded data removed]",
      "text/plain": [
       "<Figure size 1000x600 with 1 Axes>"
      ]
     },
     "metadata": {},
     "output_type": "display_data"
    }
   ],
   "source": [
    "plt.figure(figsize=(10, 6))\n",
    "sns.barplot(data=time_of_day_count,\n",
    "            x='Time Of Day',\n",
    "            y='count',\n",
    "            palette='Purples_d'\n",
    "             )  \n",
    "plt.xticks(rotation=45)  \n",
    "plt.xlabel('Time Of Day')\n",
    "plt.ylabel('Count Of Stops')\n",
    "plt.title('Stops By Time Of Day')\n",
    "plt.savefig(\"count_of_stops_by_time.png\")\n",
    "plt.show()"
   ]
  },
  {
   "cell_type": "code",
   "execution_count": 103,
   "id": "40cd08fd-5730-4f47-a298-b8d8b76774a6",
   "metadata": {},
   "outputs": [
    {
     "data": {
      "image/png": "[encoded data removed]",
      "text/plain": [
       "<Figure size 1000x600 with 1 Axes>"
      ]
     },
     "metadata": {},
     "output_type": "display_data"
    }
   ],
   "source": [
    "plt.figure(figsize=(10, 6))\n",
    "sns.barplot(data=wego_time_of_day_counts,\n",
    "            x='time_of_day',\n",
    "            y='count',\n",
    "            palette='Purples_d'\n",
    "            )  \n",
    "plt.xticks(rotation=45)  \n",
    "plt.xlabel('Time Of Day')\n",
    "plt.ylabel('Count Of Stops')\n",
    "plt.title('Stops By Time Of Day')\n",
    "plt.savefig(\"count_of_stops_by_time.png\")\n",
    "plt.show()"
   ]
  },
  {
   "cell_type": "code",
   "execution_count": 104,
   "id": "5af78a5d-5b6e-4439-9c63-6a2b340b96e1",
   "metadata": {},
   "outputs": [
    {
     "data": {
      "text/plain": [
       "19.20309195070919"
      ]
     },
     "execution_count": 104,
     "metadata": {},
     "output_type": "execute_result"
    }
   ],
   "source": [
    "(67274/350329)*100 ##evening rush"
   ]
  },
  {
   "cell_type": "code",
   "execution_count": 105,
   "id": "7ec69aaa-657e-4156-bbab-c2f2784c458e",
   "metadata": {},
   "outputs": [
    {
     "data": {
      "text/plain": [
       "18.26426016687171"
      ]
     },
     "execution_count": 105,
     "metadata": {},
     "output_type": "execute_result"
    }
   ],
   "source": [
    "(63985/350329)*100 ##morning_rush"
   ]
  },
  {
   "cell_type": "code",
   "execution_count": 106,
   "id": "fdba90e2-6722-4507-a79f-259344cb853e",
   "metadata": {},
   "outputs": [
    {
     "data": {
      "text/plain": [
       "17.81810812122319"
      ]
     },
     "execution_count": 106,
     "metadata": {},
     "output_type": "execute_result"
    }
   ],
   "source": [
    "(62422/350329)*100 ##early afternoon"
   ]
  },
  {
   "cell_type": "code",
   "execution_count": 107,
   "id": "3c18b9c2-38db-4a01-94cd-a257c74a1c3a",
   "metadata": {},
   "outputs": [
    {
     "data": {
      "text/plain": [
       "17.618295944669153"
      ]
     },
     "execution_count": 107,
     "metadata": {},
     "output_type": "execute_result"
    }
   ],
   "source": [
    "(61722/350329)*100 ##late morning"
   ]
  },
  {
   "cell_type": "code",
   "execution_count": 108,
   "id": "07cff666-ed54-468d-998d-bf4d9f51bca0",
   "metadata": {},
   "outputs": [
    {
     "data": {
      "text/plain": [
       "12.819378355774145"
      ]
     },
     "execution_count": 108,
     "metadata": {},
     "output_type": "execute_result"
    }
   ],
   "source": [
    "(44910/350329)*100 ##evening"
   ]
  },
  {
   "cell_type": "code",
   "execution_count": 109,
   "id": "e6f844fa-ac77-432d-abf7-9813c51d0747",
   "metadata": {},
   "outputs": [
    {
     "data": {
      "text/plain": [
       "9.557301850546201"
      ]
     },
     "execution_count": 109,
     "metadata": {},
     "output_type": "execute_result"
    }
   ],
   "source": [
    "(33482/350329)*100 ##late evening"
   ]
  },
  {
   "cell_type": "code",
   "execution_count": 110,
   "id": "9b9d87d9-8238-4375-8e49-020d26fdced2",
   "metadata": {},
   "outputs": [
    {
     "data": {
      "text/plain": [
       "3.47958633170534"
      ]
     },
     "execution_count": 110,
     "metadata": {},
     "output_type": "execute_result"
    }
   ],
   "source": [
    "(12190/350329)*100 ##morning            "
   ]
  },
  {
   "cell_type": "code",
   "execution_count": 111,
   "id": "87b07666-ef99-42f5-99e4-9061395a987d",
   "metadata": {},
   "outputs": [
    {
     "data": {
      "text/plain": [
       "1.2399772785010663"
      ]
     },
     "execution_count": 111,
     "metadata": {},
     "output_type": "execute_result"
    }
   ],
   "source": [
    "(4344/350329)*100 ##early morning       "
   ]
  },
  {
   "cell_type": "code",
   "execution_count": 112,
   "id": "a7495582-e2b4-46f7-bf2d-11b959215442",
   "metadata": {},
   "outputs": [
    {
     "data": {
      "text/html": [
       "<div>\n",
       "<style scoped>\n",
       "    .dataframe tbody tr th:only-of-type {\n",
       "        vertical-align: middle;\n",
       "    }\n",
       "\n",
       "    .dataframe tbody tr th {\n",
       "        vertical-align: top;\n",
       "    }\n",
       "\n",
       "    .dataframe thead th {\n",
       "        text-align: right;\n",
       "    }\n",
       "</style>\n",
       "<table border=\"1\" class=\"dataframe\">\n",
       "  <thead>\n",
       "    <tr style=\"text-align: right;\">\n",
       "      <th></th>\n",
       "      <th>Time Of Day</th>\n",
       "      <th>Pct of Routes</th>\n",
       "    </tr>\n",
       "  </thead>\n",
       "  <tbody>\n",
       "    <tr>\n",
       "      <th>0</th>\n",
       "      <td>Early Morning</td>\n",
       "      <td>1.23</td>\n",
       "    </tr>\n",
       "    <tr>\n",
       "      <th>1</th>\n",
       "      <td>Morning</td>\n",
       "      <td>3.47</td>\n",
       "    </tr>\n",
       "    <tr>\n",
       "      <th>2</th>\n",
       "      <td>Morning Rush</td>\n",
       "      <td>18.26</td>\n",
       "    </tr>\n",
       "    <tr>\n",
       "      <th>3</th>\n",
       "      <td>Late Morning</td>\n",
       "      <td>17.61</td>\n",
       "    </tr>\n",
       "    <tr>\n",
       "      <th>4</th>\n",
       "      <td>Early Afternoon</td>\n",
       "      <td>17.81</td>\n",
       "    </tr>\n",
       "    <tr>\n",
       "      <th>5</th>\n",
       "      <td>Evening Rush</td>\n",
       "      <td>19.20</td>\n",
       "    </tr>\n",
       "    <tr>\n",
       "      <th>6</th>\n",
       "      <td>Evening</td>\n",
       "      <td>12.81</td>\n",
       "    </tr>\n",
       "    <tr>\n",
       "      <th>7</th>\n",
       "      <td>Late Evening</td>\n",
       "      <td>9.55</td>\n",
       "    </tr>\n",
       "  </tbody>\n",
       "</table>\n",
       "</div>"
      ],
      "text/plain": [
       "       Time Of Day  Pct of Routes\n",
       "0    Early Morning           1.23\n",
       "1          Morning           3.47\n",
       "2     Morning Rush          18.26\n",
       "3     Late Morning          17.61\n",
       "4  Early Afternoon          17.81\n",
       "5     Evening Rush          19.20\n",
       "6          Evening          12.81\n",
       "7     Late Evening           9.55"
      ]
     },
     "execution_count": 112,
     "metadata": {},
     "output_type": "execute_result"
    }
   ],
   "source": [
    "data = [['Early Morning', 1.23], ['Morning', 3.47], ['Morning Rush', 18.26], ['Late Morning', 17.61], ['Early Afternoon', 17.81], ['Evening Rush', 19.20], ['Evening', 12.81],['Late Evening', 9.55] ]\n",
    "time_of_day_pct = pd.DataFrame(data, columns=['Time Of Day', 'Pct of Routes'])\n",
    "time_of_day_pct"
   ]
  },
  {
   "cell_type": "code",
   "execution_count": 113,
   "id": "44da9a67-9924-4e95-814d-49d58868b829",
   "metadata": {},
   "outputs": [
    {
     "data": {
      "image/png": "[encoded data removed]",
      "text/plain": [
       "<Figure size 1000x700 with 1 Axes>"
      ]
     },
     "metadata": {},
     "output_type": "display_data"
    }
   ],
   "source": [
    "plt.figure(figsize=(10, 7))\n",
    "colors = ['#d8bfd8','#dda0dd','#d8bfd8','#da70d6','#ba55d3','#9932cc','#6a0dad','#f5f3ff']\n",
    "plt.pie(time_of_day_pct['Pct of Routes'], labels=time_of_day_pct['Time Of Day'], autopct='%1.2f%%', startangle=140,colors=colors )\n",
    "plt.title('Percentage Of Stops By Time of Day')\n",
    "plt.show()"
   ]
  },
  {
   "cell_type": "code",
   "execution_count": 114,
   "id": "ff4bb88c-1148-4c10-98c5-fc2603f1cad6",
   "metadata": {},
   "outputs": [],
   "source": [
    "## colors = ['#e0bbff','#d699ff','#cc66ff','#c133ff','#b300ff','#9900cc','#800099','#4d004d'] colors = colors"
   ]
  },
  {
   "cell_type": "code",
   "execution_count": null,
   "id": "59c60dd2-6698-4a61-a16b-cb4398a49e9d",
   "metadata": {},
   "outputs": [],
   "source": []
  },
  {
   "cell_type": "code",
   "execution_count": 115,
   "id": "bed88316-9f44-4795-a00a-233a85b1fdf7",
   "metadata": {},
   "outputs": [
    {
     "data": {
      "text/html": [
       "<div>\n",
       "<style scoped>\n",
       "    .dataframe tbody tr th:only-of-type {\n",
       "        vertical-align: middle;\n",
       "    }\n",
       "\n",
       "    .dataframe tbody tr th {\n",
       "        vertical-align: top;\n",
       "    }\n",
       "\n",
       "    .dataframe thead th {\n",
       "        text-align: right;\n",
       "    }\n",
       "</style>\n",
       "<table border=\"1\" class=\"dataframe\">\n",
       "  <thead>\n",
       "    <tr style=\"text-align: right;\">\n",
       "      <th></th>\n",
       "      <th>CALENDAR_ID</th>\n",
       "      <th>SERVICE_ABBR</th>\n",
       "      <th>ADHERENCE_ID</th>\n",
       "      <th>DATE</th>\n",
       "      <th>ROUTE_ABBR</th>\n",
       "      <th>BLOCK_ABBR</th>\n",
       "      <th>OPERATOR</th>\n",
       "      <th>TRIP_ID</th>\n",
       "      <th>OVERLOAD_ID</th>\n",
       "      <th>ROUTE_DIRECTION_NAME</th>\n",
       "      <th>...</th>\n",
       "      <th>ADJUSTED_ONTIME_COUNT</th>\n",
       "      <th>STOP_CANCELLED</th>\n",
       "      <th>PREV_SCHED_STOP_CANCELLED</th>\n",
       "      <th>IS_RELIEF</th>\n",
       "      <th>DWELL_IN_MINS</th>\n",
       "      <th>SCHEDULED_LAYOVER_MINUTES</th>\n",
       "      <th>DATE_1</th>\n",
       "      <th>DAY</th>\n",
       "      <th>SCHEDULED_TIME_1</th>\n",
       "      <th>time_of_day</th>\n",
       "    </tr>\n",
       "  </thead>\n",
       "  <tbody>\n",
       "  </tbody>\n",
       "</table>\n",
       "<p>0 rows × 34 columns</p>\n",
       "</div>"
      ],
      "text/plain": [
       "Empty DataFrame\n",
       "Columns: [CALENDAR_ID, SERVICE_ABBR, ADHERENCE_ID, DATE, ROUTE_ABBR, BLOCK_ABBR, OPERATOR, TRIP_ID, OVERLOAD_ID, ROUTE_DIRECTION_NAME, TIME_POINT_ABBR, ROUTE_STOP_SEQUENCE, TRIP_EDGE, LATITUDE, LONGITUDE, SCHEDULED_TIME, ACTUAL_ARRIVAL_TIME, ACTUAL_DEPARTURE_TIME, ADHERENCE, SCHEDULED_HDWY, ACTUAL_HDWY, HDWY_DEV, ADJUSTED_EARLY_COUNT, ADJUSTED_LATE_COUNT, ADJUSTED_ONTIME_COUNT, STOP_CANCELLED, PREV_SCHED_STOP_CANCELLED, IS_RELIEF, DWELL_IN_MINS, SCHEDULED_LAYOVER_MINUTES, DATE_1, DAY, SCHEDULED_TIME_1, time_of_day]\n",
       "Index: []\n",
       "\n",
       "[0 rows x 34 columns]"
      ]
     },
     "execution_count": 115,
     "metadata": {},
     "output_type": "execute_result"
    }
   ],
   "source": [
    "wego_early_morning = wego_df.loc[wego_df['time_of_day'] == 'early morning']\n",
    "wego_early_morning"
   ]
  },
  {
   "cell_type": "code",
   "execution_count": 116,
   "id": "5a1ba345-8529-4192-9d7e-75cb0edf75bf",
   "metadata": {},
   "outputs": [
    {
     "data": {
      "text/plain": [
       "Series([], Name: count, dtype: int64)"
      ]
     },
     "execution_count": 116,
     "metadata": {},
     "output_type": "execute_result"
    }
   ],
   "source": [
    "wego_early_morning['ADJUSTED_EARLY_COUNT'].value_counts()"
   ]
  },
  {
   "cell_type": "code",
   "execution_count": 117,
   "id": "55730ab0-75d4-41ae-b8c3-ac0faf54f33c",
   "metadata": {},
   "outputs": [
    {
     "data": {
      "text/plain": [
       "8.83977900552486"
      ]
     },
     "execution_count": 117,
     "metadata": {},
     "output_type": "execute_result"
    }
   ],
   "source": [
    "(384/4344)*100"
   ]
  },
  {
   "cell_type": "code",
   "execution_count": 118,
   "id": "1db53876-1191-4657-9f66-2d0d03b93b29",
   "metadata": {},
   "outputs": [
    {
     "data": {
      "text/plain": [
       "Series([], Name: count, dtype: int64)"
      ]
     },
     "execution_count": 118,
     "metadata": {},
     "output_type": "execute_result"
    }
   ],
   "source": [
    "wego_early_morning['ADJUSTED_LATE_COUNT'].value_counts()"
   ]
  },
  {
   "cell_type": "code",
   "execution_count": 119,
   "id": "61cd004f-0d0c-41db-846c-1f882c912b32",
   "metadata": {},
   "outputs": [
    {
     "data": {
      "text/plain": [
       "18.853591160220994"
      ]
     },
     "execution_count": 119,
     "metadata": {},
     "output_type": "execute_result"
    }
   ],
   "source": [
    "(819/4344)*100"
   ]
  },
  {
   "cell_type": "code",
   "execution_count": 120,
   "id": "90e140bb-d124-4197-8fac-2f5b0d6e19a7",
   "metadata": {},
   "outputs": [
    {
     "data": {
      "text/plain": [
       "Series([], Name: count, dtype: int64)"
      ]
     },
     "execution_count": 120,
     "metadata": {},
     "output_type": "execute_result"
    }
   ],
   "source": [
    "wego_early_morning['ADJUSTED_ONTIME_COUNT'].value_counts()"
   ]
  },
  {
   "cell_type": "code",
   "execution_count": 121,
   "id": "48e2378f-2785-4259-bce0-21855b8cb37f",
   "metadata": {},
   "outputs": [
    {
     "data": {
      "text/plain": [
       "67.40331491712708"
      ]
     },
     "execution_count": 121,
     "metadata": {},
     "output_type": "execute_result"
    }
   ],
   "source": [
    "(2928/4344)*100"
   ]
  },
  {
   "cell_type": "code",
   "execution_count": 122,
   "id": "bd9d5931-e2ff-40e7-92b9-3d3b8b02d88b",
   "metadata": {},
   "outputs": [
    {
     "data": {
      "text/html": [
       "<div>\n",
       "<style scoped>\n",
       "    .dataframe tbody tr th:only-of-type {\n",
       "        vertical-align: middle;\n",
       "    }\n",
       "\n",
       "    .dataframe tbody tr th {\n",
       "        vertical-align: top;\n",
       "    }\n",
       "\n",
       "    .dataframe thead th {\n",
       "        text-align: right;\n",
       "    }\n",
       "</style>\n",
       "<table border=\"1\" class=\"dataframe\">\n",
       "  <thead>\n",
       "    <tr style=\"text-align: right;\">\n",
       "      <th></th>\n",
       "      <th>CALENDAR_ID</th>\n",
       "      <th>SERVICE_ABBR</th>\n",
       "      <th>ADHERENCE_ID</th>\n",
       "      <th>DATE</th>\n",
       "      <th>ROUTE_ABBR</th>\n",
       "      <th>BLOCK_ABBR</th>\n",
       "      <th>OPERATOR</th>\n",
       "      <th>TRIP_ID</th>\n",
       "      <th>OVERLOAD_ID</th>\n",
       "      <th>ROUTE_DIRECTION_NAME</th>\n",
       "      <th>...</th>\n",
       "      <th>ADJUSTED_ONTIME_COUNT</th>\n",
       "      <th>STOP_CANCELLED</th>\n",
       "      <th>PREV_SCHED_STOP_CANCELLED</th>\n",
       "      <th>IS_RELIEF</th>\n",
       "      <th>DWELL_IN_MINS</th>\n",
       "      <th>SCHEDULED_LAYOVER_MINUTES</th>\n",
       "      <th>DATE_1</th>\n",
       "      <th>DAY</th>\n",
       "      <th>SCHEDULED_TIME_1</th>\n",
       "      <th>time_of_day</th>\n",
       "    </tr>\n",
       "  </thead>\n",
       "  <tbody>\n",
       "  </tbody>\n",
       "</table>\n",
       "<p>0 rows × 34 columns</p>\n",
       "</div>"
      ],
      "text/plain": [
       "Empty DataFrame\n",
       "Columns: [CALENDAR_ID, SERVICE_ABBR, ADHERENCE_ID, DATE, ROUTE_ABBR, BLOCK_ABBR, OPERATOR, TRIP_ID, OVERLOAD_ID, ROUTE_DIRECTION_NAME, TIME_POINT_ABBR, ROUTE_STOP_SEQUENCE, TRIP_EDGE, LATITUDE, LONGITUDE, SCHEDULED_TIME, ACTUAL_ARRIVAL_TIME, ACTUAL_DEPARTURE_TIME, ADHERENCE, SCHEDULED_HDWY, ACTUAL_HDWY, HDWY_DEV, ADJUSTED_EARLY_COUNT, ADJUSTED_LATE_COUNT, ADJUSTED_ONTIME_COUNT, STOP_CANCELLED, PREV_SCHED_STOP_CANCELLED, IS_RELIEF, DWELL_IN_MINS, SCHEDULED_LAYOVER_MINUTES, DATE_1, DAY, SCHEDULED_TIME_1, time_of_day]\n",
       "Index: []\n",
       "\n",
       "[0 rows x 34 columns]"
      ]
     },
     "execution_count": 122,
     "metadata": {},
     "output_type": "execute_result"
    }
   ],
   "source": [
    "wego_morning = wego_df.loc[wego_df['time_of_day'] == 'morning']\n",
    "wego_morning"
   ]
  },
  {
   "cell_type": "code",
   "execution_count": 123,
   "id": "8e3cc454-c529-40ff-a2aa-fa927e5e9fa9",
   "metadata": {},
   "outputs": [
    {
     "data": {
      "text/plain": [
       "Series([], Name: count, dtype: int64)"
      ]
     },
     "execution_count": 123,
     "metadata": {},
     "output_type": "execute_result"
    }
   ],
   "source": [
    "wego_morning['ADJUSTED_EARLY_COUNT'].value_counts()"
   ]
  },
  {
   "cell_type": "code",
   "execution_count": 124,
   "id": "627f1c1b-2551-4bf5-b8d8-ad99256c9f38",
   "metadata": {},
   "outputs": [
    {
     "data": {
      "text/plain": [
       "3.6177194421657095"
      ]
     },
     "execution_count": 124,
     "metadata": {},
     "output_type": "execute_result"
    }
   ],
   "source": [
    "(441/12190)*100"
   ]
  },
  {
   "cell_type": "code",
   "execution_count": 125,
   "id": "45fd29fa-23dd-4a43-802a-45d0d3d0da4a",
   "metadata": {},
   "outputs": [
    {
     "data": {
      "text/plain": [
       "Series([], Name: count, dtype: int64)"
      ]
     },
     "execution_count": 125,
     "metadata": {},
     "output_type": "execute_result"
    }
   ],
   "source": [
    "wego_morning['ADJUSTED_LATE_COUNT'].value_counts()"
   ]
  },
  {
   "cell_type": "code",
   "execution_count": 126,
   "id": "3b157add-5b69-4608-a445-d1c4562eb67a",
   "metadata": {},
   "outputs": [
    {
     "data": {
      "text/plain": [
       "3.814602132895816"
      ]
     },
     "execution_count": 126,
     "metadata": {},
     "output_type": "execute_result"
    }
   ],
   "source": [
    "(465/12190)*100"
   ]
  },
  {
   "cell_type": "code",
   "execution_count": 127,
   "id": "587f95b1-f6b7-439e-ac52-39bcc8180f12",
   "metadata": {},
   "outputs": [
    {
     "data": {
      "text/plain": [
       "Series([], Name: count, dtype: int64)"
      ]
     },
     "execution_count": 127,
     "metadata": {},
     "output_type": "execute_result"
    }
   ],
   "source": [
    "wego_morning['ADJUSTED_ONTIME_COUNT'].value_counts()"
   ]
  },
  {
   "cell_type": "code",
   "execution_count": 128,
   "id": "c479c744-dcad-4546-a386-0ff84029680f",
   "metadata": {},
   "outputs": [
    {
     "data": {
      "text/plain": [
       "89.12223133716161"
      ]
     },
     "execution_count": 128,
     "metadata": {},
     "output_type": "execute_result"
    }
   ],
   "source": [
    "(10864/12190)*100"
   ]
  },
  {
   "cell_type": "code",
   "execution_count": 129,
   "id": "a79da8c8-dd05-4f13-8376-8933f28b5e65",
   "metadata": {},
   "outputs": [
    {
     "data": {
      "text/html": [
       "<div>\n",
       "<style scoped>\n",
       "    .dataframe tbody tr th:only-of-type {\n",
       "        vertical-align: middle;\n",
       "    }\n",
       "\n",
       "    .dataframe tbody tr th {\n",
       "        vertical-align: top;\n",
       "    }\n",
       "\n",
       "    .dataframe thead th {\n",
       "        text-align: right;\n",
       "    }\n",
       "</style>\n",
       "<table border=\"1\" class=\"dataframe\">\n",
       "  <thead>\n",
       "    <tr style=\"text-align: right;\">\n",
       "      <th></th>\n",
       "      <th>CALENDAR_ID</th>\n",
       "      <th>SERVICE_ABBR</th>\n",
       "      <th>ADHERENCE_ID</th>\n",
       "      <th>DATE</th>\n",
       "      <th>ROUTE_ABBR</th>\n",
       "      <th>BLOCK_ABBR</th>\n",
       "      <th>OPERATOR</th>\n",
       "      <th>TRIP_ID</th>\n",
       "      <th>OVERLOAD_ID</th>\n",
       "      <th>ROUTE_DIRECTION_NAME</th>\n",
       "      <th>...</th>\n",
       "      <th>ADJUSTED_ONTIME_COUNT</th>\n",
       "      <th>STOP_CANCELLED</th>\n",
       "      <th>PREV_SCHED_STOP_CANCELLED</th>\n",
       "      <th>IS_RELIEF</th>\n",
       "      <th>DWELL_IN_MINS</th>\n",
       "      <th>SCHEDULED_LAYOVER_MINUTES</th>\n",
       "      <th>DATE_1</th>\n",
       "      <th>DAY</th>\n",
       "      <th>SCHEDULED_TIME_1</th>\n",
       "      <th>time_of_day</th>\n",
       "    </tr>\n",
       "  </thead>\n",
       "  <tbody>\n",
       "  </tbody>\n",
       "</table>\n",
       "<p>0 rows × 34 columns</p>\n",
       "</div>"
      ],
      "text/plain": [
       "Empty DataFrame\n",
       "Columns: [CALENDAR_ID, SERVICE_ABBR, ADHERENCE_ID, DATE, ROUTE_ABBR, BLOCK_ABBR, OPERATOR, TRIP_ID, OVERLOAD_ID, ROUTE_DIRECTION_NAME, TIME_POINT_ABBR, ROUTE_STOP_SEQUENCE, TRIP_EDGE, LATITUDE, LONGITUDE, SCHEDULED_TIME, ACTUAL_ARRIVAL_TIME, ACTUAL_DEPARTURE_TIME, ADHERENCE, SCHEDULED_HDWY, ACTUAL_HDWY, HDWY_DEV, ADJUSTED_EARLY_COUNT, ADJUSTED_LATE_COUNT, ADJUSTED_ONTIME_COUNT, STOP_CANCELLED, PREV_SCHED_STOP_CANCELLED, IS_RELIEF, DWELL_IN_MINS, SCHEDULED_LAYOVER_MINUTES, DATE_1, DAY, SCHEDULED_TIME_1, time_of_day]\n",
       "Index: []\n",
       "\n",
       "[0 rows x 34 columns]"
      ]
     },
     "execution_count": 129,
     "metadata": {},
     "output_type": "execute_result"
    }
   ],
   "source": [
    "wego_morning_rush = wego_df.loc[wego_df['time_of_day'] == 'morning rush']\n",
    "wego_morning_rush"
   ]
  },
  {
   "cell_type": "code",
   "execution_count": 130,
   "id": "950aa1f7-d300-488e-a14b-4da91dc2fa7b",
   "metadata": {},
   "outputs": [
    {
     "data": {
      "text/plain": [
       "Series([], Name: count, dtype: int64)"
      ]
     },
     "execution_count": 130,
     "metadata": {},
     "output_type": "execute_result"
    }
   ],
   "source": [
    "wego_morning_rush['ADJUSTED_EARLY_COUNT'].value_counts()"
   ]
  },
  {
   "cell_type": "code",
   "execution_count": 131,
   "id": "0515d09e-0a93-4cc2-a0f4-392bb64d82c6",
   "metadata": {},
   "outputs": [
    {
     "data": {
      "text/plain": [
       "2.3177307181370637"
      ]
     },
     "execution_count": 131,
     "metadata": {},
     "output_type": "execute_result"
    }
   ],
   "source": [
    "(1483/63985)*100"
   ]
  },
  {
   "cell_type": "code",
   "execution_count": 132,
   "id": "fbe9b185-efb2-401c-ad74-214c45c07ead",
   "metadata": {},
   "outputs": [
    {
     "data": {
      "text/plain": [
       "Series([], Name: count, dtype: int64)"
      ]
     },
     "execution_count": 132,
     "metadata": {},
     "output_type": "execute_result"
    }
   ],
   "source": [
    "wego_morning_rush['ADJUSTED_LATE_COUNT'].value_counts()"
   ]
  },
  {
   "cell_type": "code",
   "execution_count": 133,
   "id": "2403d8b0-2253-4e60-92cb-afbba12e0f4e",
   "metadata": {},
   "outputs": [
    {
     "data": {
      "text/plain": [
       "15.106665624755802"
      ]
     },
     "execution_count": 133,
     "metadata": {},
     "output_type": "execute_result"
    }
   ],
   "source": [
    "(9666/63985)*100"
   ]
  },
  {
   "cell_type": "code",
   "execution_count": 134,
   "id": "fa3e5c01-8a0a-480e-ac36-235542b33233",
   "metadata": {},
   "outputs": [
    {
     "data": {
      "text/plain": [
       "Series([], Name: count, dtype: int64)"
      ]
     },
     "execution_count": 134,
     "metadata": {},
     "output_type": "execute_result"
    }
   ],
   "source": [
    "wego_morning_rush['ADJUSTED_ONTIME_COUNT'].value_counts()"
   ]
  },
  {
   "cell_type": "code",
   "execution_count": 135,
   "id": "75274fc4-7d1c-4a1a-b583-9c5ba312370d",
   "metadata": {},
   "outputs": [
    {
     "data": {
      "text/plain": [
       "79.3717277486911"
      ]
     },
     "execution_count": 135,
     "metadata": {},
     "output_type": "execute_result"
    }
   ],
   "source": [
    "(50786/63985)*100"
   ]
  },
  {
   "cell_type": "code",
   "execution_count": 136,
   "id": "f271c852-0f38-4b22-873c-d359f66f8904",
   "metadata": {},
   "outputs": [
    {
     "data": {
      "text/html": [
       "<div>\n",
       "<style scoped>\n",
       "    .dataframe tbody tr th:only-of-type {\n",
       "        vertical-align: middle;\n",
       "    }\n",
       "\n",
       "    .dataframe tbody tr th {\n",
       "        vertical-align: top;\n",
       "    }\n",
       "\n",
       "    .dataframe thead th {\n",
       "        text-align: right;\n",
       "    }\n",
       "</style>\n",
       "<table border=\"1\" class=\"dataframe\">\n",
       "  <thead>\n",
       "    <tr style=\"text-align: right;\">\n",
       "      <th></th>\n",
       "      <th>CALENDAR_ID</th>\n",
       "      <th>SERVICE_ABBR</th>\n",
       "      <th>ADHERENCE_ID</th>\n",
       "      <th>DATE</th>\n",
       "      <th>ROUTE_ABBR</th>\n",
       "      <th>BLOCK_ABBR</th>\n",
       "      <th>OPERATOR</th>\n",
       "      <th>TRIP_ID</th>\n",
       "      <th>OVERLOAD_ID</th>\n",
       "      <th>ROUTE_DIRECTION_NAME</th>\n",
       "      <th>...</th>\n",
       "      <th>ADJUSTED_ONTIME_COUNT</th>\n",
       "      <th>STOP_CANCELLED</th>\n",
       "      <th>PREV_SCHED_STOP_CANCELLED</th>\n",
       "      <th>IS_RELIEF</th>\n",
       "      <th>DWELL_IN_MINS</th>\n",
       "      <th>SCHEDULED_LAYOVER_MINUTES</th>\n",
       "      <th>DATE_1</th>\n",
       "      <th>DAY</th>\n",
       "      <th>SCHEDULED_TIME_1</th>\n",
       "      <th>time_of_day</th>\n",
       "    </tr>\n",
       "  </thead>\n",
       "  <tbody>\n",
       "  </tbody>\n",
       "</table>\n",
       "<p>0 rows × 34 columns</p>\n",
       "</div>"
      ],
      "text/plain": [
       "Empty DataFrame\n",
       "Columns: [CALENDAR_ID, SERVICE_ABBR, ADHERENCE_ID, DATE, ROUTE_ABBR, BLOCK_ABBR, OPERATOR, TRIP_ID, OVERLOAD_ID, ROUTE_DIRECTION_NAME, TIME_POINT_ABBR, ROUTE_STOP_SEQUENCE, TRIP_EDGE, LATITUDE, LONGITUDE, SCHEDULED_TIME, ACTUAL_ARRIVAL_TIME, ACTUAL_DEPARTURE_TIME, ADHERENCE, SCHEDULED_HDWY, ACTUAL_HDWY, HDWY_DEV, ADJUSTED_EARLY_COUNT, ADJUSTED_LATE_COUNT, ADJUSTED_ONTIME_COUNT, STOP_CANCELLED, PREV_SCHED_STOP_CANCELLED, IS_RELIEF, DWELL_IN_MINS, SCHEDULED_LAYOVER_MINUTES, DATE_1, DAY, SCHEDULED_TIME_1, time_of_day]\n",
       "Index: []\n",
       "\n",
       "[0 rows x 34 columns]"
      ]
     },
     "execution_count": 136,
     "metadata": {},
     "output_type": "execute_result"
    }
   ],
   "source": [
    "wego_late_morning = wego_df.loc[wego_df['time_of_day'] == 'late morning']\n",
    "wego_late_morning"
   ]
  },
  {
   "cell_type": "code",
   "execution_count": 137,
   "id": "1bc0fa11-f81a-4cb2-97cd-414fdcfae0ba",
   "metadata": {},
   "outputs": [
    {
     "data": {
      "text/plain": [
       "Series([], Name: count, dtype: int64)"
      ]
     },
     "execution_count": 137,
     "metadata": {},
     "output_type": "execute_result"
    }
   ],
   "source": [
    "wego_late_morning['ADJUSTED_EARLY_COUNT'].value_counts()"
   ]
  },
  {
   "cell_type": "code",
   "execution_count": 138,
   "id": "15fb90e9-d7a8-4292-8396-8e400b20d3ca",
   "metadata": {},
   "outputs": [
    {
     "data": {
      "text/plain": [
       "3.1026214315803116"
      ]
     },
     "execution_count": 138,
     "metadata": {},
     "output_type": "execute_result"
    }
   ],
   "source": [
    "(1915/61722)*100"
   ]
  },
  {
   "cell_type": "code",
   "execution_count": 139,
   "id": "b115e826-83a3-44d4-b0d6-de66b12845b6",
   "metadata": {},
   "outputs": [
    {
     "data": {
      "text/plain": [
       "Series([], Name: count, dtype: int64)"
      ]
     },
     "execution_count": 139,
     "metadata": {},
     "output_type": "execute_result"
    }
   ],
   "source": [
    "wego_late_morning['ADJUSTED_LATE_COUNT'].value_counts()"
   ]
  },
  {
   "cell_type": "code",
   "execution_count": 140,
   "id": "a4894e6e-eb41-47f9-b0f0-d68915503887",
   "metadata": {},
   "outputs": [
    {
     "data": {
      "text/plain": [
       "11.393020316904831"
      ]
     },
     "execution_count": 140,
     "metadata": {},
     "output_type": "execute_result"
    }
   ],
   "source": [
    "(7032/61722)*100"
   ]
  },
  {
   "cell_type": "code",
   "execution_count": 141,
   "id": "0a7b36b1-6a00-4451-a983-8f314f30db3c",
   "metadata": {},
   "outputs": [
    {
     "data": {
      "text/plain": [
       "Series([], Name: count, dtype: int64)"
      ]
     },
     "execution_count": 141,
     "metadata": {},
     "output_type": "execute_result"
    }
   ],
   "source": [
    "wego_late_morning['ADJUSTED_ONTIME_COUNT'].value_counts()"
   ]
  },
  {
   "cell_type": "code",
   "execution_count": 142,
   "id": "a3630a71-260a-4673-a82d-6267f85d774d",
   "metadata": {},
   "outputs": [
    {
     "data": {
      "text/plain": [
       "82.82298046077574"
      ]
     },
     "execution_count": 142,
     "metadata": {},
     "output_type": "execute_result"
    }
   ],
   "source": [
    "(51120/61722)*100"
   ]
  },
  {
   "cell_type": "code",
   "execution_count": 143,
   "id": "d7a193f4-a0d0-42e3-a939-4160e33ccb1d",
   "metadata": {},
   "outputs": [
    {
     "data": {
      "text/html": [
       "<div>\n",
       "<style scoped>\n",
       "    .dataframe tbody tr th:only-of-type {\n",
       "        vertical-align: middle;\n",
       "    }\n",
       "\n",
       "    .dataframe tbody tr th {\n",
       "        vertical-align: top;\n",
       "    }\n",
       "\n",
       "    .dataframe thead th {\n",
       "        text-align: right;\n",
       "    }\n",
       "</style>\n",
       "<table border=\"1\" class=\"dataframe\">\n",
       "  <thead>\n",
       "    <tr style=\"text-align: right;\">\n",
       "      <th></th>\n",
       "      <th>CALENDAR_ID</th>\n",
       "      <th>SERVICE_ABBR</th>\n",
       "      <th>ADHERENCE_ID</th>\n",
       "      <th>DATE</th>\n",
       "      <th>ROUTE_ABBR</th>\n",
       "      <th>BLOCK_ABBR</th>\n",
       "      <th>OPERATOR</th>\n",
       "      <th>TRIP_ID</th>\n",
       "      <th>OVERLOAD_ID</th>\n",
       "      <th>ROUTE_DIRECTION_NAME</th>\n",
       "      <th>...</th>\n",
       "      <th>ADJUSTED_ONTIME_COUNT</th>\n",
       "      <th>STOP_CANCELLED</th>\n",
       "      <th>PREV_SCHED_STOP_CANCELLED</th>\n",
       "      <th>IS_RELIEF</th>\n",
       "      <th>DWELL_IN_MINS</th>\n",
       "      <th>SCHEDULED_LAYOVER_MINUTES</th>\n",
       "      <th>DATE_1</th>\n",
       "      <th>DAY</th>\n",
       "      <th>SCHEDULED_TIME_1</th>\n",
       "      <th>time_of_day</th>\n",
       "    </tr>\n",
       "  </thead>\n",
       "  <tbody>\n",
       "  </tbody>\n",
       "</table>\n",
       "<p>0 rows × 34 columns</p>\n",
       "</div>"
      ],
      "text/plain": [
       "Empty DataFrame\n",
       "Columns: [CALENDAR_ID, SERVICE_ABBR, ADHERENCE_ID, DATE, ROUTE_ABBR, BLOCK_ABBR, OPERATOR, TRIP_ID, OVERLOAD_ID, ROUTE_DIRECTION_NAME, TIME_POINT_ABBR, ROUTE_STOP_SEQUENCE, TRIP_EDGE, LATITUDE, LONGITUDE, SCHEDULED_TIME, ACTUAL_ARRIVAL_TIME, ACTUAL_DEPARTURE_TIME, ADHERENCE, SCHEDULED_HDWY, ACTUAL_HDWY, HDWY_DEV, ADJUSTED_EARLY_COUNT, ADJUSTED_LATE_COUNT, ADJUSTED_ONTIME_COUNT, STOP_CANCELLED, PREV_SCHED_STOP_CANCELLED, IS_RELIEF, DWELL_IN_MINS, SCHEDULED_LAYOVER_MINUTES, DATE_1, DAY, SCHEDULED_TIME_1, time_of_day]\n",
       "Index: []\n",
       "\n",
       "[0 rows x 34 columns]"
      ]
     },
     "execution_count": 143,
     "metadata": {},
     "output_type": "execute_result"
    }
   ],
   "source": [
    "wego_early_afternoon = wego_df.loc[wego_df['time_of_day'] == 'early afternoon']\n",
    "wego_early_afternoon"
   ]
  },
  {
   "cell_type": "code",
   "execution_count": 144,
   "id": "98fd753f-1f95-4dea-88d6-8708a8f80283",
   "metadata": {},
   "outputs": [
    {
     "data": {
      "text/plain": [
       "Series([], Name: count, dtype: int64)"
      ]
     },
     "execution_count": 144,
     "metadata": {},
     "output_type": "execute_result"
    }
   ],
   "source": [
    "wego_early_afternoon['ADJUSTED_EARLY_COUNT'].value_counts()"
   ]
  },
  {
   "cell_type": "code",
   "execution_count": 145,
   "id": "94b7d26b-660e-4852-90a8-4d4af84cabc8",
   "metadata": {},
   "outputs": [
    {
     "data": {
      "text/plain": [
       "2.763448784082535"
      ]
     },
     "execution_count": 145,
     "metadata": {},
     "output_type": "execute_result"
    }
   ],
   "source": [
    "(1725/62422)*100"
   ]
  },
  {
   "cell_type": "code",
   "execution_count": 146,
   "id": "2aa1a5f2-db83-4181-a03f-6eabd6ad4a9c",
   "metadata": {},
   "outputs": [
    {
     "data": {
      "text/plain": [
       "Series([], Name: count, dtype: int64)"
      ]
     },
     "execution_count": 146,
     "metadata": {},
     "output_type": "execute_result"
    }
   ],
   "source": [
    "wego_early_afternoon['ADJUSTED_LATE_COUNT'].value_counts()"
   ]
  },
  {
   "cell_type": "code",
   "execution_count": 147,
   "id": "8276e701-322a-49cb-b52b-e994d90b3073",
   "metadata": {},
   "outputs": [
    {
     "data": {
      "text/plain": [
       "15.271859280381916"
      ]
     },
     "execution_count": 147,
     "metadata": {},
     "output_type": "execute_result"
    }
   ],
   "source": [
    "(9533/62422)*100"
   ]
  },
  {
   "cell_type": "code",
   "execution_count": 148,
   "id": "e1a555b0-4642-4caf-a5cf-3a5e253e9e9b",
   "metadata": {},
   "outputs": [
    {
     "data": {
      "text/plain": [
       "Series([], Name: count, dtype: int64)"
      ]
     },
     "execution_count": 148,
     "metadata": {},
     "output_type": "execute_result"
    }
   ],
   "source": [
    "wego_early_afternoon['ADJUSTED_ONTIME_COUNT'].value_counts()"
   ]
  },
  {
   "cell_type": "code",
   "execution_count": 149,
   "id": "65242745-4d45-43f4-8876-f861d03fdcf8",
   "metadata": {},
   "outputs": [
    {
     "data": {
      "text/plain": [
       "79.34382108871873"
      ]
     },
     "execution_count": 149,
     "metadata": {},
     "output_type": "execute_result"
    }
   ],
   "source": [
    "(49528/62422)*100"
   ]
  },
  {
   "cell_type": "code",
   "execution_count": 150,
   "id": "66a538c2-ed1c-4708-9361-593bc920f8b6",
   "metadata": {},
   "outputs": [
    {
     "data": {
      "text/html": [
       "<div>\n",
       "<style scoped>\n",
       "    .dataframe tbody tr th:only-of-type {\n",
       "        vertical-align: middle;\n",
       "    }\n",
       "\n",
       "    .dataframe tbody tr th {\n",
       "        vertical-align: top;\n",
       "    }\n",
       "\n",
       "    .dataframe thead th {\n",
       "        text-align: right;\n",
       "    }\n",
       "</style>\n",
       "<table border=\"1\" class=\"dataframe\">\n",
       "  <thead>\n",
       "    <tr style=\"text-align: right;\">\n",
       "      <th></th>\n",
       "      <th>CALENDAR_ID</th>\n",
       "      <th>SERVICE_ABBR</th>\n",
       "      <th>ADHERENCE_ID</th>\n",
       "      <th>DATE</th>\n",
       "      <th>ROUTE_ABBR</th>\n",
       "      <th>BLOCK_ABBR</th>\n",
       "      <th>OPERATOR</th>\n",
       "      <th>TRIP_ID</th>\n",
       "      <th>OVERLOAD_ID</th>\n",
       "      <th>ROUTE_DIRECTION_NAME</th>\n",
       "      <th>...</th>\n",
       "      <th>ADJUSTED_ONTIME_COUNT</th>\n",
       "      <th>STOP_CANCELLED</th>\n",
       "      <th>PREV_SCHED_STOP_CANCELLED</th>\n",
       "      <th>IS_RELIEF</th>\n",
       "      <th>DWELL_IN_MINS</th>\n",
       "      <th>SCHEDULED_LAYOVER_MINUTES</th>\n",
       "      <th>DATE_1</th>\n",
       "      <th>DAY</th>\n",
       "      <th>SCHEDULED_TIME_1</th>\n",
       "      <th>time_of_day</th>\n",
       "    </tr>\n",
       "  </thead>\n",
       "  <tbody>\n",
       "  </tbody>\n",
       "</table>\n",
       "<p>0 rows × 34 columns</p>\n",
       "</div>"
      ],
      "text/plain": [
       "Empty DataFrame\n",
       "Columns: [CALENDAR_ID, SERVICE_ABBR, ADHERENCE_ID, DATE, ROUTE_ABBR, BLOCK_ABBR, OPERATOR, TRIP_ID, OVERLOAD_ID, ROUTE_DIRECTION_NAME, TIME_POINT_ABBR, ROUTE_STOP_SEQUENCE, TRIP_EDGE, LATITUDE, LONGITUDE, SCHEDULED_TIME, ACTUAL_ARRIVAL_TIME, ACTUAL_DEPARTURE_TIME, ADHERENCE, SCHEDULED_HDWY, ACTUAL_HDWY, HDWY_DEV, ADJUSTED_EARLY_COUNT, ADJUSTED_LATE_COUNT, ADJUSTED_ONTIME_COUNT, STOP_CANCELLED, PREV_SCHED_STOP_CANCELLED, IS_RELIEF, DWELL_IN_MINS, SCHEDULED_LAYOVER_MINUTES, DATE_1, DAY, SCHEDULED_TIME_1, time_of_day]\n",
       "Index: []\n",
       "\n",
       "[0 rows x 34 columns]"
      ]
     },
     "execution_count": 150,
     "metadata": {},
     "output_type": "execute_result"
    }
   ],
   "source": [
    "wego_evening_rush = wego_df.loc[wego_df['time_of_day'] == 'evening rush']\n",
    "wego_evening_rush"
   ]
  },
  {
   "cell_type": "code",
   "execution_count": 151,
   "id": "bfdaf7f7-0997-4c6a-8f91-6a41b18afed3",
   "metadata": {},
   "outputs": [
    {
     "data": {
      "text/plain": [
       "Series([], Name: count, dtype: int64)"
      ]
     },
     "execution_count": 151,
     "metadata": {},
     "output_type": "execute_result"
    }
   ],
   "source": [
    "wego_evening_rush['ADJUSTED_EARLY_COUNT'].value_counts()"
   ]
  },
  {
   "cell_type": "code",
   "execution_count": 152,
   "id": "69b9729a-a964-4523-8a6a-655c75ce9a5a",
   "metadata": {},
   "outputs": [
    {
     "data": {
      "text/plain": [
       "2.879269851651455"
      ]
     },
     "execution_count": 152,
     "metadata": {},
     "output_type": "execute_result"
    }
   ],
   "source": [
    "(1937/67274)*100"
   ]
  },
  {
   "cell_type": "code",
   "execution_count": 153,
   "id": "f062629e-9517-41d7-9b37-7680cef8530b",
   "metadata": {},
   "outputs": [
    {
     "data": {
      "text/plain": [
       "Series([], Name: count, dtype: int64)"
      ]
     },
     "execution_count": 153,
     "metadata": {},
     "output_type": "execute_result"
    }
   ],
   "source": [
    "wego_evening_rush['ADJUSTED_LATE_COUNT'].value_counts()"
   ]
  },
  {
   "cell_type": "code",
   "execution_count": 154,
   "id": "3d7dee1b-3a02-4717-9380-99568ad390ce",
   "metadata": {},
   "outputs": [
    {
     "data": {
      "text/plain": [
       "25.464518238844132"
      ]
     },
     "execution_count": 154,
     "metadata": {},
     "output_type": "execute_result"
    }
   ],
   "source": [
    "(17131/67274)*100"
   ]
  },
  {
   "cell_type": "code",
   "execution_count": 155,
   "id": "0779f362-eabe-478a-8977-ad8784b0a5ad",
   "metadata": {},
   "outputs": [
    {
     "data": {
      "text/plain": [
       "Series([], Name: count, dtype: int64)"
      ]
     },
     "execution_count": 155,
     "metadata": {},
     "output_type": "execute_result"
    }
   ],
   "source": [
    "wego_evening_rush['ADJUSTED_ONTIME_COUNT'].value_counts()"
   ]
  },
  {
   "cell_type": "code",
   "execution_count": 156,
   "id": "c40fc033-bcd1-4fe5-87eb-c5802b7fe334",
   "metadata": {},
   "outputs": [
    {
     "data": {
      "text/plain": [
       "67.90736391473675"
      ]
     },
     "execution_count": 156,
     "metadata": {},
     "output_type": "execute_result"
    }
   ],
   "source": [
    "(45684/67274)*100"
   ]
  },
  {
   "cell_type": "code",
   "execution_count": 157,
   "id": "2ecc21ab-8b18-4fd0-aded-49e5eba650b3",
   "metadata": {},
   "outputs": [
    {
     "data": {
      "text/html": [
       "<div>\n",
       "<style scoped>\n",
       "    .dataframe tbody tr th:only-of-type {\n",
       "        vertical-align: middle;\n",
       "    }\n",
       "\n",
       "    .dataframe tbody tr th {\n",
       "        vertical-align: top;\n",
       "    }\n",
       "\n",
       "    .dataframe thead th {\n",
       "        text-align: right;\n",
       "    }\n",
       "</style>\n",
       "<table border=\"1\" class=\"dataframe\">\n",
       "  <thead>\n",
       "    <tr style=\"text-align: right;\">\n",
       "      <th></th>\n",
       "      <th>CALENDAR_ID</th>\n",
       "      <th>SERVICE_ABBR</th>\n",
       "      <th>ADHERENCE_ID</th>\n",
       "      <th>DATE</th>\n",
       "      <th>ROUTE_ABBR</th>\n",
       "      <th>BLOCK_ABBR</th>\n",
       "      <th>OPERATOR</th>\n",
       "      <th>TRIP_ID</th>\n",
       "      <th>OVERLOAD_ID</th>\n",
       "      <th>ROUTE_DIRECTION_NAME</th>\n",
       "      <th>...</th>\n",
       "      <th>ADJUSTED_ONTIME_COUNT</th>\n",
       "      <th>STOP_CANCELLED</th>\n",
       "      <th>PREV_SCHED_STOP_CANCELLED</th>\n",
       "      <th>IS_RELIEF</th>\n",
       "      <th>DWELL_IN_MINS</th>\n",
       "      <th>SCHEDULED_LAYOVER_MINUTES</th>\n",
       "      <th>DATE_1</th>\n",
       "      <th>DAY</th>\n",
       "      <th>SCHEDULED_TIME_1</th>\n",
       "      <th>time_of_day</th>\n",
       "    </tr>\n",
       "  </thead>\n",
       "  <tbody>\n",
       "  </tbody>\n",
       "</table>\n",
       "<p>0 rows × 34 columns</p>\n",
       "</div>"
      ],
      "text/plain": [
       "Empty DataFrame\n",
       "Columns: [CALENDAR_ID, SERVICE_ABBR, ADHERENCE_ID, DATE, ROUTE_ABBR, BLOCK_ABBR, OPERATOR, TRIP_ID, OVERLOAD_ID, ROUTE_DIRECTION_NAME, TIME_POINT_ABBR, ROUTE_STOP_SEQUENCE, TRIP_EDGE, LATITUDE, LONGITUDE, SCHEDULED_TIME, ACTUAL_ARRIVAL_TIME, ACTUAL_DEPARTURE_TIME, ADHERENCE, SCHEDULED_HDWY, ACTUAL_HDWY, HDWY_DEV, ADJUSTED_EARLY_COUNT, ADJUSTED_LATE_COUNT, ADJUSTED_ONTIME_COUNT, STOP_CANCELLED, PREV_SCHED_STOP_CANCELLED, IS_RELIEF, DWELL_IN_MINS, SCHEDULED_LAYOVER_MINUTES, DATE_1, DAY, SCHEDULED_TIME_1, time_of_day]\n",
       "Index: []\n",
       "\n",
       "[0 rows x 34 columns]"
      ]
     },
     "execution_count": 157,
     "metadata": {},
     "output_type": "execute_result"
    }
   ],
   "source": [
    "wego_evening = wego_df.loc[wego_df['time_of_day'] == 'evening']\n",
    "wego_evening"
   ]
  },
  {
   "cell_type": "code",
   "execution_count": 158,
   "id": "c3f441e1-1ff0-41d4-ba5e-bcb6afc071d9",
   "metadata": {},
   "outputs": [
    {
     "data": {
      "text/plain": [
       "Series([], Name: count, dtype: int64)"
      ]
     },
     "execution_count": 158,
     "metadata": {},
     "output_type": "execute_result"
    }
   ],
   "source": [
    "wego_evening['ADJUSTED_EARLY_COUNT'].value_counts()"
   ]
  },
  {
   "cell_type": "code",
   "execution_count": 159,
   "id": "47c46b2a-12d0-4b41-af4d-7fb6856f0205",
   "metadata": {},
   "outputs": [
    {
     "data": {
      "text/plain": [
       "2.2511690046760187"
      ]
     },
     "execution_count": 159,
     "metadata": {},
     "output_type": "execute_result"
    }
   ],
   "source": [
    "(1011/44910)*100"
   ]
  },
  {
   "cell_type": "code",
   "execution_count": 160,
   "id": "1ecdcf42-63fb-4a67-a163-08233f78490b",
   "metadata": {},
   "outputs": [
    {
     "data": {
      "text/plain": [
       "Series([], Name: count, dtype: int64)"
      ]
     },
     "execution_count": 160,
     "metadata": {},
     "output_type": "execute_result"
    }
   ],
   "source": [
    "wego_evening['ADJUSTED_LATE_COUNT'].value_counts()"
   ]
  },
  {
   "cell_type": "code",
   "execution_count": 161,
   "id": "f4fed685-062d-481a-abfe-7936f55d8e19",
   "metadata": {},
   "outputs": [
    {
     "data": {
      "text/plain": [
       "21.102204408817634"
      ]
     },
     "execution_count": 161,
     "metadata": {},
     "output_type": "execute_result"
    }
   ],
   "source": [
    "(9477/44910)*100"
   ]
  },
  {
   "cell_type": "code",
   "execution_count": 162,
   "id": "d580463c-7d8b-4d1d-8719-d617dc580a5e",
   "metadata": {},
   "outputs": [
    {
     "data": {
      "text/plain": [
       "Series([], Name: count, dtype: int64)"
      ]
     },
     "execution_count": 162,
     "metadata": {},
     "output_type": "execute_result"
    }
   ],
   "source": [
    "wego_evening['ADJUSTED_ONTIME_COUNT'].value_counts()"
   ]
  },
  {
   "cell_type": "code",
   "execution_count": 163,
   "id": "0fbc00ef-fd91-48fe-835f-1341f4d3afe4",
   "metadata": {},
   "outputs": [
    {
     "data": {
      "text/plain": [
       "72.56735693609441"
      ]
     },
     "execution_count": 163,
     "metadata": {},
     "output_type": "execute_result"
    }
   ],
   "source": [
    "(32590/44910)*100"
   ]
  },
  {
   "cell_type": "code",
   "execution_count": 164,
   "id": "e08c25e1-b4d2-4193-a6ba-dc225538abf5",
   "metadata": {},
   "outputs": [
    {
     "data": {
      "text/html": [
       "<div>\n",
       "<style scoped>\n",
       "    .dataframe tbody tr th:only-of-type {\n",
       "        vertical-align: middle;\n",
       "    }\n",
       "\n",
       "    .dataframe tbody tr th {\n",
       "        vertical-align: top;\n",
       "    }\n",
       "\n",
       "    .dataframe thead th {\n",
       "        text-align: right;\n",
       "    }\n",
       "</style>\n",
       "<table border=\"1\" class=\"dataframe\">\n",
       "  <thead>\n",
       "    <tr style=\"text-align: right;\">\n",
       "      <th></th>\n",
       "      <th>CALENDAR_ID</th>\n",
       "      <th>SERVICE_ABBR</th>\n",
       "      <th>ADHERENCE_ID</th>\n",
       "      <th>DATE</th>\n",
       "      <th>ROUTE_ABBR</th>\n",
       "      <th>BLOCK_ABBR</th>\n",
       "      <th>OPERATOR</th>\n",
       "      <th>TRIP_ID</th>\n",
       "      <th>OVERLOAD_ID</th>\n",
       "      <th>ROUTE_DIRECTION_NAME</th>\n",
       "      <th>...</th>\n",
       "      <th>ADJUSTED_ONTIME_COUNT</th>\n",
       "      <th>STOP_CANCELLED</th>\n",
       "      <th>PREV_SCHED_STOP_CANCELLED</th>\n",
       "      <th>IS_RELIEF</th>\n",
       "      <th>DWELL_IN_MINS</th>\n",
       "      <th>SCHEDULED_LAYOVER_MINUTES</th>\n",
       "      <th>DATE_1</th>\n",
       "      <th>DAY</th>\n",
       "      <th>SCHEDULED_TIME_1</th>\n",
       "      <th>time_of_day</th>\n",
       "    </tr>\n",
       "  </thead>\n",
       "  <tbody>\n",
       "  </tbody>\n",
       "</table>\n",
       "<p>0 rows × 34 columns</p>\n",
       "</div>"
      ],
      "text/plain": [
       "Empty DataFrame\n",
       "Columns: [CALENDAR_ID, SERVICE_ABBR, ADHERENCE_ID, DATE, ROUTE_ABBR, BLOCK_ABBR, OPERATOR, TRIP_ID, OVERLOAD_ID, ROUTE_DIRECTION_NAME, TIME_POINT_ABBR, ROUTE_STOP_SEQUENCE, TRIP_EDGE, LATITUDE, LONGITUDE, SCHEDULED_TIME, ACTUAL_ARRIVAL_TIME, ACTUAL_DEPARTURE_TIME, ADHERENCE, SCHEDULED_HDWY, ACTUAL_HDWY, HDWY_DEV, ADJUSTED_EARLY_COUNT, ADJUSTED_LATE_COUNT, ADJUSTED_ONTIME_COUNT, STOP_CANCELLED, PREV_SCHED_STOP_CANCELLED, IS_RELIEF, DWELL_IN_MINS, SCHEDULED_LAYOVER_MINUTES, DATE_1, DAY, SCHEDULED_TIME_1, time_of_day]\n",
       "Index: []\n",
       "\n",
       "[0 rows x 34 columns]"
      ]
     },
     "execution_count": 164,
     "metadata": {},
     "output_type": "execute_result"
    }
   ],
   "source": [
    "wego_late_evening = wego_df.loc[wego_df['time_of_day'] == 'late evening']\n",
    "wego_late_evening"
   ]
  },
  {
   "cell_type": "code",
   "execution_count": 165,
   "id": "ef19d9d7-aa25-4935-a3f8-a8e28ee64135",
   "metadata": {},
   "outputs": [
    {
     "data": {
      "text/plain": [
       "Series([], Name: count, dtype: int64)"
      ]
     },
     "execution_count": 165,
     "metadata": {},
     "output_type": "execute_result"
    }
   ],
   "source": [
    "wego_late_evening['ADJUSTED_EARLY_COUNT'].value_counts()"
   ]
  },
  {
   "cell_type": "code",
   "execution_count": 166,
   "id": "015e9043-8bfb-4544-bb3a-c8ada9a6f85c",
   "metadata": {},
   "outputs": [
    {
     "data": {
      "text/plain": [
       "2.6252912012424585"
      ]
     },
     "execution_count": 166,
     "metadata": {},
     "output_type": "execute_result"
    }
   ],
   "source": [
    "(879/33482)*100"
   ]
  },
  {
   "cell_type": "code",
   "execution_count": 167,
   "id": "6e28257a-01eb-4469-9df7-7309f276bfe7",
   "metadata": {},
   "outputs": [
    {
     "data": {
      "text/plain": [
       "Series([], Name: count, dtype: int64)"
      ]
     },
     "execution_count": 167,
     "metadata": {},
     "output_type": "execute_result"
    }
   ],
   "source": [
    "wego_late_evening['ADJUSTED_LATE_COUNT'].value_counts()"
   ]
  },
  {
   "cell_type": "code",
   "execution_count": 168,
   "id": "66d6a888-d2ad-45a4-8ffa-b95b10109817",
   "metadata": {},
   "outputs": [
    {
     "data": {
      "text/plain": [
       "14.679529299325011"
      ]
     },
     "execution_count": 168,
     "metadata": {},
     "output_type": "execute_result"
    }
   ],
   "source": [
    "(4915/33482)*100"
   ]
  },
  {
   "cell_type": "code",
   "execution_count": 169,
   "id": "909364ad-2d55-4af0-893c-898bb931fb81",
   "metadata": {},
   "outputs": [
    {
     "data": {
      "text/plain": [
       "Series([], Name: count, dtype: int64)"
      ]
     },
     "execution_count": 169,
     "metadata": {},
     "output_type": "execute_result"
    }
   ],
   "source": [
    "wego_late_evening['ADJUSTED_ONTIME_COUNT'].value_counts()"
   ]
  },
  {
   "cell_type": "code",
   "execution_count": 170,
   "id": "4aff9382-ea91-4c49-847b-60979f0f7865",
   "metadata": {},
   "outputs": [
    {
     "data": {
      "text/plain": [
       "79.29036497222388"
      ]
     },
     "execution_count": 170,
     "metadata": {},
     "output_type": "execute_result"
    }
   ],
   "source": [
    "(26548/33482)*100"
   ]
  },
  {
   "cell_type": "code",
   "execution_count": null,
   "id": "57771327-1a06-40f5-8c87-91537285f1b5",
   "metadata": {},
   "outputs": [],
   "source": []
  },
  {
   "cell_type": "code",
   "execution_count": 171,
   "id": "f6686ee0-3f8a-43b3-b4d5-ec44d19423df",
   "metadata": {},
   "outputs": [
    {
     "data": {
      "text/html": [
       "<div>\n",
       "<style scoped>\n",
       "    .dataframe tbody tr th:only-of-type {\n",
       "        vertical-align: middle;\n",
       "    }\n",
       "\n",
       "    .dataframe tbody tr th {\n",
       "        vertical-align: top;\n",
       "    }\n",
       "\n",
       "    .dataframe thead th {\n",
       "        text-align: right;\n",
       "    }\n",
       "</style>\n",
       "<table border=\"1\" class=\"dataframe\">\n",
       "  <thead>\n",
       "    <tr style=\"text-align: right;\">\n",
       "      <th></th>\n",
       "      <th>Time Of Day</th>\n",
       "      <th>Pct Adjusted Early Count</th>\n",
       "    </tr>\n",
       "  </thead>\n",
       "  <tbody>\n",
       "    <tr>\n",
       "      <th>0</th>\n",
       "      <td>Early Morning</td>\n",
       "      <td>8.83</td>\n",
       "    </tr>\n",
       "    <tr>\n",
       "      <th>1</th>\n",
       "      <td>Morning</td>\n",
       "      <td>3.47</td>\n",
       "    </tr>\n",
       "    <tr>\n",
       "      <th>2</th>\n",
       "      <td>Morning Rush</td>\n",
       "      <td>2.31</td>\n",
       "    </tr>\n",
       "    <tr>\n",
       "      <th>3</th>\n",
       "      <td>Late Morning</td>\n",
       "      <td>3.10</td>\n",
       "    </tr>\n",
       "    <tr>\n",
       "      <th>4</th>\n",
       "      <td>Early Afternoon</td>\n",
       "      <td>2.76</td>\n",
       "    </tr>\n",
       "    <tr>\n",
       "      <th>5</th>\n",
       "      <td>Evening Rush</td>\n",
       "      <td>2.87</td>\n",
       "    </tr>\n",
       "    <tr>\n",
       "      <th>6</th>\n",
       "      <td>Evening</td>\n",
       "      <td>2.25</td>\n",
       "    </tr>\n",
       "    <tr>\n",
       "      <th>7</th>\n",
       "      <td>Late Evening</td>\n",
       "      <td>2.62</td>\n",
       "    </tr>\n",
       "  </tbody>\n",
       "</table>\n",
       "</div>"
      ],
      "text/plain": [
       "       Time Of Day  Pct Adjusted Early Count\n",
       "0    Early Morning                      8.83\n",
       "1          Morning                      3.47\n",
       "2     Morning Rush                      2.31\n",
       "3     Late Morning                      3.10\n",
       "4  Early Afternoon                      2.76\n",
       "5     Evening Rush                      2.87\n",
       "6          Evening                      2.25\n",
       "7     Late Evening                      2.62"
      ]
     },
     "execution_count": 171,
     "metadata": {},
     "output_type": "execute_result"
    }
   ],
   "source": [
    "data = [['Early Morning', 8.83], ['Morning', 3.47], ['Morning Rush', 2.31], ['Late Morning', 3.10], ['Early Afternoon', 2.76], ['Evening Rush', 2.87], ['Evening', 2.25],['Late Evening', 2.62] ]\n",
    "time_of_day_adjusted_early_count_pct = pd.DataFrame(data, columns=['Time Of Day', 'Pct Adjusted Early Count'])\n",
    "time_of_day_adjusted_early_count_pct"
   ]
  },
  {
   "cell_type": "code",
   "execution_count": 172,
   "id": "0a9b87e8-674e-420c-8996-997383972606",
   "metadata": {},
   "outputs": [
    {
     "data": {
      "image/png": "[encoded data removed]",
      "text/plain": [
       "<Figure size 1000x600 with 1 Axes>"
      ]
     },
     "metadata": {},
     "output_type": "display_data"
    }
   ],
   "source": [
    "plt.figure(figsize=(10, 6))\n",
    "sns.barplot(data=time_of_day_adjusted_early_count_pct,\n",
    "            x='Time Of Day',\n",
    "            y='Pct Adjusted Early Count',\n",
    "            palette='Purples_d')  \n",
    "plt.xticks(rotation=45)  \n",
    "plt.xlabel('Time Of Day')\n",
    "plt.ylabel('Pct Adjusted Early Count')\n",
    "plt.title('Pct Adjusted Early Count')\n",
    "plt.show()"
   ]
  },
  {
   "cell_type": "code",
   "execution_count": 173,
   "id": "f3d43ead-a7e2-44a8-ab11-fa0ae24b8bc0",
   "metadata": {},
   "outputs": [
    {
     "data": {
      "text/html": [
       "<div>\n",
       "<style scoped>\n",
       "    .dataframe tbody tr th:only-of-type {\n",
       "        vertical-align: middle;\n",
       "    }\n",
       "\n",
       "    .dataframe tbody tr th {\n",
       "        vertical-align: top;\n",
       "    }\n",
       "\n",
       "    .dataframe thead th {\n",
       "        text-align: right;\n",
       "    }\n",
       "</style>\n",
       "<table border=\"1\" class=\"dataframe\">\n",
       "  <thead>\n",
       "    <tr style=\"text-align: right;\">\n",
       "      <th></th>\n",
       "      <th>Time Of Day</th>\n",
       "      <th>Pct Adjusted Late Count</th>\n",
       "    </tr>\n",
       "  </thead>\n",
       "  <tbody>\n",
       "    <tr>\n",
       "      <th>0</th>\n",
       "      <td>Early Morning</td>\n",
       "      <td>18.85</td>\n",
       "    </tr>\n",
       "    <tr>\n",
       "      <th>1</th>\n",
       "      <td>Morning</td>\n",
       "      <td>3.81</td>\n",
       "    </tr>\n",
       "    <tr>\n",
       "      <th>2</th>\n",
       "      <td>Morning Rush</td>\n",
       "      <td>15.10</td>\n",
       "    </tr>\n",
       "    <tr>\n",
       "      <th>3</th>\n",
       "      <td>Late Morning</td>\n",
       "      <td>11.39</td>\n",
       "    </tr>\n",
       "    <tr>\n",
       "      <th>4</th>\n",
       "      <td>Early Afternoon</td>\n",
       "      <td>15.27</td>\n",
       "    </tr>\n",
       "    <tr>\n",
       "      <th>5</th>\n",
       "      <td>Evening Rush</td>\n",
       "      <td>25.46</td>\n",
       "    </tr>\n",
       "    <tr>\n",
       "      <th>6</th>\n",
       "      <td>Evening</td>\n",
       "      <td>21.10</td>\n",
       "    </tr>\n",
       "    <tr>\n",
       "      <th>7</th>\n",
       "      <td>Late Evening</td>\n",
       "      <td>14.67</td>\n",
       "    </tr>\n",
       "  </tbody>\n",
       "</table>\n",
       "</div>"
      ],
      "text/plain": [
       "       Time Of Day  Pct Adjusted Late Count\n",
       "0    Early Morning                    18.85\n",
       "1          Morning                     3.81\n",
       "2     Morning Rush                    15.10\n",
       "3     Late Morning                    11.39\n",
       "4  Early Afternoon                    15.27\n",
       "5     Evening Rush                    25.46\n",
       "6          Evening                    21.10\n",
       "7     Late Evening                    14.67"
      ]
     },
     "execution_count": 173,
     "metadata": {},
     "output_type": "execute_result"
    }
   ],
   "source": [
    "data = [['Early Morning', 18.85], ['Morning', 3.81], ['Morning Rush', 15.10], ['Late Morning', 11.39], ['Early Afternoon', 15.27], ['Evening Rush', 25.46], ['Evening', 21.10],['Late Evening', 14.67] ]\n",
    "time_of_day_adjusted_late_count_pct = pd.DataFrame(data, columns=['Time Of Day', 'Pct Adjusted Late Count'])\n",
    "time_of_day_adjusted_late_count_pct"
   ]
  },
  {
   "cell_type": "code",
   "execution_count": 174,
   "id": "4c36358b-72e6-4346-a748-a5710e1f8bb5",
   "metadata": {},
   "outputs": [
    {
     "data": {
      "image/png": "[encoded data removed]",
      "text/plain": [
       "<Figure size 1000x600 with 1 Axes>"
      ]
     },
     "metadata": {},
     "output_type": "display_data"
    }
   ],
   "source": [
    "plt.figure(figsize=(10, 6))\n",
    "sns.barplot(data=time_of_day_adjusted_late_count_pct,\n",
    "            x='Time Of Day',\n",
    "            y='Pct Adjusted Late Count',\n",
    "            palette='Purples_d')  \n",
    "plt.xticks(rotation=45)  \n",
    "plt.xlabel('Time Of Day')\n",
    "plt.ylabel('Pct Adjusted Late Count')\n",
    "plt.title('Pct Adjusted Late Count')\n",
    "plt.show()"
   ]
  },
  {
   "cell_type": "code",
   "execution_count": 175,
   "id": "9e62fdc9-39c2-4f34-a115-1ad82590e09b",
   "metadata": {},
   "outputs": [
    {
     "data": {
      "text/html": [
       "<div>\n",
       "<style scoped>\n",
       "    .dataframe tbody tr th:only-of-type {\n",
       "        vertical-align: middle;\n",
       "    }\n",
       "\n",
       "    .dataframe tbody tr th {\n",
       "        vertical-align: top;\n",
       "    }\n",
       "\n",
       "    .dataframe thead th {\n",
       "        text-align: right;\n",
       "    }\n",
       "</style>\n",
       "<table border=\"1\" class=\"dataframe\">\n",
       "  <thead>\n",
       "    <tr style=\"text-align: right;\">\n",
       "      <th></th>\n",
       "      <th>Time Of Day</th>\n",
       "      <th>Pct Adjusted Ontime Count</th>\n",
       "    </tr>\n",
       "  </thead>\n",
       "  <tbody>\n",
       "    <tr>\n",
       "      <th>0</th>\n",
       "      <td>Early Morning</td>\n",
       "      <td>67.40</td>\n",
       "    </tr>\n",
       "    <tr>\n",
       "      <th>1</th>\n",
       "      <td>Morning</td>\n",
       "      <td>89.12</td>\n",
       "    </tr>\n",
       "    <tr>\n",
       "      <th>2</th>\n",
       "      <td>Morning Rush</td>\n",
       "      <td>79.37</td>\n",
       "    </tr>\n",
       "    <tr>\n",
       "      <th>3</th>\n",
       "      <td>Late Morning</td>\n",
       "      <td>82.82</td>\n",
       "    </tr>\n",
       "    <tr>\n",
       "      <th>4</th>\n",
       "      <td>Early Afternoon</td>\n",
       "      <td>79.34</td>\n",
       "    </tr>\n",
       "    <tr>\n",
       "      <th>5</th>\n",
       "      <td>Evening Rush</td>\n",
       "      <td>67.90</td>\n",
       "    </tr>\n",
       "    <tr>\n",
       "      <th>6</th>\n",
       "      <td>Evening</td>\n",
       "      <td>72.56</td>\n",
       "    </tr>\n",
       "    <tr>\n",
       "      <th>7</th>\n",
       "      <td>Late Evening</td>\n",
       "      <td>79.29</td>\n",
       "    </tr>\n",
       "  </tbody>\n",
       "</table>\n",
       "</div>"
      ],
      "text/plain": [
       "       Time Of Day  Pct Adjusted Ontime Count\n",
       "0    Early Morning                      67.40\n",
       "1          Morning                      89.12\n",
       "2     Morning Rush                      79.37\n",
       "3     Late Morning                      82.82\n",
       "4  Early Afternoon                      79.34\n",
       "5     Evening Rush                      67.90\n",
       "6          Evening                      72.56\n",
       "7     Late Evening                      79.29"
      ]
     },
     "execution_count": 175,
     "metadata": {},
     "output_type": "execute_result"
    }
   ],
   "source": [
    "data = [['Early Morning', 67.40], ['Morning', 89.12], ['Morning Rush', 79.37], ['Late Morning', 82.82], ['Early Afternoon', 79.34], ['Evening Rush', 67.90], ['Evening', 72.56],['Late Evening', 79.29] ]\n",
    "time_of_day_adjusted_ontime_pct = pd.DataFrame(data, columns=['Time Of Day', 'Pct Adjusted Ontime Count'])\n",
    "time_of_day_adjusted_ontime_pct"
   ]
  },
  {
   "cell_type": "code",
   "execution_count": 176,
   "id": "85c351d9-1239-49c1-b7fb-4b058a07ec9b",
   "metadata": {},
   "outputs": [
    {
     "data": {
      "image/png": "[encoded data removed]",
      "text/plain": [
       "<Figure size 1000x600 with 1 Axes>"
      ]
     },
     "metadata": {},
     "output_type": "display_data"
    }
   ],
   "source": [
    "plt.figure(figsize=(10, 6))\n",
    "sns.barplot(data=time_of_day_adjusted_ontime_pct,\n",
    "            x='Time Of Day',\n",
    "            y='Pct Adjusted Ontime Count',\n",
    "            palette='Purples_d')  \n",
    "plt.xticks(rotation=45)  \n",
    "plt.xlabel('Time Of Day')\n",
    "plt.ylabel('Pct Adjusted Ontime Count')\n",
    "plt.title('Pct Adjusted Ontime Count')\n",
    "plt.show()"
   ]
  },
  {
   "cell_type": "code",
   "execution_count": null,
   "id": "137e3f1f-ddef-4078-904b-edca1706720a",
   "metadata": {},
   "outputs": [],
   "source": []
  },
  {
   "cell_type": "code",
   "execution_count": 177,
   "id": "6f0590b2-9d7c-4a0d-a0d6-92d3964cf501",
   "metadata": {},
   "outputs": [
    {
     "data": {
      "text/html": [
       "<div>\n",
       "<style scoped>\n",
       "    .dataframe tbody tr th:only-of-type {\n",
       "        vertical-align: middle;\n",
       "    }\n",
       "\n",
       "    .dataframe tbody tr th {\n",
       "        vertical-align: top;\n",
       "    }\n",
       "\n",
       "    .dataframe thead th {\n",
       "        text-align: right;\n",
       "    }\n",
       "</style>\n",
       "<table border=\"1\" class=\"dataframe\">\n",
       "  <thead>\n",
       "    <tr style=\"text-align: right;\">\n",
       "      <th></th>\n",
       "      <th>Day</th>\n",
       "      <th>Adjusted Early Count</th>\n",
       "      <th>Adjusted Late Count</th>\n",
       "    </tr>\n",
       "  </thead>\n",
       "  <tbody>\n",
       "    <tr>\n",
       "      <th>0</th>\n",
       "      <td>Monday</td>\n",
       "      <td>3.38</td>\n",
       "      <td>12.22</td>\n",
       "    </tr>\n",
       "    <tr>\n",
       "      <th>1</th>\n",
       "      <td>Tuesday</td>\n",
       "      <td>2.88</td>\n",
       "      <td>16.40</td>\n",
       "    </tr>\n",
       "    <tr>\n",
       "      <th>2</th>\n",
       "      <td>Wednesday</td>\n",
       "      <td>2.79</td>\n",
       "      <td>17.59</td>\n",
       "    </tr>\n",
       "    <tr>\n",
       "      <th>3</th>\n",
       "      <td>Thursday</td>\n",
       "      <td>2.68</td>\n",
       "      <td>18.25</td>\n",
       "    </tr>\n",
       "    <tr>\n",
       "      <th>4</th>\n",
       "      <td>Friday</td>\n",
       "      <td>2.65</td>\n",
       "      <td>21.18</td>\n",
       "    </tr>\n",
       "    <tr>\n",
       "      <th>5</th>\n",
       "      <td>Saturday</td>\n",
       "      <td>2.18</td>\n",
       "      <td>17.99</td>\n",
       "    </tr>\n",
       "    <tr>\n",
       "      <th>6</th>\n",
       "      <td>Sunday</td>\n",
       "      <td>2.83</td>\n",
       "      <td>11.21</td>\n",
       "    </tr>\n",
       "  </tbody>\n",
       "</table>\n",
       "</div>"
      ],
      "text/plain": [
       "         Day  Adjusted Early Count  Adjusted Late Count\n",
       "0     Monday                  3.38                12.22\n",
       "1    Tuesday                  2.88                16.40\n",
       "2  Wednesday                  2.79                17.59\n",
       "3   Thursday                  2.68                18.25\n",
       "4     Friday                  2.65                21.18\n",
       "5   Saturday                  2.18                17.99\n",
       "6     Sunday                  2.83                11.21"
      ]
     },
     "execution_count": 177,
     "metadata": {},
     "output_type": "execute_result"
    }
   ],
   "source": [
    "days_of_the_week_merge = pd.merge(adjusted_early_count,adjusted_late_count,\n",
    "                                 left_on = 'Day', right_on = 'Day', \n",
    "                               how = 'left') \n",
    "days_of_the_week_merge"
   ]
  },
  {
   "cell_type": "code",
   "execution_count": 178,
   "id": "0512b865-8359-4b6d-bb1d-ad0e5a995def",
   "metadata": {},
   "outputs": [
    {
     "data": {
      "text/html": [
       "<div>\n",
       "<style scoped>\n",
       "    .dataframe tbody tr th:only-of-type {\n",
       "        vertical-align: middle;\n",
       "    }\n",
       "\n",
       "    .dataframe tbody tr th {\n",
       "        vertical-align: top;\n",
       "    }\n",
       "\n",
       "    .dataframe thead th {\n",
       "        text-align: right;\n",
       "    }\n",
       "</style>\n",
       "<table border=\"1\" class=\"dataframe\">\n",
       "  <thead>\n",
       "    <tr style=\"text-align: right;\">\n",
       "      <th></th>\n",
       "      <th>Day</th>\n",
       "      <th>Adjusted Early Count</th>\n",
       "      <th>Adjusted Late Count</th>\n",
       "      <th>Adjusted Ontime Count</th>\n",
       "    </tr>\n",
       "  </thead>\n",
       "  <tbody>\n",
       "    <tr>\n",
       "      <th>0</th>\n",
       "      <td>Monday</td>\n",
       "      <td>3.38</td>\n",
       "      <td>12.22</td>\n",
       "      <td>82.08</td>\n",
       "    </tr>\n",
       "    <tr>\n",
       "      <th>1</th>\n",
       "      <td>Tuesday</td>\n",
       "      <td>2.88</td>\n",
       "      <td>16.40</td>\n",
       "      <td>77.87</td>\n",
       "    </tr>\n",
       "    <tr>\n",
       "      <th>2</th>\n",
       "      <td>Wednesday</td>\n",
       "      <td>2.79</td>\n",
       "      <td>17.59</td>\n",
       "      <td>76.90</td>\n",
       "    </tr>\n",
       "    <tr>\n",
       "      <th>3</th>\n",
       "      <td>Thursday</td>\n",
       "      <td>2.68</td>\n",
       "      <td>18.25</td>\n",
       "      <td>75.35</td>\n",
       "    </tr>\n",
       "    <tr>\n",
       "      <th>4</th>\n",
       "      <td>Friday</td>\n",
       "      <td>2.65</td>\n",
       "      <td>21.18</td>\n",
       "      <td>71.78</td>\n",
       "    </tr>\n",
       "    <tr>\n",
       "      <th>5</th>\n",
       "      <td>Saturday</td>\n",
       "      <td>2.18</td>\n",
       "      <td>17.99</td>\n",
       "      <td>77.23</td>\n",
       "    </tr>\n",
       "    <tr>\n",
       "      <th>6</th>\n",
       "      <td>Sunday</td>\n",
       "      <td>2.83</td>\n",
       "      <td>11.21</td>\n",
       "      <td>81.30</td>\n",
       "    </tr>\n",
       "  </tbody>\n",
       "</table>\n",
       "</div>"
      ],
      "text/plain": [
       "         Day  Adjusted Early Count  Adjusted Late Count  Adjusted Ontime Count\n",
       "0     Monday                  3.38                12.22                  82.08\n",
       "1    Tuesday                  2.88                16.40                  77.87\n",
       "2  Wednesday                  2.79                17.59                  76.90\n",
       "3   Thursday                  2.68                18.25                  75.35\n",
       "4     Friday                  2.65                21.18                  71.78\n",
       "5   Saturday                  2.18                17.99                  77.23\n",
       "6     Sunday                  2.83                11.21                  81.30"
      ]
     },
     "execution_count": 178,
     "metadata": {},
     "output_type": "execute_result"
    }
   ],
   "source": [
    "days_of_the_week_merge_total = pd.merge(days_of_the_week_merge, adjusted_ontime_count,\n",
    "                                        left_on = 'Day', right_on = 'Day', \n",
    "                                        how = 'left') \n",
    "days_of_the_week_merge_total"
   ]
  },
  {
   "cell_type": "code",
   "execution_count": 179,
   "id": "01941ec6-a0ea-40be-8c91-4b6435a12d7e",
   "metadata": {},
   "outputs": [
    {
     "data": {
      "text/plain": [
       "<Figure size 1200x800 with 0 Axes>"
      ]
     },
     "metadata": {},
     "output_type": "display_data"
    },
    {
     "data": {
      "image/png": "[encoded data removed]",
      "text/plain": [
       "<Figure size 640x480 with 1 Axes>"
      ]
     },
     "metadata": {},
     "output_type": "display_data"
    }
   ],
   "source": [
    "plt.figure(figsize=(12,8))\n",
    "days_of_the_week_merge_total.plot(kind = 'bar', x='Day',\n",
    "                                  stacked = False,\n",
    "                                  colormap='tab20b',\n",
    "                                  edgecolor = 'black',\n",
    "                                  width = 1,\n",
    "                                  ),\n",
    "plt.xlabel('Day')\n",
    "plt.ylabel('Percentage')\n",
    "plt.title('Pct Adjusted Early/Late/Ontime Count')\n",
    "plt.xticks(rotation = 45)\n",
    "plt.legend(bbox_to_anchor = (1, 1), loc = 'upper left');  "
   ]
  },
  {
   "cell_type": "code",
   "execution_count": 180,
   "id": "7e155b58-5c6f-4c4f-b234-4928cc48b67f",
   "metadata": {},
   "outputs": [
    {
     "data": {
      "text/html": [
       "<div>\n",
       "<style scoped>\n",
       "    .dataframe tbody tr th:only-of-type {\n",
       "        vertical-align: middle;\n",
       "    }\n",
       "\n",
       "    .dataframe tbody tr th {\n",
       "        vertical-align: top;\n",
       "    }\n",
       "\n",
       "    .dataframe thead th {\n",
       "        text-align: right;\n",
       "    }\n",
       "</style>\n",
       "<table border=\"1\" class=\"dataframe\">\n",
       "  <thead>\n",
       "    <tr style=\"text-align: right;\">\n",
       "      <th></th>\n",
       "      <th>Time Of Day</th>\n",
       "      <th>Pct Adjusted Early Count</th>\n",
       "      <th>Pct Adjusted Late Count</th>\n",
       "    </tr>\n",
       "  </thead>\n",
       "  <tbody>\n",
       "    <tr>\n",
       "      <th>0</th>\n",
       "      <td>Early Morning</td>\n",
       "      <td>8.83</td>\n",
       "      <td>18.85</td>\n",
       "    </tr>\n",
       "    <tr>\n",
       "      <th>1</th>\n",
       "      <td>Morning</td>\n",
       "      <td>3.47</td>\n",
       "      <td>3.81</td>\n",
       "    </tr>\n",
       "    <tr>\n",
       "      <th>2</th>\n",
       "      <td>Morning Rush</td>\n",
       "      <td>2.31</td>\n",
       "      <td>15.10</td>\n",
       "    </tr>\n",
       "    <tr>\n",
       "      <th>3</th>\n",
       "      <td>Late Morning</td>\n",
       "      <td>3.10</td>\n",
       "      <td>11.39</td>\n",
       "    </tr>\n",
       "    <tr>\n",
       "      <th>4</th>\n",
       "      <td>Early Afternoon</td>\n",
       "      <td>2.76</td>\n",
       "      <td>15.27</td>\n",
       "    </tr>\n",
       "    <tr>\n",
       "      <th>5</th>\n",
       "      <td>Evening Rush</td>\n",
       "      <td>2.87</td>\n",
       "      <td>25.46</td>\n",
       "    </tr>\n",
       "    <tr>\n",
       "      <th>6</th>\n",
       "      <td>Evening</td>\n",
       "      <td>2.25</td>\n",
       "      <td>21.10</td>\n",
       "    </tr>\n",
       "    <tr>\n",
       "      <th>7</th>\n",
       "      <td>Late Evening</td>\n",
       "      <td>2.62</td>\n",
       "      <td>14.67</td>\n",
       "    </tr>\n",
       "  </tbody>\n",
       "</table>\n",
       "</div>"
      ],
      "text/plain": [
       "       Time Of Day  Pct Adjusted Early Count  Pct Adjusted Late Count\n",
       "0    Early Morning                      8.83                    18.85\n",
       "1          Morning                      3.47                     3.81\n",
       "2     Morning Rush                      2.31                    15.10\n",
       "3     Late Morning                      3.10                    11.39\n",
       "4  Early Afternoon                      2.76                    15.27\n",
       "5     Evening Rush                      2.87                    25.46\n",
       "6          Evening                      2.25                    21.10\n",
       "7     Late Evening                      2.62                    14.67"
      ]
     },
     "execution_count": 180,
     "metadata": {},
     "output_type": "execute_result"
    }
   ],
   "source": [
    "time_of_the_week_merge = pd.merge(time_of_day_adjusted_early_count_pct, time_of_day_adjusted_late_count_pct,\n",
    "                                  left_on = 'Time Of Day', right_on = 'Time Of Day')\n",
    "time_of_the_week_merge"
   ]
  },
  {
   "cell_type": "code",
   "execution_count": 181,
   "id": "c38c1cdb-30d1-48c7-8e48-7f07df8839f5",
   "metadata": {},
   "outputs": [
    {
     "data": {
      "text/html": [
       "<div>\n",
       "<style scoped>\n",
       "    .dataframe tbody tr th:only-of-type {\n",
       "        vertical-align: middle;\n",
       "    }\n",
       "\n",
       "    .dataframe tbody tr th {\n",
       "        vertical-align: top;\n",
       "    }\n",
       "\n",
       "    .dataframe thead th {\n",
       "        text-align: right;\n",
       "    }\n",
       "</style>\n",
       "<table border=\"1\" class=\"dataframe\">\n",
       "  <thead>\n",
       "    <tr style=\"text-align: right;\">\n",
       "      <th></th>\n",
       "      <th>Time Of Day</th>\n",
       "      <th>Pct Adjusted Early Count</th>\n",
       "      <th>Pct Adjusted Late Count</th>\n",
       "      <th>Pct Adjusted Ontime Count</th>\n",
       "    </tr>\n",
       "  </thead>\n",
       "  <tbody>\n",
       "    <tr>\n",
       "      <th>0</th>\n",
       "      <td>Early Morning</td>\n",
       "      <td>8.83</td>\n",
       "      <td>18.85</td>\n",
       "      <td>67.40</td>\n",
       "    </tr>\n",
       "    <tr>\n",
       "      <th>1</th>\n",
       "      <td>Morning</td>\n",
       "      <td>3.47</td>\n",
       "      <td>3.81</td>\n",
       "      <td>89.12</td>\n",
       "    </tr>\n",
       "    <tr>\n",
       "      <th>2</th>\n",
       "      <td>Morning Rush</td>\n",
       "      <td>2.31</td>\n",
       "      <td>15.10</td>\n",
       "      <td>79.37</td>\n",
       "    </tr>\n",
       "    <tr>\n",
       "      <th>3</th>\n",
       "      <td>Late Morning</td>\n",
       "      <td>3.10</td>\n",
       "      <td>11.39</td>\n",
       "      <td>82.82</td>\n",
       "    </tr>\n",
       "    <tr>\n",
       "      <th>4</th>\n",
       "      <td>Early Afternoon</td>\n",
       "      <td>2.76</td>\n",
       "      <td>15.27</td>\n",
       "      <td>79.34</td>\n",
       "    </tr>\n",
       "    <tr>\n",
       "      <th>5</th>\n",
       "      <td>Evening Rush</td>\n",
       "      <td>2.87</td>\n",
       "      <td>25.46</td>\n",
       "      <td>67.90</td>\n",
       "    </tr>\n",
       "    <tr>\n",
       "      <th>6</th>\n",
       "      <td>Evening</td>\n",
       "      <td>2.25</td>\n",
       "      <td>21.10</td>\n",
       "      <td>72.56</td>\n",
       "    </tr>\n",
       "    <tr>\n",
       "      <th>7</th>\n",
       "      <td>Late Evening</td>\n",
       "      <td>2.62</td>\n",
       "      <td>14.67</td>\n",
       "      <td>79.29</td>\n",
       "    </tr>\n",
       "  </tbody>\n",
       "</table>\n",
       "</div>"
      ],
      "text/plain": [
       "       Time Of Day  Pct Adjusted Early Count  Pct Adjusted Late Count  \\\n",
       "0    Early Morning                      8.83                    18.85   \n",
       "1          Morning                      3.47                     3.81   \n",
       "2     Morning Rush                      2.31                    15.10   \n",
       "3     Late Morning                      3.10                    11.39   \n",
       "4  Early Afternoon                      2.76                    15.27   \n",
       "5     Evening Rush                      2.87                    25.46   \n",
       "6          Evening                      2.25                    21.10   \n",
       "7     Late Evening                      2.62                    14.67   \n",
       "\n",
       "   Pct Adjusted Ontime Count  \n",
       "0                      67.40  \n",
       "1                      89.12  \n",
       "2                      79.37  \n",
       "3                      82.82  \n",
       "4                      79.34  \n",
       "5                      67.90  \n",
       "6                      72.56  \n",
       "7                      79.29  "
      ]
     },
     "execution_count": 181,
     "metadata": {},
     "output_type": "execute_result"
    }
   ],
   "source": [
    "time_of_the_week_merge_total = pd.merge(time_of_the_week_merge, time_of_day_adjusted_ontime_pct,\n",
    "                                  left_on = 'Time Of Day', right_on = 'Time Of Day')\n",
    "time_of_the_week_merge_total"
   ]
  },
  {
   "cell_type": "code",
   "execution_count": 182,
   "id": "cebc96f5-8534-42d9-b58a-82772c2def98",
   "metadata": {},
   "outputs": [
    {
     "data": {
      "image/png": "[encoded data removed]",
      "text/plain": [
       "<Figure size 640x480 with 1 Axes>"
      ]
     },
     "metadata": {},
     "output_type": "display_data"
    }
   ],
   "source": [
    "time_of_the_week_merge_total.plot(kind = 'bar', x='Time Of Day',\n",
    "                                  stacked = False,\n",
    "                                  colormap='tab20b',\n",
    "                                  edgecolor = 'black',\n",
    "                                  width = 0.9,\n",
    "                                  )\n",
    "plt.xlabel('Time Of Day')\n",
    "plt.ylabel('Percentage')\n",
    "plt.title('Pct Adjusted Early/Late/Ontime Count')\n",
    "plt.xticks(rotation = 60)\n",
    "plt.legend(bbox_to_anchor = (1, 1), loc = 'upper left');  \n",
    "plt.savefig('test.jpg')"
   ]
  },
  {
   "cell_type": "code",
   "execution_count": 183,
   "id": "a1c38846-2c3e-4db1-917e-eadc8150b43e",
   "metadata": {},
   "outputs": [],
   "source": [
    "## FRIDAY EVENING ROUTES"
   ]
  },
  {
   "cell_type": "code",
   "execution_count": 184,
   "id": "7b8dfaa6-bddb-45c0-aff7-5cd79631c1e5",
   "metadata": {},
   "outputs": [
    {
     "data": {
      "text/html": [
       "<div>\n",
       "<style scoped>\n",
       "    .dataframe tbody tr th:only-of-type {\n",
       "        vertical-align: middle;\n",
       "    }\n",
       "\n",
       "    .dataframe tbody tr th {\n",
       "        vertical-align: top;\n",
       "    }\n",
       "\n",
       "    .dataframe thead th {\n",
       "        text-align: right;\n",
       "    }\n",
       "</style>\n",
       "<table border=\"1\" class=\"dataframe\">\n",
       "  <thead>\n",
       "    <tr style=\"text-align: right;\">\n",
       "      <th></th>\n",
       "      <th>CALENDAR_ID</th>\n",
       "      <th>SERVICE_ABBR</th>\n",
       "      <th>ADHERENCE_ID</th>\n",
       "      <th>DATE</th>\n",
       "      <th>ROUTE_ABBR</th>\n",
       "      <th>BLOCK_ABBR</th>\n",
       "      <th>OPERATOR</th>\n",
       "      <th>TRIP_ID</th>\n",
       "      <th>OVERLOAD_ID</th>\n",
       "      <th>ROUTE_DIRECTION_NAME</th>\n",
       "      <th>...</th>\n",
       "      <th>ADJUSTED_ONTIME_COUNT</th>\n",
       "      <th>STOP_CANCELLED</th>\n",
       "      <th>PREV_SCHED_STOP_CANCELLED</th>\n",
       "      <th>IS_RELIEF</th>\n",
       "      <th>DWELL_IN_MINS</th>\n",
       "      <th>SCHEDULED_LAYOVER_MINUTES</th>\n",
       "      <th>DATE_1</th>\n",
       "      <th>DAY</th>\n",
       "      <th>SCHEDULED_TIME_1</th>\n",
       "      <th>time_of_day</th>\n",
       "    </tr>\n",
       "  </thead>\n",
       "  <tbody>\n",
       "    <tr>\n",
       "      <th>0</th>\n",
       "      <td>120230801</td>\n",
       "      <td>1</td>\n",
       "      <td>99457890</td>\n",
       "      <td>2023-08-01</td>\n",
       "      <td>22</td>\n",
       "      <td>2200</td>\n",
       "      <td>1040</td>\n",
       "      <td>345104</td>\n",
       "      <td>0</td>\n",
       "      <td>TO DOWNTOWN</td>\n",
       "      <td>...</td>\n",
       "      <td>1</td>\n",
       "      <td>0</td>\n",
       "      <td>0.0</td>\n",
       "      <td>0</td>\n",
       "      <td>6.500000</td>\n",
       "      <td>NaN</td>\n",
       "      <td>2023-08-01</td>\n",
       "      <td>Tuesday</td>\n",
       "      <td>04:42:00</td>\n",
       "      <td>Morning</td>\n",
       "    </tr>\n",
       "    <tr>\n",
       "      <th>1</th>\n",
       "      <td>120230801</td>\n",
       "      <td>1</td>\n",
       "      <td>99457891</td>\n",
       "      <td>2023-08-01</td>\n",
       "      <td>22</td>\n",
       "      <td>2200</td>\n",
       "      <td>1040</td>\n",
       "      <td>345104</td>\n",
       "      <td>0</td>\n",
       "      <td>TO DOWNTOWN</td>\n",
       "      <td>...</td>\n",
       "      <td>1</td>\n",
       "      <td>0</td>\n",
       "      <td>0.0</td>\n",
       "      <td>0</td>\n",
       "      <td>0.000000</td>\n",
       "      <td>NaN</td>\n",
       "      <td>2023-08-01</td>\n",
       "      <td>Tuesday</td>\n",
       "      <td>04:46:00</td>\n",
       "      <td>Morning</td>\n",
       "    </tr>\n",
       "    <tr>\n",
       "      <th>2</th>\n",
       "      <td>120230801</td>\n",
       "      <td>1</td>\n",
       "      <td>99457892</td>\n",
       "      <td>2023-08-01</td>\n",
       "      <td>22</td>\n",
       "      <td>2200</td>\n",
       "      <td>1040</td>\n",
       "      <td>345104</td>\n",
       "      <td>0</td>\n",
       "      <td>TO DOWNTOWN</td>\n",
       "      <td>...</td>\n",
       "      <td>1</td>\n",
       "      <td>0</td>\n",
       "      <td>0.0</td>\n",
       "      <td>0</td>\n",
       "      <td>0.000000</td>\n",
       "      <td>NaN</td>\n",
       "      <td>2023-08-01</td>\n",
       "      <td>Tuesday</td>\n",
       "      <td>04:54:00</td>\n",
       "      <td>Morning</td>\n",
       "    </tr>\n",
       "    <tr>\n",
       "      <th>3</th>\n",
       "      <td>120230801</td>\n",
       "      <td>1</td>\n",
       "      <td>99457893</td>\n",
       "      <td>2023-08-01</td>\n",
       "      <td>22</td>\n",
       "      <td>2200</td>\n",
       "      <td>1040</td>\n",
       "      <td>345104</td>\n",
       "      <td>0</td>\n",
       "      <td>TO DOWNTOWN</td>\n",
       "      <td>...</td>\n",
       "      <td>1</td>\n",
       "      <td>0</td>\n",
       "      <td>NaN</td>\n",
       "      <td>0</td>\n",
       "      <td>0.000000</td>\n",
       "      <td>NaN</td>\n",
       "      <td>2023-08-01</td>\n",
       "      <td>Tuesday</td>\n",
       "      <td>05:10:00</td>\n",
       "      <td>Morning</td>\n",
       "    </tr>\n",
       "    <tr>\n",
       "      <th>4</th>\n",
       "      <td>120230801</td>\n",
       "      <td>1</td>\n",
       "      <td>99457894</td>\n",
       "      <td>2023-08-01</td>\n",
       "      <td>22</td>\n",
       "      <td>2200</td>\n",
       "      <td>1040</td>\n",
       "      <td>345105</td>\n",
       "      <td>0</td>\n",
       "      <td>FROM DOWNTOWN</td>\n",
       "      <td>...</td>\n",
       "      <td>1</td>\n",
       "      <td>0</td>\n",
       "      <td>0.0</td>\n",
       "      <td>0</td>\n",
       "      <td>12.866666</td>\n",
       "      <td>5.0</td>\n",
       "      <td>2023-08-01</td>\n",
       "      <td>Tuesday</td>\n",
       "      <td>05:15:00</td>\n",
       "      <td>Morning</td>\n",
       "    </tr>\n",
       "    <tr>\n",
       "      <th>...</th>\n",
       "      <td>...</td>\n",
       "      <td>...</td>\n",
       "      <td>...</td>\n",
       "      <td>...</td>\n",
       "      <td>...</td>\n",
       "      <td>...</td>\n",
       "      <td>...</td>\n",
       "      <td>...</td>\n",
       "      <td>...</td>\n",
       "      <td>...</td>\n",
       "      <td>...</td>\n",
       "      <td>...</td>\n",
       "      <td>...</td>\n",
       "      <td>...</td>\n",
       "      <td>...</td>\n",
       "      <td>...</td>\n",
       "      <td>...</td>\n",
       "      <td>...</td>\n",
       "      <td>...</td>\n",
       "      <td>...</td>\n",
       "      <td>...</td>\n",
       "    </tr>\n",
       "    <tr>\n",
       "      <th>350324</th>\n",
       "      <td>120230930</td>\n",
       "      <td>2</td>\n",
       "      <td>100406610</td>\n",
       "      <td>2023-09-30</td>\n",
       "      <td>7</td>\n",
       "      <td>702</td>\n",
       "      <td>2312</td>\n",
       "      <td>353448</td>\n",
       "      <td>0</td>\n",
       "      <td>TO DOWNTOWN</td>\n",
       "      <td>...</td>\n",
       "      <td>0</td>\n",
       "      <td>0</td>\n",
       "      <td>0.0</td>\n",
       "      <td>0</td>\n",
       "      <td>0.000000</td>\n",
       "      <td>NaN</td>\n",
       "      <td>2023-09-30</td>\n",
       "      <td>Saturday</td>\n",
       "      <td>22:23:00</td>\n",
       "      <td>Late Evening</td>\n",
       "    </tr>\n",
       "    <tr>\n",
       "      <th>350325</th>\n",
       "      <td>120230930</td>\n",
       "      <td>2</td>\n",
       "      <td>100406611</td>\n",
       "      <td>2023-09-30</td>\n",
       "      <td>7</td>\n",
       "      <td>702</td>\n",
       "      <td>2312</td>\n",
       "      <td>353448</td>\n",
       "      <td>0</td>\n",
       "      <td>TO DOWNTOWN</td>\n",
       "      <td>...</td>\n",
       "      <td>0</td>\n",
       "      <td>0</td>\n",
       "      <td>NaN</td>\n",
       "      <td>0</td>\n",
       "      <td>0.000000</td>\n",
       "      <td>NaN</td>\n",
       "      <td>2023-09-30</td>\n",
       "      <td>Saturday</td>\n",
       "      <td>22:38:00</td>\n",
       "      <td>Late Evening</td>\n",
       "    </tr>\n",
       "    <tr>\n",
       "      <th>350326</th>\n",
       "      <td>120230930</td>\n",
       "      <td>2</td>\n",
       "      <td>100406612</td>\n",
       "      <td>2023-09-30</td>\n",
       "      <td>7</td>\n",
       "      <td>702</td>\n",
       "      <td>2312</td>\n",
       "      <td>353449</td>\n",
       "      <td>0</td>\n",
       "      <td>FROM DOWNTOWN</td>\n",
       "      <td>...</td>\n",
       "      <td>1</td>\n",
       "      <td>0</td>\n",
       "      <td>0.0</td>\n",
       "      <td>0</td>\n",
       "      <td>0.000000</td>\n",
       "      <td>NaN</td>\n",
       "      <td>2023-09-30</td>\n",
       "      <td>Saturday</td>\n",
       "      <td>22:45:00</td>\n",
       "      <td>Late Evening</td>\n",
       "    </tr>\n",
       "    <tr>\n",
       "      <th>350327</th>\n",
       "      <td>120230930</td>\n",
       "      <td>2</td>\n",
       "      <td>100406613</td>\n",
       "      <td>2023-09-30</td>\n",
       "      <td>7</td>\n",
       "      <td>702</td>\n",
       "      <td>2312</td>\n",
       "      <td>353449</td>\n",
       "      <td>0</td>\n",
       "      <td>FROM DOWNTOWN</td>\n",
       "      <td>...</td>\n",
       "      <td>0</td>\n",
       "      <td>0</td>\n",
       "      <td>0.0</td>\n",
       "      <td>0</td>\n",
       "      <td>0.000000</td>\n",
       "      <td>NaN</td>\n",
       "      <td>2023-09-30</td>\n",
       "      <td>Saturday</td>\n",
       "      <td>22:59:00</td>\n",
       "      <td>Late Evening</td>\n",
       "    </tr>\n",
       "    <tr>\n",
       "      <th>350328</th>\n",
       "      <td>120230930</td>\n",
       "      <td>2</td>\n",
       "      <td>100406614</td>\n",
       "      <td>2023-09-30</td>\n",
       "      <td>7</td>\n",
       "      <td>702</td>\n",
       "      <td>2312</td>\n",
       "      <td>353449</td>\n",
       "      <td>0</td>\n",
       "      <td>FROM DOWNTOWN</td>\n",
       "      <td>...</td>\n",
       "      <td>0</td>\n",
       "      <td>0</td>\n",
       "      <td>NaN</td>\n",
       "      <td>0</td>\n",
       "      <td>3.216666</td>\n",
       "      <td>NaN</td>\n",
       "      <td>2023-09-30</td>\n",
       "      <td>Saturday</td>\n",
       "      <td>23:11:00</td>\n",
       "      <td>Late Evening</td>\n",
       "    </tr>\n",
       "  </tbody>\n",
       "</table>\n",
       "<p>350329 rows × 34 columns</p>\n",
       "</div>"
      ],
      "text/plain": [
       "        CALENDAR_ID  SERVICE_ABBR  ADHERENCE_ID        DATE  ROUTE_ABBR  \\\n",
       "0         120230801             1      99457890  2023-08-01          22   \n",
       "1         120230801             1      99457891  2023-08-01          22   \n",
       "2         120230801             1      99457892  2023-08-01          22   \n",
       "3         120230801             1      99457893  2023-08-01          22   \n",
       "4         120230801             1      99457894  2023-08-01          22   \n",
       "...             ...           ...           ...         ...         ...   \n",
       "350324    120230930             2     100406610  2023-09-30           7   \n",
       "350325    120230930             2     100406611  2023-09-30           7   \n",
       "350326    120230930             2     100406612  2023-09-30           7   \n",
       "350327    120230930             2     100406613  2023-09-30           7   \n",
       "350328    120230930             2     100406614  2023-09-30           7   \n",
       "\n",
       "        BLOCK_ABBR  OPERATOR  TRIP_ID  OVERLOAD_ID ROUTE_DIRECTION_NAME  ...  \\\n",
       "0             2200      1040   345104            0          TO DOWNTOWN  ...   \n",
       "1             2200      1040   345104            0          TO DOWNTOWN  ...   \n",
       "2             2200      1040   345104            0          TO DOWNTOWN  ...   \n",
       "3             2200      1040   345104            0          TO DOWNTOWN  ...   \n",
       "4             2200      1040   345105            0        FROM DOWNTOWN  ...   \n",
       "...            ...       ...      ...          ...                  ...  ...   \n",
       "350324         702      2312   353448            0          TO DOWNTOWN  ...   \n",
       "350325         702      2312   353448            0          TO DOWNTOWN  ...   \n",
       "350326         702      2312   353449            0        FROM DOWNTOWN  ...   \n",
       "350327         702      2312   353449            0        FROM DOWNTOWN  ...   \n",
       "350328         702      2312   353449            0        FROM DOWNTOWN  ...   \n",
       "\n",
       "       ADJUSTED_ONTIME_COUNT  STOP_CANCELLED  PREV_SCHED_STOP_CANCELLED  \\\n",
       "0                          1               0                        0.0   \n",
       "1                          1               0                        0.0   \n",
       "2                          1               0                        0.0   \n",
       "3                          1               0                        NaN   \n",
       "4                          1               0                        0.0   \n",
       "...                      ...             ...                        ...   \n",
       "350324                     0               0                        0.0   \n",
       "350325                     0               0                        NaN   \n",
       "350326                     1               0                        0.0   \n",
       "350327                     0               0                        0.0   \n",
       "350328                     0               0                        NaN   \n",
       "\n",
       "        IS_RELIEF  DWELL_IN_MINS SCHEDULED_LAYOVER_MINUTES     DATE_1  \\\n",
       "0               0       6.500000                       NaN 2023-08-01   \n",
       "1               0       0.000000                       NaN 2023-08-01   \n",
       "2               0       0.000000                       NaN 2023-08-01   \n",
       "3               0       0.000000                       NaN 2023-08-01   \n",
       "4               0      12.866666                       5.0 2023-08-01   \n",
       "...           ...            ...                       ...        ...   \n",
       "350324          0       0.000000                       NaN 2023-09-30   \n",
       "350325          0       0.000000                       NaN 2023-09-30   \n",
       "350326          0       0.000000                       NaN 2023-09-30   \n",
       "350327          0       0.000000                       NaN 2023-09-30   \n",
       "350328          0       3.216666                       NaN 2023-09-30   \n",
       "\n",
       "             DAY  SCHEDULED_TIME_1   time_of_day  \n",
       "0        Tuesday          04:42:00       Morning  \n",
       "1        Tuesday          04:46:00       Morning  \n",
       "2        Tuesday          04:54:00       Morning  \n",
       "3        Tuesday          05:10:00       Morning  \n",
       "4        Tuesday          05:15:00       Morning  \n",
       "...          ...               ...           ...  \n",
       "350324  Saturday          22:23:00  Late Evening  \n",
       "350325  Saturday          22:38:00  Late Evening  \n",
       "350326  Saturday          22:45:00  Late Evening  \n",
       "350327  Saturday          22:59:00  Late Evening  \n",
       "350328  Saturday          23:11:00  Late Evening  \n",
       "\n",
       "[350329 rows x 34 columns]"
      ]
     },
     "execution_count": 184,
     "metadata": {},
     "output_type": "execute_result"
    }
   ],
   "source": [
    "wego_df"
   ]
  },
  {
   "cell_type": "code",
   "execution_count": 185,
   "id": "69cdcdff-7bb2-471d-95ea-8f8a5750082a",
   "metadata": {},
   "outputs": [
    {
     "data": {
      "text/html": [
       "<div>\n",
       "<style scoped>\n",
       "    .dataframe tbody tr th:only-of-type {\n",
       "        vertical-align: middle;\n",
       "    }\n",
       "\n",
       "    .dataframe tbody tr th {\n",
       "        vertical-align: top;\n",
       "    }\n",
       "\n",
       "    .dataframe thead th {\n",
       "        text-align: right;\n",
       "    }\n",
       "</style>\n",
       "<table border=\"1\" class=\"dataframe\">\n",
       "  <thead>\n",
       "    <tr style=\"text-align: right;\">\n",
       "      <th></th>\n",
       "      <th>CALENDAR_ID</th>\n",
       "      <th>SERVICE_ABBR</th>\n",
       "      <th>ADHERENCE_ID</th>\n",
       "      <th>DATE</th>\n",
       "      <th>ROUTE_ABBR</th>\n",
       "      <th>BLOCK_ABBR</th>\n",
       "      <th>OPERATOR</th>\n",
       "      <th>TRIP_ID</th>\n",
       "      <th>OVERLOAD_ID</th>\n",
       "      <th>ROUTE_DIRECTION_NAME</th>\n",
       "      <th>...</th>\n",
       "      <th>ADJUSTED_ONTIME_COUNT</th>\n",
       "      <th>STOP_CANCELLED</th>\n",
       "      <th>PREV_SCHED_STOP_CANCELLED</th>\n",
       "      <th>IS_RELIEF</th>\n",
       "      <th>DWELL_IN_MINS</th>\n",
       "      <th>SCHEDULED_LAYOVER_MINUTES</th>\n",
       "      <th>DATE_1</th>\n",
       "      <th>DAY</th>\n",
       "      <th>SCHEDULED_TIME_1</th>\n",
       "      <th>time_of_day</th>\n",
       "    </tr>\n",
       "  </thead>\n",
       "  <tbody>\n",
       "    <tr>\n",
       "      <th>19383</th>\n",
       "      <td>120230804</td>\n",
       "      <td>1</td>\n",
       "      <td>99559347</td>\n",
       "      <td>2023-08-04</td>\n",
       "      <td>22</td>\n",
       "      <td>2200</td>\n",
       "      <td>1040</td>\n",
       "      <td>349935</td>\n",
       "      <td>0</td>\n",
       "      <td>TO DOWNTOWN</td>\n",
       "      <td>...</td>\n",
       "      <td>1</td>\n",
       "      <td>0</td>\n",
       "      <td>0.0</td>\n",
       "      <td>0</td>\n",
       "      <td>5.416666</td>\n",
       "      <td>NaN</td>\n",
       "      <td>2023-08-04</td>\n",
       "      <td>Friday</td>\n",
       "      <td>04:42:00</td>\n",
       "      <td>Morning</td>\n",
       "    </tr>\n",
       "    <tr>\n",
       "      <th>19384</th>\n",
       "      <td>120230804</td>\n",
       "      <td>1</td>\n",
       "      <td>99559348</td>\n",
       "      <td>2023-08-04</td>\n",
       "      <td>22</td>\n",
       "      <td>2200</td>\n",
       "      <td>1040</td>\n",
       "      <td>349935</td>\n",
       "      <td>0</td>\n",
       "      <td>TO DOWNTOWN</td>\n",
       "      <td>...</td>\n",
       "      <td>1</td>\n",
       "      <td>0</td>\n",
       "      <td>0.0</td>\n",
       "      <td>0</td>\n",
       "      <td>0.000000</td>\n",
       "      <td>NaN</td>\n",
       "      <td>2023-08-04</td>\n",
       "      <td>Friday</td>\n",
       "      <td>04:46:00</td>\n",
       "      <td>Morning</td>\n",
       "    </tr>\n",
       "    <tr>\n",
       "      <th>19385</th>\n",
       "      <td>120230804</td>\n",
       "      <td>1</td>\n",
       "      <td>99559349</td>\n",
       "      <td>2023-08-04</td>\n",
       "      <td>22</td>\n",
       "      <td>2200</td>\n",
       "      <td>1040</td>\n",
       "      <td>349935</td>\n",
       "      <td>0</td>\n",
       "      <td>TO DOWNTOWN</td>\n",
       "      <td>...</td>\n",
       "      <td>1</td>\n",
       "      <td>0</td>\n",
       "      <td>0.0</td>\n",
       "      <td>0</td>\n",
       "      <td>0.000000</td>\n",
       "      <td>NaN</td>\n",
       "      <td>2023-08-04</td>\n",
       "      <td>Friday</td>\n",
       "      <td>04:54:00</td>\n",
       "      <td>Morning</td>\n",
       "    </tr>\n",
       "    <tr>\n",
       "      <th>19386</th>\n",
       "      <td>120230804</td>\n",
       "      <td>1</td>\n",
       "      <td>99559350</td>\n",
       "      <td>2023-08-04</td>\n",
       "      <td>22</td>\n",
       "      <td>2200</td>\n",
       "      <td>1040</td>\n",
       "      <td>349935</td>\n",
       "      <td>0</td>\n",
       "      <td>TO DOWNTOWN</td>\n",
       "      <td>...</td>\n",
       "      <td>1</td>\n",
       "      <td>0</td>\n",
       "      <td>NaN</td>\n",
       "      <td>0</td>\n",
       "      <td>0.000000</td>\n",
       "      <td>NaN</td>\n",
       "      <td>2023-08-04</td>\n",
       "      <td>Friday</td>\n",
       "      <td>05:10:00</td>\n",
       "      <td>Morning</td>\n",
       "    </tr>\n",
       "    <tr>\n",
       "      <th>19387</th>\n",
       "      <td>120230804</td>\n",
       "      <td>1</td>\n",
       "      <td>99559351</td>\n",
       "      <td>2023-08-04</td>\n",
       "      <td>22</td>\n",
       "      <td>2200</td>\n",
       "      <td>1040</td>\n",
       "      <td>349936</td>\n",
       "      <td>0</td>\n",
       "      <td>FROM DOWNTOWN</td>\n",
       "      <td>...</td>\n",
       "      <td>1</td>\n",
       "      <td>0</td>\n",
       "      <td>0.0</td>\n",
       "      <td>0</td>\n",
       "      <td>14.600000</td>\n",
       "      <td>5.0</td>\n",
       "      <td>2023-08-04</td>\n",
       "      <td>Friday</td>\n",
       "      <td>05:15:00</td>\n",
       "      <td>Morning</td>\n",
       "    </tr>\n",
       "    <tr>\n",
       "      <th>...</th>\n",
       "      <td>...</td>\n",
       "      <td>...</td>\n",
       "      <td>...</td>\n",
       "      <td>...</td>\n",
       "      <td>...</td>\n",
       "      <td>...</td>\n",
       "      <td>...</td>\n",
       "      <td>...</td>\n",
       "      <td>...</td>\n",
       "      <td>...</td>\n",
       "      <td>...</td>\n",
       "      <td>...</td>\n",
       "      <td>...</td>\n",
       "      <td>...</td>\n",
       "      <td>...</td>\n",
       "      <td>...</td>\n",
       "      <td>...</td>\n",
       "      <td>...</td>\n",
       "      <td>...</td>\n",
       "      <td>...</td>\n",
       "      <td>...</td>\n",
       "    </tr>\n",
       "    <tr>\n",
       "      <th>346166</th>\n",
       "      <td>120230929</td>\n",
       "      <td>1</td>\n",
       "      <td>100386592</td>\n",
       "      <td>2023-09-29</td>\n",
       "      <td>50</td>\n",
       "      <td>9302</td>\n",
       "      <td>2423</td>\n",
       "      <td>354069</td>\n",
       "      <td>0</td>\n",
       "      <td>TO DOWNTOWN</td>\n",
       "      <td>...</td>\n",
       "      <td>0</td>\n",
       "      <td>0</td>\n",
       "      <td>NaN</td>\n",
       "      <td>0</td>\n",
       "      <td>3.183333</td>\n",
       "      <td>NaN</td>\n",
       "      <td>2023-09-29</td>\n",
       "      <td>Friday</td>\n",
       "      <td>15:18:00</td>\n",
       "      <td>Evening Rush</td>\n",
       "    </tr>\n",
       "    <tr>\n",
       "      <th>346167</th>\n",
       "      <td>120230929</td>\n",
       "      <td>1</td>\n",
       "      <td>100386719</td>\n",
       "      <td>2023-09-29</td>\n",
       "      <td>50</td>\n",
       "      <td>9950</td>\n",
       "      <td>2530</td>\n",
       "      <td>354098</td>\n",
       "      <td>0</td>\n",
       "      <td>TO DOWNTOWN</td>\n",
       "      <td>...</td>\n",
       "      <td>1</td>\n",
       "      <td>0</td>\n",
       "      <td>0.0</td>\n",
       "      <td>0</td>\n",
       "      <td>36.883333</td>\n",
       "      <td>NaN</td>\n",
       "      <td>2023-09-29</td>\n",
       "      <td>Friday</td>\n",
       "      <td>15:20:00</td>\n",
       "      <td>Evening Rush</td>\n",
       "    </tr>\n",
       "    <tr>\n",
       "      <th>346168</th>\n",
       "      <td>120230929</td>\n",
       "      <td>1</td>\n",
       "      <td>100386720</td>\n",
       "      <td>2023-09-29</td>\n",
       "      <td>50</td>\n",
       "      <td>9950</td>\n",
       "      <td>2530</td>\n",
       "      <td>354098</td>\n",
       "      <td>0</td>\n",
       "      <td>TO DOWNTOWN</td>\n",
       "      <td>...</td>\n",
       "      <td>1</td>\n",
       "      <td>0</td>\n",
       "      <td>NaN</td>\n",
       "      <td>0</td>\n",
       "      <td>4.416666</td>\n",
       "      <td>NaN</td>\n",
       "      <td>2023-09-29</td>\n",
       "      <td>Friday</td>\n",
       "      <td>15:37:00</td>\n",
       "      <td>Evening Rush</td>\n",
       "    </tr>\n",
       "    <tr>\n",
       "      <th>346169</th>\n",
       "      <td>120230929</td>\n",
       "      <td>1</td>\n",
       "      <td>100386749</td>\n",
       "      <td>2023-09-29</td>\n",
       "      <td>56</td>\n",
       "      <td>9975</td>\n",
       "      <td>3120</td>\n",
       "      <td>354106</td>\n",
       "      <td>0</td>\n",
       "      <td>TO DOWNTOWN</td>\n",
       "      <td>...</td>\n",
       "      <td>0</td>\n",
       "      <td>0</td>\n",
       "      <td>0.0</td>\n",
       "      <td>0</td>\n",
       "      <td>10.433333</td>\n",
       "      <td>NaN</td>\n",
       "      <td>2023-09-29</td>\n",
       "      <td>Friday</td>\n",
       "      <td>15:20:00</td>\n",
       "      <td>Evening Rush</td>\n",
       "    </tr>\n",
       "    <tr>\n",
       "      <th>346170</th>\n",
       "      <td>120230929</td>\n",
       "      <td>1</td>\n",
       "      <td>100386750</td>\n",
       "      <td>2023-09-29</td>\n",
       "      <td>56</td>\n",
       "      <td>9975</td>\n",
       "      <td>3120</td>\n",
       "      <td>354106</td>\n",
       "      <td>0</td>\n",
       "      <td>TO DOWNTOWN</td>\n",
       "      <td>...</td>\n",
       "      <td>0</td>\n",
       "      <td>0</td>\n",
       "      <td>NaN</td>\n",
       "      <td>0</td>\n",
       "      <td>2.050000</td>\n",
       "      <td>NaN</td>\n",
       "      <td>2023-09-29</td>\n",
       "      <td>Friday</td>\n",
       "      <td>15:30:00</td>\n",
       "      <td>Evening Rush</td>\n",
       "    </tr>\n",
       "  </tbody>\n",
       "</table>\n",
       "<p>58473 rows × 34 columns</p>\n",
       "</div>"
      ],
      "text/plain": [
       "        CALENDAR_ID  SERVICE_ABBR  ADHERENCE_ID        DATE  ROUTE_ABBR  \\\n",
       "19383     120230804             1      99559347  2023-08-04          22   \n",
       "19384     120230804             1      99559348  2023-08-04          22   \n",
       "19385     120230804             1      99559349  2023-08-04          22   \n",
       "19386     120230804             1      99559350  2023-08-04          22   \n",
       "19387     120230804             1      99559351  2023-08-04          22   \n",
       "...             ...           ...           ...         ...         ...   \n",
       "346166    120230929             1     100386592  2023-09-29          50   \n",
       "346167    120230929             1     100386719  2023-09-29          50   \n",
       "346168    120230929             1     100386720  2023-09-29          50   \n",
       "346169    120230929             1     100386749  2023-09-29          56   \n",
       "346170    120230929             1     100386750  2023-09-29          56   \n",
       "\n",
       "        BLOCK_ABBR  OPERATOR  TRIP_ID  OVERLOAD_ID ROUTE_DIRECTION_NAME  ...  \\\n",
       "19383         2200      1040   349935            0          TO DOWNTOWN  ...   \n",
       "19384         2200      1040   349935            0          TO DOWNTOWN  ...   \n",
       "19385         2200      1040   349935            0          TO DOWNTOWN  ...   \n",
       "19386         2200      1040   349935            0          TO DOWNTOWN  ...   \n",
       "19387         2200      1040   349936            0        FROM DOWNTOWN  ...   \n",
       "...            ...       ...      ...          ...                  ...  ...   \n",
       "346166        9302      2423   354069            0          TO DOWNTOWN  ...   \n",
       "346167        9950      2530   354098            0          TO DOWNTOWN  ...   \n",
       "346168        9950      2530   354098            0          TO DOWNTOWN  ...   \n",
       "346169        9975      3120   354106            0          TO DOWNTOWN  ...   \n",
       "346170        9975      3120   354106            0          TO DOWNTOWN  ...   \n",
       "\n",
       "       ADJUSTED_ONTIME_COUNT  STOP_CANCELLED  PREV_SCHED_STOP_CANCELLED  \\\n",
       "19383                      1               0                        0.0   \n",
       "19384                      1               0                        0.0   \n",
       "19385                      1               0                        0.0   \n",
       "19386                      1               0                        NaN   \n",
       "19387                      1               0                        0.0   \n",
       "...                      ...             ...                        ...   \n",
       "346166                     0               0                        NaN   \n",
       "346167                     1               0                        0.0   \n",
       "346168                     1               0                        NaN   \n",
       "346169                     0               0                        0.0   \n",
       "346170                     0               0                        NaN   \n",
       "\n",
       "        IS_RELIEF  DWELL_IN_MINS SCHEDULED_LAYOVER_MINUTES     DATE_1     DAY  \\\n",
       "19383           0       5.416666                       NaN 2023-08-04  Friday   \n",
       "19384           0       0.000000                       NaN 2023-08-04  Friday   \n",
       "19385           0       0.000000                       NaN 2023-08-04  Friday   \n",
       "19386           0       0.000000                       NaN 2023-08-04  Friday   \n",
       "19387           0      14.600000                       5.0 2023-08-04  Friday   \n",
       "...           ...            ...                       ...        ...     ...   \n",
       "346166          0       3.183333                       NaN 2023-09-29  Friday   \n",
       "346167          0      36.883333                       NaN 2023-09-29  Friday   \n",
       "346168          0       4.416666                       NaN 2023-09-29  Friday   \n",
       "346169          0      10.433333                       NaN 2023-09-29  Friday   \n",
       "346170          0       2.050000                       NaN 2023-09-29  Friday   \n",
       "\n",
       "        SCHEDULED_TIME_1   time_of_day  \n",
       "19383           04:42:00       Morning  \n",
       "19384           04:46:00       Morning  \n",
       "19385           04:54:00       Morning  \n",
       "19386           05:10:00       Morning  \n",
       "19387           05:15:00       Morning  \n",
       "...                  ...           ...  \n",
       "346166          15:18:00  Evening Rush  \n",
       "346167          15:20:00  Evening Rush  \n",
       "346168          15:37:00  Evening Rush  \n",
       "346169          15:20:00  Evening Rush  \n",
       "346170          15:30:00  Evening Rush  \n",
       "\n",
       "[58473 rows x 34 columns]"
      ]
     },
     "execution_count": 185,
     "metadata": {},
     "output_type": "execute_result"
    }
   ],
   "source": [
    "wego_friday_evening_rush = wego_df.loc[wego_df['DAY']== 'Friday']\n",
    "wego_friday_evening_rush"
   ]
  },
  {
   "cell_type": "code",
   "execution_count": 186,
   "id": "dc63980c-2c9e-4d15-b11f-f467c9708986",
   "metadata": {},
   "outputs": [
    {
     "data": {
      "text/html": [
       "<div>\n",
       "<style scoped>\n",
       "    .dataframe tbody tr th:only-of-type {\n",
       "        vertical-align: middle;\n",
       "    }\n",
       "\n",
       "    .dataframe tbody tr th {\n",
       "        vertical-align: top;\n",
       "    }\n",
       "\n",
       "    .dataframe thead th {\n",
       "        text-align: right;\n",
       "    }\n",
       "</style>\n",
       "<table border=\"1\" class=\"dataframe\">\n",
       "  <thead>\n",
       "    <tr style=\"text-align: right;\">\n",
       "      <th></th>\n",
       "      <th>CALENDAR_ID</th>\n",
       "      <th>SERVICE_ABBR</th>\n",
       "      <th>ADHERENCE_ID</th>\n",
       "      <th>DATE</th>\n",
       "      <th>ROUTE_ABBR</th>\n",
       "      <th>BLOCK_ABBR</th>\n",
       "      <th>OPERATOR</th>\n",
       "      <th>TRIP_ID</th>\n",
       "      <th>OVERLOAD_ID</th>\n",
       "      <th>ROUTE_DIRECTION_NAME</th>\n",
       "      <th>...</th>\n",
       "      <th>ADJUSTED_ONTIME_COUNT</th>\n",
       "      <th>STOP_CANCELLED</th>\n",
       "      <th>PREV_SCHED_STOP_CANCELLED</th>\n",
       "      <th>IS_RELIEF</th>\n",
       "      <th>DWELL_IN_MINS</th>\n",
       "      <th>SCHEDULED_LAYOVER_MINUTES</th>\n",
       "      <th>DATE_1</th>\n",
       "      <th>DAY</th>\n",
       "      <th>SCHEDULED_TIME_1</th>\n",
       "      <th>time_of_day</th>\n",
       "    </tr>\n",
       "  </thead>\n",
       "  <tbody>\n",
       "    <tr>\n",
       "      <th>19447</th>\n",
       "      <td>120230804</td>\n",
       "      <td>1</td>\n",
       "      <td>99559411</td>\n",
       "      <td>2023-08-04</td>\n",
       "      <td>22</td>\n",
       "      <td>2200</td>\n",
       "      <td>611</td>\n",
       "      <td>349954</td>\n",
       "      <td>0</td>\n",
       "      <td>TO DOWNTOWN</td>\n",
       "      <td>...</td>\n",
       "      <td>1</td>\n",
       "      <td>0</td>\n",
       "      <td>NaN</td>\n",
       "      <td>0</td>\n",
       "      <td>0.000000</td>\n",
       "      <td>NaN</td>\n",
       "      <td>2023-08-04</td>\n",
       "      <td>Friday</td>\n",
       "      <td>15:00:00</td>\n",
       "      <td>Evening Rush</td>\n",
       "    </tr>\n",
       "    <tr>\n",
       "      <th>19448</th>\n",
       "      <td>120230804</td>\n",
       "      <td>1</td>\n",
       "      <td>99559412</td>\n",
       "      <td>2023-08-04</td>\n",
       "      <td>22</td>\n",
       "      <td>2200</td>\n",
       "      <td>611</td>\n",
       "      <td>349955</td>\n",
       "      <td>0</td>\n",
       "      <td>FROM DOWNTOWN</td>\n",
       "      <td>...</td>\n",
       "      <td>1</td>\n",
       "      <td>0</td>\n",
       "      <td>0.0</td>\n",
       "      <td>0</td>\n",
       "      <td>14.266666</td>\n",
       "      <td>10.0</td>\n",
       "      <td>2023-08-04</td>\n",
       "      <td>Friday</td>\n",
       "      <td>15:10:00</td>\n",
       "      <td>Evening Rush</td>\n",
       "    </tr>\n",
       "    <tr>\n",
       "      <th>19449</th>\n",
       "      <td>120230804</td>\n",
       "      <td>1</td>\n",
       "      <td>99559413</td>\n",
       "      <td>2023-08-04</td>\n",
       "      <td>22</td>\n",
       "      <td>2200</td>\n",
       "      <td>611</td>\n",
       "      <td>349955</td>\n",
       "      <td>0</td>\n",
       "      <td>FROM DOWNTOWN</td>\n",
       "      <td>...</td>\n",
       "      <td>1</td>\n",
       "      <td>0</td>\n",
       "      <td>0.0</td>\n",
       "      <td>0</td>\n",
       "      <td>0.000000</td>\n",
       "      <td>NaN</td>\n",
       "      <td>2023-08-04</td>\n",
       "      <td>Friday</td>\n",
       "      <td>15:23:00</td>\n",
       "      <td>Evening Rush</td>\n",
       "    </tr>\n",
       "    <tr>\n",
       "      <th>19450</th>\n",
       "      <td>120230804</td>\n",
       "      <td>1</td>\n",
       "      <td>99559414</td>\n",
       "      <td>2023-08-04</td>\n",
       "      <td>22</td>\n",
       "      <td>2200</td>\n",
       "      <td>611</td>\n",
       "      <td>349955</td>\n",
       "      <td>0</td>\n",
       "      <td>FROM DOWNTOWN</td>\n",
       "      <td>...</td>\n",
       "      <td>1</td>\n",
       "      <td>0</td>\n",
       "      <td>0.0</td>\n",
       "      <td>0</td>\n",
       "      <td>0.000000</td>\n",
       "      <td>NaN</td>\n",
       "      <td>2023-08-04</td>\n",
       "      <td>Friday</td>\n",
       "      <td>15:27:00</td>\n",
       "      <td>Evening Rush</td>\n",
       "    </tr>\n",
       "    <tr>\n",
       "      <th>19451</th>\n",
       "      <td>120230804</td>\n",
       "      <td>1</td>\n",
       "      <td>99559415</td>\n",
       "      <td>2023-08-04</td>\n",
       "      <td>22</td>\n",
       "      <td>2200</td>\n",
       "      <td>611</td>\n",
       "      <td>349955</td>\n",
       "      <td>0</td>\n",
       "      <td>FROM DOWNTOWN</td>\n",
       "      <td>...</td>\n",
       "      <td>1</td>\n",
       "      <td>0</td>\n",
       "      <td>0.0</td>\n",
       "      <td>0</td>\n",
       "      <td>0.000000</td>\n",
       "      <td>NaN</td>\n",
       "      <td>2023-08-04</td>\n",
       "      <td>Friday</td>\n",
       "      <td>15:37:00</td>\n",
       "      <td>Evening Rush</td>\n",
       "    </tr>\n",
       "    <tr>\n",
       "      <th>...</th>\n",
       "      <td>...</td>\n",
       "      <td>...</td>\n",
       "      <td>...</td>\n",
       "      <td>...</td>\n",
       "      <td>...</td>\n",
       "      <td>...</td>\n",
       "      <td>...</td>\n",
       "      <td>...</td>\n",
       "      <td>...</td>\n",
       "      <td>...</td>\n",
       "      <td>...</td>\n",
       "      <td>...</td>\n",
       "      <td>...</td>\n",
       "      <td>...</td>\n",
       "      <td>...</td>\n",
       "      <td>...</td>\n",
       "      <td>...</td>\n",
       "      <td>...</td>\n",
       "      <td>...</td>\n",
       "      <td>...</td>\n",
       "      <td>...</td>\n",
       "    </tr>\n",
       "    <tr>\n",
       "      <th>346166</th>\n",
       "      <td>120230929</td>\n",
       "      <td>1</td>\n",
       "      <td>100386592</td>\n",
       "      <td>2023-09-29</td>\n",
       "      <td>50</td>\n",
       "      <td>9302</td>\n",
       "      <td>2423</td>\n",
       "      <td>354069</td>\n",
       "      <td>0</td>\n",
       "      <td>TO DOWNTOWN</td>\n",
       "      <td>...</td>\n",
       "      <td>0</td>\n",
       "      <td>0</td>\n",
       "      <td>NaN</td>\n",
       "      <td>0</td>\n",
       "      <td>3.183333</td>\n",
       "      <td>NaN</td>\n",
       "      <td>2023-09-29</td>\n",
       "      <td>Friday</td>\n",
       "      <td>15:18:00</td>\n",
       "      <td>Evening Rush</td>\n",
       "    </tr>\n",
       "    <tr>\n",
       "      <th>346167</th>\n",
       "      <td>120230929</td>\n",
       "      <td>1</td>\n",
       "      <td>100386719</td>\n",
       "      <td>2023-09-29</td>\n",
       "      <td>50</td>\n",
       "      <td>9950</td>\n",
       "      <td>2530</td>\n",
       "      <td>354098</td>\n",
       "      <td>0</td>\n",
       "      <td>TO DOWNTOWN</td>\n",
       "      <td>...</td>\n",
       "      <td>1</td>\n",
       "      <td>0</td>\n",
       "      <td>0.0</td>\n",
       "      <td>0</td>\n",
       "      <td>36.883333</td>\n",
       "      <td>NaN</td>\n",
       "      <td>2023-09-29</td>\n",
       "      <td>Friday</td>\n",
       "      <td>15:20:00</td>\n",
       "      <td>Evening Rush</td>\n",
       "    </tr>\n",
       "    <tr>\n",
       "      <th>346168</th>\n",
       "      <td>120230929</td>\n",
       "      <td>1</td>\n",
       "      <td>100386720</td>\n",
       "      <td>2023-09-29</td>\n",
       "      <td>50</td>\n",
       "      <td>9950</td>\n",
       "      <td>2530</td>\n",
       "      <td>354098</td>\n",
       "      <td>0</td>\n",
       "      <td>TO DOWNTOWN</td>\n",
       "      <td>...</td>\n",
       "      <td>1</td>\n",
       "      <td>0</td>\n",
       "      <td>NaN</td>\n",
       "      <td>0</td>\n",
       "      <td>4.416666</td>\n",
       "      <td>NaN</td>\n",
       "      <td>2023-09-29</td>\n",
       "      <td>Friday</td>\n",
       "      <td>15:37:00</td>\n",
       "      <td>Evening Rush</td>\n",
       "    </tr>\n",
       "    <tr>\n",
       "      <th>346169</th>\n",
       "      <td>120230929</td>\n",
       "      <td>1</td>\n",
       "      <td>100386749</td>\n",
       "      <td>2023-09-29</td>\n",
       "      <td>56</td>\n",
       "      <td>9975</td>\n",
       "      <td>3120</td>\n",
       "      <td>354106</td>\n",
       "      <td>0</td>\n",
       "      <td>TO DOWNTOWN</td>\n",
       "      <td>...</td>\n",
       "      <td>0</td>\n",
       "      <td>0</td>\n",
       "      <td>0.0</td>\n",
       "      <td>0</td>\n",
       "      <td>10.433333</td>\n",
       "      <td>NaN</td>\n",
       "      <td>2023-09-29</td>\n",
       "      <td>Friday</td>\n",
       "      <td>15:20:00</td>\n",
       "      <td>Evening Rush</td>\n",
       "    </tr>\n",
       "    <tr>\n",
       "      <th>346170</th>\n",
       "      <td>120230929</td>\n",
       "      <td>1</td>\n",
       "      <td>100386750</td>\n",
       "      <td>2023-09-29</td>\n",
       "      <td>56</td>\n",
       "      <td>9975</td>\n",
       "      <td>3120</td>\n",
       "      <td>354106</td>\n",
       "      <td>0</td>\n",
       "      <td>TO DOWNTOWN</td>\n",
       "      <td>...</td>\n",
       "      <td>0</td>\n",
       "      <td>0</td>\n",
       "      <td>NaN</td>\n",
       "      <td>0</td>\n",
       "      <td>2.050000</td>\n",
       "      <td>NaN</td>\n",
       "      <td>2023-09-29</td>\n",
       "      <td>Friday</td>\n",
       "      <td>15:30:00</td>\n",
       "      <td>Evening Rush</td>\n",
       "    </tr>\n",
       "  </tbody>\n",
       "</table>\n",
       "<p>11427 rows × 34 columns</p>\n",
       "</div>"
      ],
      "text/plain": [
       "        CALENDAR_ID  SERVICE_ABBR  ADHERENCE_ID        DATE  ROUTE_ABBR  \\\n",
       "19447     120230804             1      99559411  2023-08-04          22   \n",
       "19448     120230804             1      99559412  2023-08-04          22   \n",
       "19449     120230804             1      99559413  2023-08-04          22   \n",
       "19450     120230804             1      99559414  2023-08-04          22   \n",
       "19451     120230804             1      99559415  2023-08-04          22   \n",
       "...             ...           ...           ...         ...         ...   \n",
       "346166    120230929             1     100386592  2023-09-29          50   \n",
       "346167    120230929             1     100386719  2023-09-29          50   \n",
       "346168    120230929             1     100386720  2023-09-29          50   \n",
       "346169    120230929             1     100386749  2023-09-29          56   \n",
       "346170    120230929             1     100386750  2023-09-29          56   \n",
       "\n",
       "        BLOCK_ABBR  OPERATOR  TRIP_ID  OVERLOAD_ID ROUTE_DIRECTION_NAME  ...  \\\n",
       "19447         2200       611   349954            0          TO DOWNTOWN  ...   \n",
       "19448         2200       611   349955            0        FROM DOWNTOWN  ...   \n",
       "19449         2200       611   349955            0        FROM DOWNTOWN  ...   \n",
       "19450         2200       611   349955            0        FROM DOWNTOWN  ...   \n",
       "19451         2200       611   349955            0        FROM DOWNTOWN  ...   \n",
       "...            ...       ...      ...          ...                  ...  ...   \n",
       "346166        9302      2423   354069            0          TO DOWNTOWN  ...   \n",
       "346167        9950      2530   354098            0          TO DOWNTOWN  ...   \n",
       "346168        9950      2530   354098            0          TO DOWNTOWN  ...   \n",
       "346169        9975      3120   354106            0          TO DOWNTOWN  ...   \n",
       "346170        9975      3120   354106            0          TO DOWNTOWN  ...   \n",
       "\n",
       "       ADJUSTED_ONTIME_COUNT  STOP_CANCELLED  PREV_SCHED_STOP_CANCELLED  \\\n",
       "19447                      1               0                        NaN   \n",
       "19448                      1               0                        0.0   \n",
       "19449                      1               0                        0.0   \n",
       "19450                      1               0                        0.0   \n",
       "19451                      1               0                        0.0   \n",
       "...                      ...             ...                        ...   \n",
       "346166                     0               0                        NaN   \n",
       "346167                     1               0                        0.0   \n",
       "346168                     1               0                        NaN   \n",
       "346169                     0               0                        0.0   \n",
       "346170                     0               0                        NaN   \n",
       "\n",
       "        IS_RELIEF  DWELL_IN_MINS SCHEDULED_LAYOVER_MINUTES     DATE_1     DAY  \\\n",
       "19447           0       0.000000                       NaN 2023-08-04  Friday   \n",
       "19448           0      14.266666                      10.0 2023-08-04  Friday   \n",
       "19449           0       0.000000                       NaN 2023-08-04  Friday   \n",
       "19450           0       0.000000                       NaN 2023-08-04  Friday   \n",
       "19451           0       0.000000                       NaN 2023-08-04  Friday   \n",
       "...           ...            ...                       ...        ...     ...   \n",
       "346166          0       3.183333                       NaN 2023-09-29  Friday   \n",
       "346167          0      36.883333                       NaN 2023-09-29  Friday   \n",
       "346168          0       4.416666                       NaN 2023-09-29  Friday   \n",
       "346169          0      10.433333                       NaN 2023-09-29  Friday   \n",
       "346170          0       2.050000                       NaN 2023-09-29  Friday   \n",
       "\n",
       "        SCHEDULED_TIME_1   time_of_day  \n",
       "19447           15:00:00  Evening Rush  \n",
       "19448           15:10:00  Evening Rush  \n",
       "19449           15:23:00  Evening Rush  \n",
       "19450           15:27:00  Evening Rush  \n",
       "19451           15:37:00  Evening Rush  \n",
       "...                  ...           ...  \n",
       "346166          15:18:00  Evening Rush  \n",
       "346167          15:20:00  Evening Rush  \n",
       "346168          15:37:00  Evening Rush  \n",
       "346169          15:20:00  Evening Rush  \n",
       "346170          15:30:00  Evening Rush  \n",
       "\n",
       "[11427 rows x 34 columns]"
      ]
     },
     "execution_count": 186,
     "metadata": {},
     "output_type": "execute_result"
    }
   ],
   "source": [
    "wego_friday_evening_rush1 = wego_friday_evening_rush.loc[wego_friday_evening_rush['time_of_day'] == 'Evening Rush']\n",
    "wego_friday_evening_rush1"
   ]
  },
  {
   "cell_type": "code",
   "execution_count": 187,
   "id": "04cfa4c6-6a93-4248-a34e-3f89d350b7cf",
   "metadata": {},
   "outputs": [
    {
     "data": {
      "text/plain": [
       "ADJUSTED_LATE_COUNT\n",
       "0    7878\n",
       "1    3549\n",
       "Name: count, dtype: int64"
      ]
     },
     "execution_count": 187,
     "metadata": {},
     "output_type": "execute_result"
    }
   ],
   "source": [
    "wego_friday_evening_rush1['ADJUSTED_LATE_COUNT'].value_counts()"
   ]
  },
  {
   "cell_type": "code",
   "execution_count": 188,
   "id": "a191e4f1-69de-4c95-a1e8-8d2d972f8bf5",
   "metadata": {},
   "outputs": [
    {
     "data": {
      "text/plain": [
       "31.058020477815703"
      ]
     },
     "execution_count": 188,
     "metadata": {},
     "output_type": "execute_result"
    }
   ],
   "source": [
    "(3549/11427)*100"
   ]
  },
  {
   "cell_type": "code",
   "execution_count": 189,
   "id": "1e71d401-2c83-4b6f-838b-361828b5855b",
   "metadata": {},
   "outputs": [
    {
     "data": {
      "text/html": [
       "<div>\n",
       "<style scoped>\n",
       "    .dataframe tbody tr th:only-of-type {\n",
       "        vertical-align: middle;\n",
       "    }\n",
       "\n",
       "    .dataframe tbody tr th {\n",
       "        vertical-align: top;\n",
       "    }\n",
       "\n",
       "    .dataframe thead th {\n",
       "        text-align: right;\n",
       "    }\n",
       "</style>\n",
       "<table border=\"1\" class=\"dataframe\">\n",
       "  <thead>\n",
       "    <tr style=\"text-align: right;\">\n",
       "      <th></th>\n",
       "      <th>CALENDAR_ID</th>\n",
       "      <th>SERVICE_ABBR</th>\n",
       "      <th>ADHERENCE_ID</th>\n",
       "      <th>DATE</th>\n",
       "      <th>ROUTE_ABBR</th>\n",
       "      <th>BLOCK_ABBR</th>\n",
       "      <th>OPERATOR</th>\n",
       "      <th>TRIP_ID</th>\n",
       "      <th>OVERLOAD_ID</th>\n",
       "      <th>ROUTE_DIRECTION_NAME</th>\n",
       "      <th>...</th>\n",
       "      <th>ADJUSTED_ONTIME_COUNT</th>\n",
       "      <th>STOP_CANCELLED</th>\n",
       "      <th>PREV_SCHED_STOP_CANCELLED</th>\n",
       "      <th>IS_RELIEF</th>\n",
       "      <th>DWELL_IN_MINS</th>\n",
       "      <th>SCHEDULED_LAYOVER_MINUTES</th>\n",
       "      <th>DATE_1</th>\n",
       "      <th>DAY</th>\n",
       "      <th>SCHEDULED_TIME_1</th>\n",
       "      <th>time_of_day</th>\n",
       "    </tr>\n",
       "  </thead>\n",
       "  <tbody>\n",
       "    <tr>\n",
       "      <th>33705</th>\n",
       "      <td>120230807</td>\n",
       "      <td>1</td>\n",
       "      <td>99619492</td>\n",
       "      <td>2023-08-07</td>\n",
       "      <td>22</td>\n",
       "      <td>2200</td>\n",
       "      <td>1040</td>\n",
       "      <td>349935</td>\n",
       "      <td>0</td>\n",
       "      <td>TO DOWNTOWN</td>\n",
       "      <td>...</td>\n",
       "      <td>1</td>\n",
       "      <td>0</td>\n",
       "      <td>0.0</td>\n",
       "      <td>0</td>\n",
       "      <td>0.000000</td>\n",
       "      <td>NaN</td>\n",
       "      <td>2023-08-07</td>\n",
       "      <td>Monday</td>\n",
       "      <td>04:42:00</td>\n",
       "      <td>Morning</td>\n",
       "    </tr>\n",
       "    <tr>\n",
       "      <th>33706</th>\n",
       "      <td>120230807</td>\n",
       "      <td>1</td>\n",
       "      <td>99619493</td>\n",
       "      <td>2023-08-07</td>\n",
       "      <td>22</td>\n",
       "      <td>2200</td>\n",
       "      <td>1040</td>\n",
       "      <td>349935</td>\n",
       "      <td>0</td>\n",
       "      <td>TO DOWNTOWN</td>\n",
       "      <td>...</td>\n",
       "      <td>1</td>\n",
       "      <td>0</td>\n",
       "      <td>0.0</td>\n",
       "      <td>0</td>\n",
       "      <td>0.000000</td>\n",
       "      <td>NaN</td>\n",
       "      <td>2023-08-07</td>\n",
       "      <td>Monday</td>\n",
       "      <td>04:46:00</td>\n",
       "      <td>Morning</td>\n",
       "    </tr>\n",
       "    <tr>\n",
       "      <th>33707</th>\n",
       "      <td>120230807</td>\n",
       "      <td>1</td>\n",
       "      <td>99619494</td>\n",
       "      <td>2023-08-07</td>\n",
       "      <td>22</td>\n",
       "      <td>2200</td>\n",
       "      <td>1040</td>\n",
       "      <td>349935</td>\n",
       "      <td>0</td>\n",
       "      <td>TO DOWNTOWN</td>\n",
       "      <td>...</td>\n",
       "      <td>1</td>\n",
       "      <td>0</td>\n",
       "      <td>0.0</td>\n",
       "      <td>0</td>\n",
       "      <td>0.000000</td>\n",
       "      <td>NaN</td>\n",
       "      <td>2023-08-07</td>\n",
       "      <td>Monday</td>\n",
       "      <td>04:54:00</td>\n",
       "      <td>Morning</td>\n",
       "    </tr>\n",
       "    <tr>\n",
       "      <th>33708</th>\n",
       "      <td>120230807</td>\n",
       "      <td>1</td>\n",
       "      <td>99619495</td>\n",
       "      <td>2023-08-07</td>\n",
       "      <td>22</td>\n",
       "      <td>2200</td>\n",
       "      <td>1040</td>\n",
       "      <td>349935</td>\n",
       "      <td>0</td>\n",
       "      <td>TO DOWNTOWN</td>\n",
       "      <td>...</td>\n",
       "      <td>1</td>\n",
       "      <td>0</td>\n",
       "      <td>NaN</td>\n",
       "      <td>0</td>\n",
       "      <td>0.000000</td>\n",
       "      <td>NaN</td>\n",
       "      <td>2023-08-07</td>\n",
       "      <td>Monday</td>\n",
       "      <td>05:10:00</td>\n",
       "      <td>Morning</td>\n",
       "    </tr>\n",
       "    <tr>\n",
       "      <th>33709</th>\n",
       "      <td>120230807</td>\n",
       "      <td>1</td>\n",
       "      <td>99619496</td>\n",
       "      <td>2023-08-07</td>\n",
       "      <td>22</td>\n",
       "      <td>2200</td>\n",
       "      <td>1040</td>\n",
       "      <td>349936</td>\n",
       "      <td>0</td>\n",
       "      <td>FROM DOWNTOWN</td>\n",
       "      <td>...</td>\n",
       "      <td>1</td>\n",
       "      <td>0</td>\n",
       "      <td>0.0</td>\n",
       "      <td>0</td>\n",
       "      <td>9.666666</td>\n",
       "      <td>5.0</td>\n",
       "      <td>2023-08-07</td>\n",
       "      <td>Monday</td>\n",
       "      <td>05:15:00</td>\n",
       "      <td>Morning</td>\n",
       "    </tr>\n",
       "    <tr>\n",
       "      <th>...</th>\n",
       "      <td>...</td>\n",
       "      <td>...</td>\n",
       "      <td>...</td>\n",
       "      <td>...</td>\n",
       "      <td>...</td>\n",
       "      <td>...</td>\n",
       "      <td>...</td>\n",
       "      <td>...</td>\n",
       "      <td>...</td>\n",
       "      <td>...</td>\n",
       "      <td>...</td>\n",
       "      <td>...</td>\n",
       "      <td>...</td>\n",
       "      <td>...</td>\n",
       "      <td>...</td>\n",
       "      <td>...</td>\n",
       "      <td>...</td>\n",
       "      <td>...</td>\n",
       "      <td>...</td>\n",
       "      <td>...</td>\n",
       "      <td>...</td>\n",
       "    </tr>\n",
       "    <tr>\n",
       "      <th>320119</th>\n",
       "      <td>120230925</td>\n",
       "      <td>1</td>\n",
       "      <td>100254836</td>\n",
       "      <td>2023-09-25</td>\n",
       "      <td>50</td>\n",
       "      <td>9302</td>\n",
       "      <td>2423</td>\n",
       "      <td>354069</td>\n",
       "      <td>0</td>\n",
       "      <td>TO DOWNTOWN</td>\n",
       "      <td>...</td>\n",
       "      <td>1</td>\n",
       "      <td>0</td>\n",
       "      <td>NaN</td>\n",
       "      <td>0</td>\n",
       "      <td>2.766666</td>\n",
       "      <td>NaN</td>\n",
       "      <td>2023-09-25</td>\n",
       "      <td>Monday</td>\n",
       "      <td>15:18:00</td>\n",
       "      <td>Evening Rush</td>\n",
       "    </tr>\n",
       "    <tr>\n",
       "      <th>320120</th>\n",
       "      <td>120230925</td>\n",
       "      <td>1</td>\n",
       "      <td>100254963</td>\n",
       "      <td>2023-09-25</td>\n",
       "      <td>50</td>\n",
       "      <td>9950</td>\n",
       "      <td>2497</td>\n",
       "      <td>354098</td>\n",
       "      <td>0</td>\n",
       "      <td>TO DOWNTOWN</td>\n",
       "      <td>...</td>\n",
       "      <td>1</td>\n",
       "      <td>0</td>\n",
       "      <td>0.0</td>\n",
       "      <td>0</td>\n",
       "      <td>38.233333</td>\n",
       "      <td>NaN</td>\n",
       "      <td>2023-09-25</td>\n",
       "      <td>Monday</td>\n",
       "      <td>15:20:00</td>\n",
       "      <td>Evening Rush</td>\n",
       "    </tr>\n",
       "    <tr>\n",
       "      <th>320121</th>\n",
       "      <td>120230925</td>\n",
       "      <td>1</td>\n",
       "      <td>100254964</td>\n",
       "      <td>2023-09-25</td>\n",
       "      <td>50</td>\n",
       "      <td>9950</td>\n",
       "      <td>2497</td>\n",
       "      <td>354098</td>\n",
       "      <td>0</td>\n",
       "      <td>TO DOWNTOWN</td>\n",
       "      <td>...</td>\n",
       "      <td>1</td>\n",
       "      <td>0</td>\n",
       "      <td>NaN</td>\n",
       "      <td>0</td>\n",
       "      <td>0.000000</td>\n",
       "      <td>NaN</td>\n",
       "      <td>2023-09-25</td>\n",
       "      <td>Monday</td>\n",
       "      <td>15:37:00</td>\n",
       "      <td>Evening Rush</td>\n",
       "    </tr>\n",
       "    <tr>\n",
       "      <th>320122</th>\n",
       "      <td>120230925</td>\n",
       "      <td>1</td>\n",
       "      <td>100254993</td>\n",
       "      <td>2023-09-25</td>\n",
       "      <td>56</td>\n",
       "      <td>9975</td>\n",
       "      <td>2560</td>\n",
       "      <td>354106</td>\n",
       "      <td>0</td>\n",
       "      <td>TO DOWNTOWN</td>\n",
       "      <td>...</td>\n",
       "      <td>1</td>\n",
       "      <td>0</td>\n",
       "      <td>0.0</td>\n",
       "      <td>0</td>\n",
       "      <td>56.316666</td>\n",
       "      <td>NaN</td>\n",
       "      <td>2023-09-25</td>\n",
       "      <td>Monday</td>\n",
       "      <td>15:20:00</td>\n",
       "      <td>Evening Rush</td>\n",
       "    </tr>\n",
       "    <tr>\n",
       "      <th>320123</th>\n",
       "      <td>120230925</td>\n",
       "      <td>1</td>\n",
       "      <td>100254994</td>\n",
       "      <td>2023-09-25</td>\n",
       "      <td>56</td>\n",
       "      <td>9975</td>\n",
       "      <td>2560</td>\n",
       "      <td>354106</td>\n",
       "      <td>0</td>\n",
       "      <td>TO DOWNTOWN</td>\n",
       "      <td>...</td>\n",
       "      <td>1</td>\n",
       "      <td>0</td>\n",
       "      <td>NaN</td>\n",
       "      <td>0</td>\n",
       "      <td>4.316666</td>\n",
       "      <td>NaN</td>\n",
       "      <td>2023-09-25</td>\n",
       "      <td>Monday</td>\n",
       "      <td>15:30:00</td>\n",
       "      <td>Evening Rush</td>\n",
       "    </tr>\n",
       "  </tbody>\n",
       "</table>\n",
       "<p>49116 rows × 34 columns</p>\n",
       "</div>"
      ],
      "text/plain": [
       "        CALENDAR_ID  SERVICE_ABBR  ADHERENCE_ID        DATE  ROUTE_ABBR  \\\n",
       "33705     120230807             1      99619492  2023-08-07          22   \n",
       "33706     120230807             1      99619493  2023-08-07          22   \n",
       "33707     120230807             1      99619494  2023-08-07          22   \n",
       "33708     120230807             1      99619495  2023-08-07          22   \n",
       "33709     120230807             1      99619496  2023-08-07          22   \n",
       "...             ...           ...           ...         ...         ...   \n",
       "320119    120230925             1     100254836  2023-09-25          50   \n",
       "320120    120230925             1     100254963  2023-09-25          50   \n",
       "320121    120230925             1     100254964  2023-09-25          50   \n",
       "320122    120230925             1     100254993  2023-09-25          56   \n",
       "320123    120230925             1     100254994  2023-09-25          56   \n",
       "\n",
       "        BLOCK_ABBR  OPERATOR  TRIP_ID  OVERLOAD_ID ROUTE_DIRECTION_NAME  ...  \\\n",
       "33705         2200      1040   349935            0          TO DOWNTOWN  ...   \n",
       "33706         2200      1040   349935            0          TO DOWNTOWN  ...   \n",
       "33707         2200      1040   349935            0          TO DOWNTOWN  ...   \n",
       "33708         2200      1040   349935            0          TO DOWNTOWN  ...   \n",
       "33709         2200      1040   349936            0        FROM DOWNTOWN  ...   \n",
       "...            ...       ...      ...          ...                  ...  ...   \n",
       "320119        9302      2423   354069            0          TO DOWNTOWN  ...   \n",
       "320120        9950      2497   354098            0          TO DOWNTOWN  ...   \n",
       "320121        9950      2497   354098            0          TO DOWNTOWN  ...   \n",
       "320122        9975      2560   354106            0          TO DOWNTOWN  ...   \n",
       "320123        9975      2560   354106            0          TO DOWNTOWN  ...   \n",
       "\n",
       "       ADJUSTED_ONTIME_COUNT  STOP_CANCELLED  PREV_SCHED_STOP_CANCELLED  \\\n",
       "33705                      1               0                        0.0   \n",
       "33706                      1               0                        0.0   \n",
       "33707                      1               0                        0.0   \n",
       "33708                      1               0                        NaN   \n",
       "33709                      1               0                        0.0   \n",
       "...                      ...             ...                        ...   \n",
       "320119                     1               0                        NaN   \n",
       "320120                     1               0                        0.0   \n",
       "320121                     1               0                        NaN   \n",
       "320122                     1               0                        0.0   \n",
       "320123                     1               0                        NaN   \n",
       "\n",
       "        IS_RELIEF  DWELL_IN_MINS SCHEDULED_LAYOVER_MINUTES     DATE_1     DAY  \\\n",
       "33705           0       0.000000                       NaN 2023-08-07  Monday   \n",
       "33706           0       0.000000                       NaN 2023-08-07  Monday   \n",
       "33707           0       0.000000                       NaN 2023-08-07  Monday   \n",
       "33708           0       0.000000                       NaN 2023-08-07  Monday   \n",
       "33709           0       9.666666                       5.0 2023-08-07  Monday   \n",
       "...           ...            ...                       ...        ...     ...   \n",
       "320119          0       2.766666                       NaN 2023-09-25  Monday   \n",
       "320120          0      38.233333                       NaN 2023-09-25  Monday   \n",
       "320121          0       0.000000                       NaN 2023-09-25  Monday   \n",
       "320122          0      56.316666                       NaN 2023-09-25  Monday   \n",
       "320123          0       4.316666                       NaN 2023-09-25  Monday   \n",
       "\n",
       "        SCHEDULED_TIME_1   time_of_day  \n",
       "33705           04:42:00       Morning  \n",
       "33706           04:46:00       Morning  \n",
       "33707           04:54:00       Morning  \n",
       "33708           05:10:00       Morning  \n",
       "33709           05:15:00       Morning  \n",
       "...                  ...           ...  \n",
       "320119          15:18:00  Evening Rush  \n",
       "320120          15:20:00  Evening Rush  \n",
       "320121          15:37:00  Evening Rush  \n",
       "320122          15:20:00  Evening Rush  \n",
       "320123          15:30:00  Evening Rush  \n",
       "\n",
       "[49116 rows x 34 columns]"
      ]
     },
     "execution_count": 189,
     "metadata": {},
     "output_type": "execute_result"
    }
   ],
   "source": [
    "wego_monday_morning = wego_df.loc[wego_df['DAY']== 'Monday']\n",
    "wego_monday_morning "
   ]
  },
  {
   "cell_type": "code",
   "execution_count": 190,
   "id": "fe68aaf0-8e84-4cf3-bdf7-c6f1550a398e",
   "metadata": {},
   "outputs": [
    {
     "data": {
      "text/html": [
       "<div>\n",
       "<style scoped>\n",
       "    .dataframe tbody tr th:only-of-type {\n",
       "        vertical-align: middle;\n",
       "    }\n",
       "\n",
       "    .dataframe tbody tr th {\n",
       "        vertical-align: top;\n",
       "    }\n",
       "\n",
       "    .dataframe thead th {\n",
       "        text-align: right;\n",
       "    }\n",
       "</style>\n",
       "<table border=\"1\" class=\"dataframe\">\n",
       "  <thead>\n",
       "    <tr style=\"text-align: right;\">\n",
       "      <th></th>\n",
       "      <th>CALENDAR_ID</th>\n",
       "      <th>SERVICE_ABBR</th>\n",
       "      <th>ADHERENCE_ID</th>\n",
       "      <th>DATE</th>\n",
       "      <th>ROUTE_ABBR</th>\n",
       "      <th>BLOCK_ABBR</th>\n",
       "      <th>OPERATOR</th>\n",
       "      <th>TRIP_ID</th>\n",
       "      <th>OVERLOAD_ID</th>\n",
       "      <th>ROUTE_DIRECTION_NAME</th>\n",
       "      <th>...</th>\n",
       "      <th>ADJUSTED_ONTIME_COUNT</th>\n",
       "      <th>STOP_CANCELLED</th>\n",
       "      <th>PREV_SCHED_STOP_CANCELLED</th>\n",
       "      <th>IS_RELIEF</th>\n",
       "      <th>DWELL_IN_MINS</th>\n",
       "      <th>SCHEDULED_LAYOVER_MINUTES</th>\n",
       "      <th>DATE_1</th>\n",
       "      <th>DAY</th>\n",
       "      <th>SCHEDULED_TIME_1</th>\n",
       "      <th>time_of_day</th>\n",
       "    </tr>\n",
       "  </thead>\n",
       "  <tbody>\n",
       "    <tr>\n",
       "      <th>33705</th>\n",
       "      <td>120230807</td>\n",
       "      <td>1</td>\n",
       "      <td>99619492</td>\n",
       "      <td>2023-08-07</td>\n",
       "      <td>22</td>\n",
       "      <td>2200</td>\n",
       "      <td>1040</td>\n",
       "      <td>349935</td>\n",
       "      <td>0</td>\n",
       "      <td>TO DOWNTOWN</td>\n",
       "      <td>...</td>\n",
       "      <td>1</td>\n",
       "      <td>0</td>\n",
       "      <td>0.0</td>\n",
       "      <td>0</td>\n",
       "      <td>0.000000</td>\n",
       "      <td>NaN</td>\n",
       "      <td>2023-08-07</td>\n",
       "      <td>Monday</td>\n",
       "      <td>04:42:00</td>\n",
       "      <td>Morning</td>\n",
       "    </tr>\n",
       "    <tr>\n",
       "      <th>33706</th>\n",
       "      <td>120230807</td>\n",
       "      <td>1</td>\n",
       "      <td>99619493</td>\n",
       "      <td>2023-08-07</td>\n",
       "      <td>22</td>\n",
       "      <td>2200</td>\n",
       "      <td>1040</td>\n",
       "      <td>349935</td>\n",
       "      <td>0</td>\n",
       "      <td>TO DOWNTOWN</td>\n",
       "      <td>...</td>\n",
       "      <td>1</td>\n",
       "      <td>0</td>\n",
       "      <td>0.0</td>\n",
       "      <td>0</td>\n",
       "      <td>0.000000</td>\n",
       "      <td>NaN</td>\n",
       "      <td>2023-08-07</td>\n",
       "      <td>Monday</td>\n",
       "      <td>04:46:00</td>\n",
       "      <td>Morning</td>\n",
       "    </tr>\n",
       "    <tr>\n",
       "      <th>33707</th>\n",
       "      <td>120230807</td>\n",
       "      <td>1</td>\n",
       "      <td>99619494</td>\n",
       "      <td>2023-08-07</td>\n",
       "      <td>22</td>\n",
       "      <td>2200</td>\n",
       "      <td>1040</td>\n",
       "      <td>349935</td>\n",
       "      <td>0</td>\n",
       "      <td>TO DOWNTOWN</td>\n",
       "      <td>...</td>\n",
       "      <td>1</td>\n",
       "      <td>0</td>\n",
       "      <td>0.0</td>\n",
       "      <td>0</td>\n",
       "      <td>0.000000</td>\n",
       "      <td>NaN</td>\n",
       "      <td>2023-08-07</td>\n",
       "      <td>Monday</td>\n",
       "      <td>04:54:00</td>\n",
       "      <td>Morning</td>\n",
       "    </tr>\n",
       "    <tr>\n",
       "      <th>33708</th>\n",
       "      <td>120230807</td>\n",
       "      <td>1</td>\n",
       "      <td>99619495</td>\n",
       "      <td>2023-08-07</td>\n",
       "      <td>22</td>\n",
       "      <td>2200</td>\n",
       "      <td>1040</td>\n",
       "      <td>349935</td>\n",
       "      <td>0</td>\n",
       "      <td>TO DOWNTOWN</td>\n",
       "      <td>...</td>\n",
       "      <td>1</td>\n",
       "      <td>0</td>\n",
       "      <td>NaN</td>\n",
       "      <td>0</td>\n",
       "      <td>0.000000</td>\n",
       "      <td>NaN</td>\n",
       "      <td>2023-08-07</td>\n",
       "      <td>Monday</td>\n",
       "      <td>05:10:00</td>\n",
       "      <td>Morning</td>\n",
       "    </tr>\n",
       "    <tr>\n",
       "      <th>33709</th>\n",
       "      <td>120230807</td>\n",
       "      <td>1</td>\n",
       "      <td>99619496</td>\n",
       "      <td>2023-08-07</td>\n",
       "      <td>22</td>\n",
       "      <td>2200</td>\n",
       "      <td>1040</td>\n",
       "      <td>349936</td>\n",
       "      <td>0</td>\n",
       "      <td>FROM DOWNTOWN</td>\n",
       "      <td>...</td>\n",
       "      <td>1</td>\n",
       "      <td>0</td>\n",
       "      <td>0.0</td>\n",
       "      <td>0</td>\n",
       "      <td>9.666666</td>\n",
       "      <td>5.0</td>\n",
       "      <td>2023-08-07</td>\n",
       "      <td>Monday</td>\n",
       "      <td>05:15:00</td>\n",
       "      <td>Morning</td>\n",
       "    </tr>\n",
       "    <tr>\n",
       "      <th>...</th>\n",
       "      <td>...</td>\n",
       "      <td>...</td>\n",
       "      <td>...</td>\n",
       "      <td>...</td>\n",
       "      <td>...</td>\n",
       "      <td>...</td>\n",
       "      <td>...</td>\n",
       "      <td>...</td>\n",
       "      <td>...</td>\n",
       "      <td>...</td>\n",
       "      <td>...</td>\n",
       "      <td>...</td>\n",
       "      <td>...</td>\n",
       "      <td>...</td>\n",
       "      <td>...</td>\n",
       "      <td>...</td>\n",
       "      <td>...</td>\n",
       "      <td>...</td>\n",
       "      <td>...</td>\n",
       "      <td>...</td>\n",
       "      <td>...</td>\n",
       "    </tr>\n",
       "    <tr>\n",
       "      <th>319789</th>\n",
       "      <td>120230925</td>\n",
       "      <td>1</td>\n",
       "      <td>100252654</td>\n",
       "      <td>2023-09-25</td>\n",
       "      <td>7</td>\n",
       "      <td>700</td>\n",
       "      <td>1202</td>\n",
       "      <td>353253</td>\n",
       "      <td>0</td>\n",
       "      <td>TO DOWNTOWN</td>\n",
       "      <td>...</td>\n",
       "      <td>1</td>\n",
       "      <td>0</td>\n",
       "      <td>0.0</td>\n",
       "      <td>0</td>\n",
       "      <td>10.250000</td>\n",
       "      <td>6.0</td>\n",
       "      <td>2023-09-25</td>\n",
       "      <td>Monday</td>\n",
       "      <td>05:46:00</td>\n",
       "      <td>Morning</td>\n",
       "    </tr>\n",
       "    <tr>\n",
       "      <th>319790</th>\n",
       "      <td>120230925</td>\n",
       "      <td>1</td>\n",
       "      <td>100252655</td>\n",
       "      <td>2023-09-25</td>\n",
       "      <td>7</td>\n",
       "      <td>700</td>\n",
       "      <td>1202</td>\n",
       "      <td>353253</td>\n",
       "      <td>0</td>\n",
       "      <td>TO DOWNTOWN</td>\n",
       "      <td>...</td>\n",
       "      <td>1</td>\n",
       "      <td>0</td>\n",
       "      <td>0.0</td>\n",
       "      <td>0</td>\n",
       "      <td>0.000000</td>\n",
       "      <td>NaN</td>\n",
       "      <td>2023-09-25</td>\n",
       "      <td>Monday</td>\n",
       "      <td>05:54:00</td>\n",
       "      <td>Morning</td>\n",
       "    </tr>\n",
       "    <tr>\n",
       "      <th>319843</th>\n",
       "      <td>120230925</td>\n",
       "      <td>1</td>\n",
       "      <td>100252812</td>\n",
       "      <td>2023-09-25</td>\n",
       "      <td>7</td>\n",
       "      <td>701</td>\n",
       "      <td>341</td>\n",
       "      <td>353345</td>\n",
       "      <td>0</td>\n",
       "      <td>FROM DOWNTOWN</td>\n",
       "      <td>...</td>\n",
       "      <td>0</td>\n",
       "      <td>0</td>\n",
       "      <td>0.0</td>\n",
       "      <td>0</td>\n",
       "      <td>8.550000</td>\n",
       "      <td>NaN</td>\n",
       "      <td>2023-09-25</td>\n",
       "      <td>Monday</td>\n",
       "      <td>05:40:00</td>\n",
       "      <td>Morning</td>\n",
       "    </tr>\n",
       "    <tr>\n",
       "      <th>319844</th>\n",
       "      <td>120230925</td>\n",
       "      <td>1</td>\n",
       "      <td>100252813</td>\n",
       "      <td>2023-09-25</td>\n",
       "      <td>7</td>\n",
       "      <td>701</td>\n",
       "      <td>341</td>\n",
       "      <td>353345</td>\n",
       "      <td>0</td>\n",
       "      <td>FROM DOWNTOWN</td>\n",
       "      <td>...</td>\n",
       "      <td>1</td>\n",
       "      <td>0</td>\n",
       "      <td>0.0</td>\n",
       "      <td>0</td>\n",
       "      <td>0.000000</td>\n",
       "      <td>NaN</td>\n",
       "      <td>2023-09-25</td>\n",
       "      <td>Monday</td>\n",
       "      <td>05:53:00</td>\n",
       "      <td>Morning</td>\n",
       "    </tr>\n",
       "    <tr>\n",
       "      <th>319912</th>\n",
       "      <td>120230925</td>\n",
       "      <td>1</td>\n",
       "      <td>100252883</td>\n",
       "      <td>2023-09-25</td>\n",
       "      <td>7</td>\n",
       "      <td>702</td>\n",
       "      <td>2623</td>\n",
       "      <td>353422</td>\n",
       "      <td>0</td>\n",
       "      <td>TO DOWNTOWN</td>\n",
       "      <td>...</td>\n",
       "      <td>1</td>\n",
       "      <td>0</td>\n",
       "      <td>0.0</td>\n",
       "      <td>0</td>\n",
       "      <td>30.200000</td>\n",
       "      <td>NaN</td>\n",
       "      <td>2023-09-25</td>\n",
       "      <td>Monday</td>\n",
       "      <td>05:56:00</td>\n",
       "      <td>Morning</td>\n",
       "    </tr>\n",
       "  </tbody>\n",
       "</table>\n",
       "<p>1758 rows × 34 columns</p>\n",
       "</div>"
      ],
      "text/plain": [
       "        CALENDAR_ID  SERVICE_ABBR  ADHERENCE_ID        DATE  ROUTE_ABBR  \\\n",
       "33705     120230807             1      99619492  2023-08-07          22   \n",
       "33706     120230807             1      99619493  2023-08-07          22   \n",
       "33707     120230807             1      99619494  2023-08-07          22   \n",
       "33708     120230807             1      99619495  2023-08-07          22   \n",
       "33709     120230807             1      99619496  2023-08-07          22   \n",
       "...             ...           ...           ...         ...         ...   \n",
       "319789    120230925             1     100252654  2023-09-25           7   \n",
       "319790    120230925             1     100252655  2023-09-25           7   \n",
       "319843    120230925             1     100252812  2023-09-25           7   \n",
       "319844    120230925             1     100252813  2023-09-25           7   \n",
       "319912    120230925             1     100252883  2023-09-25           7   \n",
       "\n",
       "        BLOCK_ABBR  OPERATOR  TRIP_ID  OVERLOAD_ID ROUTE_DIRECTION_NAME  ...  \\\n",
       "33705         2200      1040   349935            0          TO DOWNTOWN  ...   \n",
       "33706         2200      1040   349935            0          TO DOWNTOWN  ...   \n",
       "33707         2200      1040   349935            0          TO DOWNTOWN  ...   \n",
       "33708         2200      1040   349935            0          TO DOWNTOWN  ...   \n",
       "33709         2200      1040   349936            0        FROM DOWNTOWN  ...   \n",
       "...            ...       ...      ...          ...                  ...  ...   \n",
       "319789         700      1202   353253            0          TO DOWNTOWN  ...   \n",
       "319790         700      1202   353253            0          TO DOWNTOWN  ...   \n",
       "319843         701       341   353345            0        FROM DOWNTOWN  ...   \n",
       "319844         701       341   353345            0        FROM DOWNTOWN  ...   \n",
       "319912         702      2623   353422            0          TO DOWNTOWN  ...   \n",
       "\n",
       "       ADJUSTED_ONTIME_COUNT  STOP_CANCELLED  PREV_SCHED_STOP_CANCELLED  \\\n",
       "33705                      1               0                        0.0   \n",
       "33706                      1               0                        0.0   \n",
       "33707                      1               0                        0.0   \n",
       "33708                      1               0                        NaN   \n",
       "33709                      1               0                        0.0   \n",
       "...                      ...             ...                        ...   \n",
       "319789                     1               0                        0.0   \n",
       "319790                     1               0                        0.0   \n",
       "319843                     0               0                        0.0   \n",
       "319844                     1               0                        0.0   \n",
       "319912                     1               0                        0.0   \n",
       "\n",
       "        IS_RELIEF  DWELL_IN_MINS SCHEDULED_LAYOVER_MINUTES     DATE_1     DAY  \\\n",
       "33705           0       0.000000                       NaN 2023-08-07  Monday   \n",
       "33706           0       0.000000                       NaN 2023-08-07  Monday   \n",
       "33707           0       0.000000                       NaN 2023-08-07  Monday   \n",
       "33708           0       0.000000                       NaN 2023-08-07  Monday   \n",
       "33709           0       9.666666                       5.0 2023-08-07  Monday   \n",
       "...           ...            ...                       ...        ...     ...   \n",
       "319789          0      10.250000                       6.0 2023-09-25  Monday   \n",
       "319790          0       0.000000                       NaN 2023-09-25  Monday   \n",
       "319843          0       8.550000                       NaN 2023-09-25  Monday   \n",
       "319844          0       0.000000                       NaN 2023-09-25  Monday   \n",
       "319912          0      30.200000                       NaN 2023-09-25  Monday   \n",
       "\n",
       "        SCHEDULED_TIME_1  time_of_day  \n",
       "33705           04:42:00      Morning  \n",
       "33706           04:46:00      Morning  \n",
       "33707           04:54:00      Morning  \n",
       "33708           05:10:00      Morning  \n",
       "33709           05:15:00      Morning  \n",
       "...                  ...          ...  \n",
       "319789          05:46:00      Morning  \n",
       "319790          05:54:00      Morning  \n",
       "319843          05:40:00      Morning  \n",
       "319844          05:53:00      Morning  \n",
       "319912          05:56:00      Morning  \n",
       "\n",
       "[1758 rows x 34 columns]"
      ]
     },
     "execution_count": 190,
     "metadata": {},
     "output_type": "execute_result"
    }
   ],
   "source": [
    "wego_monday_morning1 = wego_monday_morning.loc[wego_monday_morning['time_of_day'] == 'Morning']\n",
    "wego_monday_morning1 "
   ]
  },
  {
   "cell_type": "code",
   "execution_count": 191,
   "id": "9172ba02-cc78-4c58-b26a-75c8464fb480",
   "metadata": {},
   "outputs": [
    {
     "data": {
      "text/plain": [
       "ADJUSTED_EARLY_COUNT\n",
       "0    1685\n",
       "1      73\n",
       "Name: count, dtype: int64"
      ]
     },
     "execution_count": 191,
     "metadata": {},
     "output_type": "execute_result"
    }
   ],
   "source": [
    "wego_monday_morning1['ADJUSTED_EARLY_COUNT'].value_counts()"
   ]
  },
  {
   "cell_type": "code",
   "execution_count": 192,
   "id": "d851e1d1-e757-40f8-892a-3e2a549b05d2",
   "metadata": {},
   "outputs": [
    {
     "data": {
      "text/plain": [
       "4.152445961319681"
      ]
     },
     "execution_count": 192,
     "metadata": {},
     "output_type": "execute_result"
    }
   ],
   "source": [
    "(73/1758)*100"
   ]
  },
  {
   "cell_type": "code",
   "execution_count": 193,
   "id": "2e416c08-c188-42e6-9197-1dc15976f317",
   "metadata": {},
   "outputs": [
    {
     "data": {
      "text/html": [
       "<div>\n",
       "<style scoped>\n",
       "    .dataframe tbody tr th:only-of-type {\n",
       "        vertical-align: middle;\n",
       "    }\n",
       "\n",
       "    .dataframe tbody tr th {\n",
       "        vertical-align: top;\n",
       "    }\n",
       "\n",
       "    .dataframe thead th {\n",
       "        text-align: right;\n",
       "    }\n",
       "</style>\n",
       "<table border=\"1\" class=\"dataframe\">\n",
       "  <thead>\n",
       "    <tr style=\"text-align: right;\">\n",
       "      <th></th>\n",
       "      <th>CALENDAR_ID</th>\n",
       "      <th>SERVICE_ABBR</th>\n",
       "      <th>ADHERENCE_ID</th>\n",
       "      <th>DATE</th>\n",
       "      <th>ROUTE_ABBR</th>\n",
       "      <th>BLOCK_ABBR</th>\n",
       "      <th>OPERATOR</th>\n",
       "      <th>TRIP_ID</th>\n",
       "      <th>OVERLOAD_ID</th>\n",
       "      <th>ROUTE_DIRECTION_NAME</th>\n",
       "      <th>...</th>\n",
       "      <th>ADJUSTED_ONTIME_COUNT</th>\n",
       "      <th>STOP_CANCELLED</th>\n",
       "      <th>PREV_SCHED_STOP_CANCELLED</th>\n",
       "      <th>IS_RELIEF</th>\n",
       "      <th>DWELL_IN_MINS</th>\n",
       "      <th>SCHEDULED_LAYOVER_MINUTES</th>\n",
       "      <th>DATE_1</th>\n",
       "      <th>DAY</th>\n",
       "      <th>SCHEDULED_TIME_1</th>\n",
       "      <th>time_of_day</th>\n",
       "    </tr>\n",
       "  </thead>\n",
       "  <tbody>\n",
       "    <tr>\n",
       "      <th>119</th>\n",
       "      <td>120230801</td>\n",
       "      <td>1</td>\n",
       "      <td>99458009</td>\n",
       "      <td>2023-08-01</td>\n",
       "      <td>22</td>\n",
       "      <td>2200</td>\n",
       "      <td>2689</td>\n",
       "      <td>345139</td>\n",
       "      <td>0</td>\n",
       "      <td>TO DOWNTOWN</td>\n",
       "      <td>...</td>\n",
       "      <td>1</td>\n",
       "      <td>0</td>\n",
       "      <td>NaN</td>\n",
       "      <td>0</td>\n",
       "      <td>0.000000</td>\n",
       "      <td>NaN</td>\n",
       "      <td>2023-08-01</td>\n",
       "      <td>Tuesday</td>\n",
       "      <td>00:08:00</td>\n",
       "      <td>Early Morning</td>\n",
       "    </tr>\n",
       "    <tr>\n",
       "      <th>120</th>\n",
       "      <td>120230801</td>\n",
       "      <td>1</td>\n",
       "      <td>99458010</td>\n",
       "      <td>2023-08-01</td>\n",
       "      <td>22</td>\n",
       "      <td>2200</td>\n",
       "      <td>2689</td>\n",
       "      <td>345140</td>\n",
       "      <td>0</td>\n",
       "      <td>FROM DOWNTOWN</td>\n",
       "      <td>...</td>\n",
       "      <td>1</td>\n",
       "      <td>0</td>\n",
       "      <td>0.0</td>\n",
       "      <td>0</td>\n",
       "      <td>13.883333</td>\n",
       "      <td>NaN</td>\n",
       "      <td>2023-08-01</td>\n",
       "      <td>Tuesday</td>\n",
       "      <td>00:15:00</td>\n",
       "      <td>Early Morning</td>\n",
       "    </tr>\n",
       "    <tr>\n",
       "      <th>121</th>\n",
       "      <td>120230801</td>\n",
       "      <td>1</td>\n",
       "      <td>99458011</td>\n",
       "      <td>2023-08-01</td>\n",
       "      <td>22</td>\n",
       "      <td>2200</td>\n",
       "      <td>2689</td>\n",
       "      <td>345140</td>\n",
       "      <td>0</td>\n",
       "      <td>FROM DOWNTOWN</td>\n",
       "      <td>...</td>\n",
       "      <td>1</td>\n",
       "      <td>0</td>\n",
       "      <td>0.0</td>\n",
       "      <td>0</td>\n",
       "      <td>0.000000</td>\n",
       "      <td>NaN</td>\n",
       "      <td>2023-08-01</td>\n",
       "      <td>Tuesday</td>\n",
       "      <td>00:26:00</td>\n",
       "      <td>Early Morning</td>\n",
       "    </tr>\n",
       "    <tr>\n",
       "      <th>122</th>\n",
       "      <td>120230801</td>\n",
       "      <td>1</td>\n",
       "      <td>99458012</td>\n",
       "      <td>2023-08-01</td>\n",
       "      <td>22</td>\n",
       "      <td>2200</td>\n",
       "      <td>2689</td>\n",
       "      <td>345140</td>\n",
       "      <td>0</td>\n",
       "      <td>FROM DOWNTOWN</td>\n",
       "      <td>...</td>\n",
       "      <td>1</td>\n",
       "      <td>0</td>\n",
       "      <td>0.0</td>\n",
       "      <td>0</td>\n",
       "      <td>0.000000</td>\n",
       "      <td>NaN</td>\n",
       "      <td>2023-08-01</td>\n",
       "      <td>Tuesday</td>\n",
       "      <td>00:30:00</td>\n",
       "      <td>Early Morning</td>\n",
       "    </tr>\n",
       "    <tr>\n",
       "      <th>123</th>\n",
       "      <td>120230801</td>\n",
       "      <td>1</td>\n",
       "      <td>99458013</td>\n",
       "      <td>2023-08-01</td>\n",
       "      <td>22</td>\n",
       "      <td>2200</td>\n",
       "      <td>2689</td>\n",
       "      <td>345140</td>\n",
       "      <td>0</td>\n",
       "      <td>FROM DOWNTOWN</td>\n",
       "      <td>...</td>\n",
       "      <td>1</td>\n",
       "      <td>0</td>\n",
       "      <td>NaN</td>\n",
       "      <td>0</td>\n",
       "      <td>0.000000</td>\n",
       "      <td>NaN</td>\n",
       "      <td>2023-08-01</td>\n",
       "      <td>Tuesday</td>\n",
       "      <td>00:37:00</td>\n",
       "      <td>Early Morning</td>\n",
       "    </tr>\n",
       "    <tr>\n",
       "      <th>...</th>\n",
       "      <td>...</td>\n",
       "      <td>...</td>\n",
       "      <td>...</td>\n",
       "      <td>...</td>\n",
       "      <td>...</td>\n",
       "      <td>...</td>\n",
       "      <td>...</td>\n",
       "      <td>...</td>\n",
       "      <td>...</td>\n",
       "      <td>...</td>\n",
       "      <td>...</td>\n",
       "      <td>...</td>\n",
       "      <td>...</td>\n",
       "      <td>...</td>\n",
       "      <td>...</td>\n",
       "      <td>...</td>\n",
       "      <td>...</td>\n",
       "      <td>...</td>\n",
       "      <td>...</td>\n",
       "      <td>...</td>\n",
       "      <td>...</td>\n",
       "    </tr>\n",
       "    <tr>\n",
       "      <th>349725</th>\n",
       "      <td>120230930</td>\n",
       "      <td>2</td>\n",
       "      <td>100405797</td>\n",
       "      <td>2023-09-30</td>\n",
       "      <td>56</td>\n",
       "      <td>5601</td>\n",
       "      <td>2399</td>\n",
       "      <td>352818</td>\n",
       "      <td>0</td>\n",
       "      <td>FROM DOWNTOWN</td>\n",
       "      <td>...</td>\n",
       "      <td>1</td>\n",
       "      <td>0</td>\n",
       "      <td>NaN</td>\n",
       "      <td>0</td>\n",
       "      <td>0.000000</td>\n",
       "      <td>NaN</td>\n",
       "      <td>2023-09-30</td>\n",
       "      <td>Saturday</td>\n",
       "      <td>00:51:00</td>\n",
       "      <td>Early Morning</td>\n",
       "    </tr>\n",
       "    <tr>\n",
       "      <th>350253</th>\n",
       "      <td>120230930</td>\n",
       "      <td>2</td>\n",
       "      <td>100406537</td>\n",
       "      <td>2023-09-30</td>\n",
       "      <td>7</td>\n",
       "      <td>701</td>\n",
       "      <td>2531</td>\n",
       "      <td>353394</td>\n",
       "      <td>0</td>\n",
       "      <td>TO DOWNTOWN</td>\n",
       "      <td>...</td>\n",
       "      <td>0</td>\n",
       "      <td>0</td>\n",
       "      <td>NaN</td>\n",
       "      <td>0</td>\n",
       "      <td>0.000000</td>\n",
       "      <td>NaN</td>\n",
       "      <td>2023-09-30</td>\n",
       "      <td>Saturday</td>\n",
       "      <td>00:08:00</td>\n",
       "      <td>Early Morning</td>\n",
       "    </tr>\n",
       "    <tr>\n",
       "      <th>350254</th>\n",
       "      <td>120230930</td>\n",
       "      <td>2</td>\n",
       "      <td>100406538</td>\n",
       "      <td>2023-09-30</td>\n",
       "      <td>7</td>\n",
       "      <td>701</td>\n",
       "      <td>2531</td>\n",
       "      <td>353395</td>\n",
       "      <td>0</td>\n",
       "      <td>FROM DOWNTOWN</td>\n",
       "      <td>...</td>\n",
       "      <td>0</td>\n",
       "      <td>0</td>\n",
       "      <td>0.0</td>\n",
       "      <td>0</td>\n",
       "      <td>0.000000</td>\n",
       "      <td>NaN</td>\n",
       "      <td>2023-09-30</td>\n",
       "      <td>Saturday</td>\n",
       "      <td>00:15:00</td>\n",
       "      <td>Early Morning</td>\n",
       "    </tr>\n",
       "    <tr>\n",
       "      <th>350255</th>\n",
       "      <td>120230930</td>\n",
       "      <td>2</td>\n",
       "      <td>100406539</td>\n",
       "      <td>2023-09-30</td>\n",
       "      <td>7</td>\n",
       "      <td>701</td>\n",
       "      <td>2531</td>\n",
       "      <td>353395</td>\n",
       "      <td>0</td>\n",
       "      <td>FROM DOWNTOWN</td>\n",
       "      <td>...</td>\n",
       "      <td>0</td>\n",
       "      <td>0</td>\n",
       "      <td>0.0</td>\n",
       "      <td>0</td>\n",
       "      <td>0.000000</td>\n",
       "      <td>NaN</td>\n",
       "      <td>2023-09-30</td>\n",
       "      <td>Saturday</td>\n",
       "      <td>00:29:00</td>\n",
       "      <td>Early Morning</td>\n",
       "    </tr>\n",
       "    <tr>\n",
       "      <th>350256</th>\n",
       "      <td>120230930</td>\n",
       "      <td>2</td>\n",
       "      <td>100406540</td>\n",
       "      <td>2023-09-30</td>\n",
       "      <td>7</td>\n",
       "      <td>701</td>\n",
       "      <td>2531</td>\n",
       "      <td>353395</td>\n",
       "      <td>0</td>\n",
       "      <td>FROM DOWNTOWN</td>\n",
       "      <td>...</td>\n",
       "      <td>0</td>\n",
       "      <td>0</td>\n",
       "      <td>NaN</td>\n",
       "      <td>0</td>\n",
       "      <td>4.166666</td>\n",
       "      <td>NaN</td>\n",
       "      <td>2023-09-30</td>\n",
       "      <td>Saturday</td>\n",
       "      <td>00:41:00</td>\n",
       "      <td>Early Morning</td>\n",
       "    </tr>\n",
       "  </tbody>\n",
       "</table>\n",
       "<p>4344 rows × 34 columns</p>\n",
       "</div>"
      ],
      "text/plain": [
       "        CALENDAR_ID  SERVICE_ABBR  ADHERENCE_ID        DATE  ROUTE_ABBR  \\\n",
       "119       120230801             1      99458009  2023-08-01          22   \n",
       "120       120230801             1      99458010  2023-08-01          22   \n",
       "121       120230801             1      99458011  2023-08-01          22   \n",
       "122       120230801             1      99458012  2023-08-01          22   \n",
       "123       120230801             1      99458013  2023-08-01          22   \n",
       "...             ...           ...           ...         ...         ...   \n",
       "349725    120230930             2     100405797  2023-09-30          56   \n",
       "350253    120230930             2     100406537  2023-09-30           7   \n",
       "350254    120230930             2     100406538  2023-09-30           7   \n",
       "350255    120230930             2     100406539  2023-09-30           7   \n",
       "350256    120230930             2     100406540  2023-09-30           7   \n",
       "\n",
       "        BLOCK_ABBR  OPERATOR  TRIP_ID  OVERLOAD_ID ROUTE_DIRECTION_NAME  ...  \\\n",
       "119           2200      2689   345139            0          TO DOWNTOWN  ...   \n",
       "120           2200      2689   345140            0        FROM DOWNTOWN  ...   \n",
       "121           2200      2689   345140            0        FROM DOWNTOWN  ...   \n",
       "122           2200      2689   345140            0        FROM DOWNTOWN  ...   \n",
       "123           2200      2689   345140            0        FROM DOWNTOWN  ...   \n",
       "...            ...       ...      ...          ...                  ...  ...   \n",
       "349725        5601      2399   352818            0        FROM DOWNTOWN  ...   \n",
       "350253         701      2531   353394            0          TO DOWNTOWN  ...   \n",
       "350254         701      2531   353395            0        FROM DOWNTOWN  ...   \n",
       "350255         701      2531   353395            0        FROM DOWNTOWN  ...   \n",
       "350256         701      2531   353395            0        FROM DOWNTOWN  ...   \n",
       "\n",
       "       ADJUSTED_ONTIME_COUNT  STOP_CANCELLED  PREV_SCHED_STOP_CANCELLED  \\\n",
       "119                        1               0                        NaN   \n",
       "120                        1               0                        0.0   \n",
       "121                        1               0                        0.0   \n",
       "122                        1               0                        0.0   \n",
       "123                        1               0                        NaN   \n",
       "...                      ...             ...                        ...   \n",
       "349725                     1               0                        NaN   \n",
       "350253                     0               0                        NaN   \n",
       "350254                     0               0                        0.0   \n",
       "350255                     0               0                        0.0   \n",
       "350256                     0               0                        NaN   \n",
       "\n",
       "        IS_RELIEF  DWELL_IN_MINS SCHEDULED_LAYOVER_MINUTES     DATE_1  \\\n",
       "119             0       0.000000                       NaN 2023-08-01   \n",
       "120             0      13.883333                       NaN 2023-08-01   \n",
       "121             0       0.000000                       NaN 2023-08-01   \n",
       "122             0       0.000000                       NaN 2023-08-01   \n",
       "123             0       0.000000                       NaN 2023-08-01   \n",
       "...           ...            ...                       ...        ...   \n",
       "349725          0       0.000000                       NaN 2023-09-30   \n",
       "350253          0       0.000000                       NaN 2023-09-30   \n",
       "350254          0       0.000000                       NaN 2023-09-30   \n",
       "350255          0       0.000000                       NaN 2023-09-30   \n",
       "350256          0       4.166666                       NaN 2023-09-30   \n",
       "\n",
       "             DAY  SCHEDULED_TIME_1    time_of_day  \n",
       "119      Tuesday          00:08:00  Early Morning  \n",
       "120      Tuesday          00:15:00  Early Morning  \n",
       "121      Tuesday          00:26:00  Early Morning  \n",
       "122      Tuesday          00:30:00  Early Morning  \n",
       "123      Tuesday          00:37:00  Early Morning  \n",
       "...          ...               ...            ...  \n",
       "349725  Saturday          00:51:00  Early Morning  \n",
       "350253  Saturday          00:08:00  Early Morning  \n",
       "350254  Saturday          00:15:00  Early Morning  \n",
       "350255  Saturday          00:29:00  Early Morning  \n",
       "350256  Saturday          00:41:00  Early Morning  \n",
       "\n",
       "[4344 rows x 34 columns]"
      ]
     },
     "execution_count": 193,
     "metadata": {},
     "output_type": "execute_result"
    }
   ],
   "source": [
    "early = wego_df.loc[wego_df['time_of_day'] == 'Early Morning']\n",
    "early"
   ]
  },
  {
   "cell_type": "code",
   "execution_count": 194,
   "id": "fbd5efa3-c0b6-4b06-9c85-748341615793",
   "metadata": {},
   "outputs": [
    {
     "data": {
      "text/html": [
       "<div>\n",
       "<style scoped>\n",
       "    .dataframe tbody tr th:only-of-type {\n",
       "        vertical-align: middle;\n",
       "    }\n",
       "\n",
       "    .dataframe tbody tr th {\n",
       "        vertical-align: top;\n",
       "    }\n",
       "\n",
       "    .dataframe thead th {\n",
       "        text-align: right;\n",
       "    }\n",
       "</style>\n",
       "<table border=\"1\" class=\"dataframe\">\n",
       "  <thead>\n",
       "    <tr style=\"text-align: right;\">\n",
       "      <th></th>\n",
       "      <th>ROUTE_ABBR</th>\n",
       "      <th>count</th>\n",
       "    </tr>\n",
       "  </thead>\n",
       "  <tbody>\n",
       "    <tr>\n",
       "      <th>0</th>\n",
       "      <td>52</td>\n",
       "      <td>776</td>\n",
       "    </tr>\n",
       "    <tr>\n",
       "      <th>1</th>\n",
       "      <td>23</td>\n",
       "      <td>676</td>\n",
       "    </tr>\n",
       "    <tr>\n",
       "      <th>2</th>\n",
       "      <td>56</td>\n",
       "      <td>628</td>\n",
       "    </tr>\n",
       "    <tr>\n",
       "      <th>3</th>\n",
       "      <td>55</td>\n",
       "      <td>597</td>\n",
       "    </tr>\n",
       "    <tr>\n",
       "      <th>4</th>\n",
       "      <td>50</td>\n",
       "      <td>523</td>\n",
       "    </tr>\n",
       "    <tr>\n",
       "      <th>5</th>\n",
       "      <td>3</td>\n",
       "      <td>520</td>\n",
       "    </tr>\n",
       "    <tr>\n",
       "      <th>6</th>\n",
       "      <td>22</td>\n",
       "      <td>416</td>\n",
       "    </tr>\n",
       "    <tr>\n",
       "      <th>7</th>\n",
       "      <td>7</td>\n",
       "      <td>208</td>\n",
       "    </tr>\n",
       "  </tbody>\n",
       "</table>\n",
       "</div>"
      ],
      "text/plain": [
       "   ROUTE_ABBR  count\n",
       "0          52    776\n",
       "1          23    676\n",
       "2          56    628\n",
       "3          55    597\n",
       "4          50    523\n",
       "5           3    520\n",
       "6          22    416\n",
       "7           7    208"
      ]
     },
     "execution_count": 194,
     "metadata": {},
     "output_type": "execute_result"
    }
   ],
   "source": [
    "early['ROUTE_ABBR'].value_counts().reset_index()"
   ]
  },
  {
   "cell_type": "code",
   "execution_count": 195,
   "id": "690b2e2d-457e-4b19-86df-9a5ae76737d2",
   "metadata": {},
   "outputs": [
    {
     "data": {
      "text/plain": [
       "count         350329\n",
       "unique            61\n",
       "top       2023-09-15\n",
       "freq            6541\n",
       "Name: DATE, dtype: object"
      ]
     },
     "execution_count": 195,
     "metadata": {},
     "output_type": "execute_result"
    }
   ],
   "source": [
    "wego_df.DATE.describe()"
   ]
  },
  {
   "cell_type": "code",
   "execution_count": null,
   "id": "1102aba6-6228-4f4f-b651-581f889dfc2a",
   "metadata": {},
   "outputs": [],
   "source": []
  }
 ],
 "metadata": {
  "kernelspec": {
   "display_name": "Python 3 (ipykernel)",
   "language": "python",
   "name": "python3"
  },
  "language_info": {
   "codemirror_mode": {
    "name": "ipython",
    "version": 3
   },
   "file_extension": ".py",
   "mimetype": "text/x-python",
   "name": "python",
   "nbconvert_exporter": "python",
   "pygments_lexer": "ipython3",
   "version": "3.11.7"
  }
 },
 "nbformat": 4,
 "nbformat_minor": 5
}
